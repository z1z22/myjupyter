{
 "cells": [
  {
   "cell_type": "code",
   "execution_count": 11,
   "metadata": {},
   "outputs": [
    {
     "data": {
      "text/plain": [
       "[1, 4, 9, 16, 25, 36]"
      ]
     },
     "execution_count": 11,
     "metadata": {},
     "output_type": "execute_result"
    }
   ],
   "source": [
    "list(map(lambda x: x**2,[1,2,3,4,5,6,]))"
   ]
  },
  {
   "cell_type": "code",
   "execution_count": 12,
   "metadata": {},
   "outputs": [
    {
     "data": {
      "text/plain": [
       "29"
      ]
     },
     "execution_count": 12,
     "metadata": {},
     "output_type": "execute_result"
    }
   ],
   "source": [
    "sum1 = lambda x,y ,z:x**2+y**2+z**2\n",
    "sum1(2,3,4)"
   ]
  },
  {
   "cell_type": "code",
   "execution_count": 5,
   "metadata": {},
   "outputs": [
    {
     "data": {
      "text/plain": [
       "38"
      ]
     },
     "execution_count": 5,
     "metadata": {},
     "output_type": "execute_result"
    }
   ],
   "source": [
    "sum1(2,3,5)"
   ]
  },
  {
   "cell_type": "code",
   "execution_count": 11,
   "metadata": {},
   "outputs": [
    {
     "data": {
      "text/plain": [
       "[1, 3, 5, 7, 9, 11, 13, 15, 17, 19]"
      ]
     },
     "execution_count": 11,
     "metadata": {},
     "output_type": "execute_result"
    }
   ],
   "source": [
    "list(filter(lambda x : x%2, range(1,20)))"
   ]
  },
  {
   "cell_type": "code",
   "execution_count": 10,
   "metadata": {},
   "outputs": [
    {
     "name": "stdout",
     "output_type": "stream",
     "text": [
      "2019-1-26\n"
     ]
    }
   ],
   "source": [
    "def my_now():\n",
    "    print('2019-1-26')\n",
    "f = my_now\n",
    "f()"
   ]
  },
  {
   "cell_type": "code",
   "execution_count": 12,
   "metadata": {},
   "outputs": [
    {
     "data": {
      "text/plain": [
       "'my_now'"
      ]
     },
     "execution_count": 12,
     "metadata": {},
     "output_type": "execute_result"
    }
   ],
   "source": [
    "my_now.__name__"
   ]
  },
  {
   "cell_type": "code",
   "execution_count": 11,
   "metadata": {},
   "outputs": [
    {
     "data": {
      "text/plain": [
       "'my_now'"
      ]
     },
     "execution_count": 11,
     "metadata": {},
     "output_type": "execute_result"
    }
   ],
   "source": [
    "f.__name__"
   ]
  },
  {
   "cell_type": "code",
   "execution_count": 14,
   "metadata": {},
   "outputs": [
    {
     "name": "stdout",
     "output_type": "stream",
     "text": [
      "Sat Jan 26 22:02:08 2019\n",
      "hello world\n"
     ]
    }
   ],
   "source": [
    "import time\n",
    "def time1(func):\n",
    "    print(time.ctime())\n",
    "    return func()\n",
    "@time1\n",
    "def xxx():\n",
    "    print('hello world')"
   ]
  },
  {
   "cell_type": "code",
   "execution_count": 19,
   "metadata": {},
   "outputs": [
    {
     "data": {
      "text/plain": [
       "341"
      ]
     },
     "execution_count": 19,
     "metadata": {},
     "output_type": "execute_result"
    }
   ],
   "source": [
    "int('101010101',2)"
   ]
  },
  {
   "cell_type": "code",
   "execution_count": 20,
   "metadata": {},
   "outputs": [
    {
     "data": {
      "text/plain": [
       "298"
      ]
     },
     "execution_count": 20,
     "metadata": {},
     "output_type": "execute_result"
    }
   ],
   "source": [
    "def int2(x,base = 2):\n",
    "    return int(x,base)\n",
    "int2('100101010')"
   ]
  },
  {
   "cell_type": "code",
   "execution_count": 29,
   "metadata": {},
   "outputs": [
    {
     "data": {
      "text/plain": [
       "1126445635"
      ]
     },
     "execution_count": 29,
     "metadata": {},
     "output_type": "execute_result"
    }
   ],
   "source": [
    "import functools\n",
    "int16 =functools.partial(int,base=16)\n",
    "\n",
    "int16('43243243')"
   ]
  },
  {
   "cell_type": "markdown",
   "metadata": {},
   "source": [
    "简单总结functools.partial的作用就是，把一个函数的某些参数给固定住（也就是设置默认值），返回一个新的函数，调用这个新函数会更简单。"
   ]
  },
  {
   "cell_type": "markdown",
   "metadata": {},
   "source": [
    "map+lambda"
   ]
  },
  {
   "cell_type": "code",
   "execution_count": 34,
   "metadata": {},
   "outputs": [
    {
     "data": {
      "text/plain": [
       "[1000, 8000, 27000, 64000, 125000, 216000, 343000, 512000, 729000]"
      ]
     },
     "execution_count": 34,
     "metadata": {},
     "output_type": "execute_result"
    }
   ],
   "source": [
    "list(map(lambda x:x**3,range(10,100,10)))"
   ]
  },
  {
   "cell_type": "code",
   "execution_count": 51,
   "metadata": {},
   "outputs": [
    {
     "data": {
      "text/plain": [
       "123456789"
      ]
     },
     "execution_count": 51,
     "metadata": {},
     "output_type": "execute_result"
    }
   ],
   "source": [
    "from functools import reduce\n",
    "reduce(lambda x,y: x*10+y, range(1,10))\n"
   ]
  },
  {
   "cell_type": "code",
   "execution_count": 3,
   "metadata": {},
   "outputs": [
    {
     "ename": "IndentationError",
     "evalue": "unindent does not match any outer indentation level (<tokenize>, line 22)",
     "output_type": "error",
     "traceback": [
      "\u001b[0;36m  File \u001b[0;32m\"<tokenize>\"\u001b[0;36m, line \u001b[0;32m22\u001b[0m\n\u001b[0;31m    headers = {'User-Agent': 'Mozilla/5.0 (Macintosh; Intel Mac OS X 10_13_6) AppleWebKit/537.36 (KHTML, like Gecko) Chrome/71.0.3578.98 Safari/537.36'}\u001b[0m\n\u001b[0m    ^\u001b[0m\n\u001b[0;31mIndentationError\u001b[0m\u001b[0;31m:\u001b[0m unindent does not match any outer indentation level\n"
     ]
    }
   ],
   "source": [
    "import urllib.request\n",
    "import urllib.parse\n",
    "import os\n",
    "\n",
    "\n",
    "#输入吧名,开始页,结束页.然后在当前文件夹中创建一个以吧名为名字的文件夹,里面是每一页的html内容,文件名是页码数.\n",
    "\n",
    "ba_name = 't'#input('吧名: ')\n",
    "start_page = 1 #int(input('起始页码: '))\n",
    "end_page = 5 # int(input('结束页吗: '))\n",
    "\n",
    "#创建文件夹\n",
    "os.makedir(ba_name)\n",
    "\n",
    "#https://tieba.baidu.com/f?ie=utf-8&kw=美女&pn=50\n",
    "url = 'https://tieba.baidu.com/f?ie=utf-8'\n",
    "for page in range(start_page,end_page+1):\n",
    "    data = {'kw': ba_name, 'pn': (page - 1) * 50,}\n",
    "    data = urllib.parse.urlencode(data)\n",
    "    url_t = url + data\n",
    "    print (url_t)\n",
    "    headers = {'User-Agent': 'Mozilla/5.0 (Macintosh; Intel Mac OS X 10_13_6) AppleWebKit/537.36 (KHTML, like Gecko) Chrome/71.0.3578.98 Safari/537.36'}\n",
    "    request = urllib.request.Request(url = url,headers = headers)\n",
    "    print('第%s页开始下载......' % page)\n",
    "    response = urllib.request.urlopen(request)\n",
    "    file_name = ba_name + '-' + str(page) + 'html'\n",
    "    file_path = ba_name + '/' + file_name\n",
    "    #写内容\n",
    "    with open(file_name,'wb') as fp:\n",
    "    \tfp.write(response.read())\n",
    "    print('第%s页结束下载' % page)"
   ]
  },
  {
   "cell_type": "code",
   "execution_count": 4,
   "metadata": {},
   "outputs": [
    {
     "data": {
      "text/plain": [
       "'posix'"
      ]
     },
     "execution_count": 4,
     "metadata": {},
     "output_type": "execute_result"
    }
   ],
   "source": [
    "import os\n",
    "os.name"
   ]
  },
  {
   "cell_type": "code",
   "execution_count": 5,
   "metadata": {},
   "outputs": [
    {
     "data": {
      "text/plain": [
       "posix.uname_result(sysname='Darwin', nodename='mac.local', release='17.7.0', version='Darwin Kernel Version 17.7.0: Wed Apr 24 21:17:24 PDT 2019; root:xnu-4570.71.45~1/RELEASE_X86_64', machine='x86_64')"
      ]
     },
     "execution_count": 5,
     "metadata": {},
     "output_type": "execute_result"
    }
   ],
   "source": [
    "os.uname()"
   ]
  },
  {
   "cell_type": "code",
   "execution_count": 6,
   "metadata": {},
   "outputs": [
    {
     "data": {
      "text/plain": [
       "environ{'TERM_PROGRAM': 'Apple_Terminal',\n",
       "        'SHELL': '/bin/bash',\n",
       "        'TERM': 'xterm-color',\n",
       "        'TMPDIR': '/var/folders/l7/d1pnsddn4wd3z6qry0tp5rvh0000gn/T/',\n",
       "        'CONDA_SHLVL': '1',\n",
       "        'Apple_PubSub_Socket_Render': '/private/tmp/com.apple.launchd.e2JZuKMKaK/Render',\n",
       "        'CONDA_PROMPT_MODIFIER': '(base) ',\n",
       "        'TERM_PROGRAM_VERSION': '404.1',\n",
       "        'TERM_SESSION_ID': '15EEACAF-F0FA-4494-9295-F3789334AE44',\n",
       "        'USER': 'mac',\n",
       "        'CONDA_EXE': '/Users/mac/anaconda3/bin/conda',\n",
       "        'SSH_AUTH_SOCK': '/private/tmp/com.apple.launchd.C0YPg2kJF5/Listeners',\n",
       "        '_CE_CONDA': '',\n",
       "        'PATH': '/Users/mac/anaconda3/bin:/Users/mac/anaconda3/bin:/Users/mac/anaconda3/condabin:/usr/local/bin:/usr/bin:/bin:/usr/sbin:/sbin:/usr/local/aria2/bin:/usr/local/bin/ChromeDriver:/usr/local/mysql/bin',\n",
       "        'CONDA_PREFIX': '/Users/mac/anaconda3',\n",
       "        'PWD': '/Users/mac',\n",
       "        'LANG': 'zh_CN.UTF-8',\n",
       "        'XPC_FLAGS': '0x0',\n",
       "        '_CE_M': '',\n",
       "        'XPC_SERVICE_NAME': '0',\n",
       "        'SHLVL': '1',\n",
       "        'HOME': '/Users/mac',\n",
       "        'LOGNAME': 'mac',\n",
       "        'CONDA_DEFAULT_ENV': 'base',\n",
       "        '_': '/Users/mac/anaconda3/bin/jupyter',\n",
       "        'JPY_PARENT_PID': '571',\n",
       "        'CLICOLOR': '1',\n",
       "        'PAGER': 'cat',\n",
       "        'GIT_PAGER': 'cat',\n",
       "        'MPLBACKEND': 'module://ipykernel.pylab.backend_inline'}"
      ]
     },
     "execution_count": 6,
     "metadata": {},
     "output_type": "execute_result"
    }
   ],
   "source": [
    "os.environ"
   ]
  },
  {
   "cell_type": "code",
   "execution_count": 7,
   "metadata": {},
   "outputs": [
    {
     "data": {
      "text/plain": [
       "<module 'posixpath' from '/Users/mac/anaconda3/lib/python3.7/posixpath.py'>"
      ]
     },
     "execution_count": 7,
     "metadata": {},
     "output_type": "execute_result"
    }
   ],
   "source": [
    "os.path"
   ]
  },
  {
   "cell_type": "code",
   "execution_count": 8,
   "metadata": {},
   "outputs": [
    {
     "data": {
      "text/plain": [
       "'/Users/mac/python/jupyter'"
      ]
     },
     "execution_count": 8,
     "metadata": {},
     "output_type": "execute_result"
    }
   ],
   "source": [
    "os.path.abspath('.')"
   ]
  },
  {
   "cell_type": "code",
   "execution_count": 7,
   "metadata": {},
   "outputs": [],
   "source": [
    "import shutil"
   ]
  },
  {
   "cell_type": "code",
   "execution_count": 10,
   "metadata": {},
   "outputs": [
    {
     "data": {
      "text/plain": [
       "['ElectricCar.py',\n",
       " '4_ajax_get.py',\n",
       " 'victor.py',\n",
       " '1_exam.py',\n",
       " 'ordereddict.py',\n",
       " '7_xersi.py',\n",
       " '3_exam.py',\n",
       " 'pc1.py',\n",
       " 'battery.py',\n",
       " '2.py',\n",
       " 'pizza.py',\n",
       " 'huishu.py',\n",
       " '4_ajax_pose.py',\n",
       " 'class_icecream.py',\n",
       " 'my_abs.py',\n",
       " '3.py',\n",
       " 'animal.py',\n",
       " 'pdf.py',\n",
       " 'namelist.py',\n",
       " '7_handler.py',\n",
       " 'test.py',\n",
       " '2_exam.py',\n",
       " '5_tieba.py',\n",
       " 'map.py',\n",
       " 'json_username.py',\n",
       " 'car.py',\n",
       " '3_fanyi.py',\n",
       " '4.py',\n",
       " 'people.py',\n",
       " '1111.py',\n",
       " 'restaurant.py',\n",
       " 'admin.py',\n",
       " '5.py',\n",
       " 'pc2.py',\n",
       " 'user4.py',\n",
       " '7_renren.py',\n",
       " '1.py',\n",
       " 'dog.py',\n",
       " '1pc.py',\n",
       " '5_daili.py',\n",
       " 'icecream.py',\n",
       " '2_youdao_post.py',\n",
       " 'text3.py',\n",
       " 'now3.py',\n",
       " '4_exam.py',\n",
       " 'name.py',\n",
       " 'students.py',\n",
       " 'my_math.py',\n",
       " 'list_1.py',\n",
       " 'plt.py',\n",
       " 'my_tesla_car.py',\n",
       " '2_post_fanyi.py']"
      ]
     },
     "execution_count": 10,
     "metadata": {},
     "output_type": "execute_result"
    }
   ],
   "source": [
    "[x for x in os.listdir('.') if os.path.isfile(x) and os.path.splitext(x)[1]=='.py']"
   ]
  }
 ],
 "metadata": {
  "kernelspec": {
   "display_name": "Python 3",
   "language": "python",
   "name": "python3"
  },
  "language_info": {
   "codemirror_mode": {
    "name": "ipython",
    "version": 3
   },
   "file_extension": ".py",
   "mimetype": "text/x-python",
   "name": "python",
   "nbconvert_exporter": "python",
   "pygments_lexer": "ipython3",
   "version": "3.7.6"
  }
 },
 "nbformat": 4,
 "nbformat_minor": 2
}
