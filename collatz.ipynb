{
 "cells": [
  {
   "cell_type": "code",
   "execution_count": 6,
   "metadata": {},
   "outputs": [],
   "source": [
    "def collatz(number):\n",
    "        if number == 0:\n",
    "            return 1\n",
    "        elif number%2 == 0:\n",
    "            return(number // 2)   \n",
    "        else:\n",
    "            return(number * 3 +1)\n",
    "           \n",
    "    \n",
    "           "
   ]
  },
  {
   "cell_type": "code",
   "execution_count": 15,
   "metadata": {},
   "outputs": [
    {
     "name": "stdout",
     "output_type": "stream",
     "text": [
      "2956\n",
      "1478\n",
      "739\n",
      "2218\n",
      "1109\n",
      "3328\n",
      "1664\n",
      "832\n",
      "416\n",
      "208\n",
      "104\n",
      "52\n",
      "26\n",
      "13\n",
      "40\n",
      "20\n",
      "10\n",
      "5\n",
      "16\n",
      "8\n",
      "4\n",
      "2\n",
      "1\n",
      "count：23times.\n"
     ]
    }
   ],
   "source": [
    "i=985\n",
    "n = 0\n",
    "while i != 1:\n",
    "    i = collatz(i)\n",
    "    n += 1\n",
    "    print(i)\n",
    "print(\"count：{}times.\".format(n))\n"
   ]
  },
  {
   "cell_type": "code",
   "execution_count": 7,
   "metadata": {},
   "outputs": [
    {
     "ename": "SyntaxError",
     "evalue": "unexpected EOF while parsing (<ipython-input-7-5ec745ab00af>, line 5)",
     "output_type": "error",
     "traceback": [
      "\u001b[0;36m  File \u001b[0;32m\"<ipython-input-7-5ec745ab00af>\"\u001b[0;36m, line \u001b[0;32m5\u001b[0m\n\u001b[0;31m    totlesize = totlesize + os.path.getsize(os.path.join('/users/mac/python', filename)\u001b[0m\n\u001b[0m                                                                                        ^\u001b[0m\n\u001b[0;31mSyntaxError\u001b[0m\u001b[0;31m:\u001b[0m unexpected EOF while parsing\n"
     ]
    }
   ],
   "source": [
    "import os\n",
    "\n",
    "totlesize = 0\n",
    "for filename in os.listdir('/users/mac/python'): \n",
    "    totlesize = totlesize + os.path.getsize(os.path.join('/users/mac/python', filename) \n"
   ]
  },
  {
   "cell_type": "code",
   "execution_count": 10,
   "metadata": {},
   "outputs": [
    {
     "data": {
      "text/plain": [
       "'/Users/mac/python/jupyter'"
      ]
     },
     "execution_count": 10,
     "metadata": {},
     "output_type": "execute_result"
    }
   ],
   "source": [
    "import os\n",
    "\n",
    "os.getcwd()\n",
    "\n"
   ]
  },
  {
   "cell_type": "code",
   "execution_count": 11,
   "metadata": {},
   "outputs": [
    {
     "data": {
      "text/plain": [
       "['暑期学而思.ipynb',\n",
       " '算法与优化.ipynb',\n",
       " '函数基础.ipynb',\n",
       " '文件操作.ipynb',\n",
       " '面向对象编程.ipynb',\n",
       " 'timg.jpeg',\n",
       " '.DS_Store',\n",
       " 'dbookmini.json',\n",
       " 're.ipynb',\n",
       " '字典.ipynb',\n",
       " 'new1.ipynb',\n",
       " 'pandas3.ipynb',\n",
       " '实例.ipynb',\n",
       " 'matplotlib.ipynb',\n",
       " '魔法函数.ipynb',\n",
       " 'numpy练习.ipynb',\n",
       " 'IO.ipynb',\n",
       " '神经网络.ipynb',\n",
       " 'dump.txt',\n",
       " 'dbookmini_xin.json',\n",
       " 'doubanbook.csv',\n",
       " '99chengfabiao.ipynb',\n",
       " 'while循环.ipynb',\n",
       " 'pandas_3.ipynb',\n",
       " 'pandas_missing_values.ipynb',\n",
       " 'numpy.ipynb',\n",
       " 'python基础.ipynb',\n",
       " 'collatz.ipynb',\n",
       " '字符编码.ipynb',\n",
       " '.ipynb_checkpoints',\n",
       " 'math.ipynb',\n",
       " 'doubanbook.xlsx',\n",
       " '学习.ipynb',\n",
       " '常用的内置模块.ipynb',\n",
       " 'hmac 和 itertools.ipynb',\n",
       " '高级编程.ipynb',\n",
       " '函数.ipynb',\n",
       " 'pandas.ipynb',\n",
       " '生成数据.ipynb',\n",
       " '类.ipynb']"
      ]
     },
     "execution_count": 11,
     "metadata": {},
     "output_type": "execute_result"
    }
   ],
   "source": [
    "os.listdir('/Users/mac/python/jupyter')"
   ]
  },
  {
   "cell_type": "code",
   "execution_count": 13,
   "metadata": {},
   "outputs": [
    {
     "ename": "SyntaxError",
     "evalue": "invalid syntax (<ipython-input-13-3998e9d19b77>, line 1)",
     "output_type": "error",
     "traceback": [
      "\u001b[0;36m  File \u001b[0;32m\"<ipython-input-13-3998e9d19b77>\"\u001b[0;36m, line \u001b[0;32m1\u001b[0m\n\u001b[0;31m    with open(''/Users/mac/python/jupyter/marh.ipynb'', 'r') as f:\u001b[0m\n\u001b[0m                                                     ^\u001b[0m\n\u001b[0;31mSyntaxError\u001b[0m\u001b[0;31m:\u001b[0m invalid syntax\n"
     ]
    }
   ],
   "source": [
    "with open(''/Users/mac/python/jupyter/marh.ipynb'', 'r') as f:\n",
    "    f.read()\n",
    "    "
   ]
  },
  {
   "cell_type": "code",
   "execution_count": null,
   "metadata": {},
   "outputs": [],
   "source": []
  }
 ],
 "metadata": {
  "kernelspec": {
   "display_name": "Python 3",
   "language": "python",
   "name": "python3"
  },
  "language_info": {
   "codemirror_mode": {
    "name": "ipython",
    "version": 3
   },
   "file_extension": ".py",
   "mimetype": "text/x-python",
   "name": "python",
   "nbconvert_exporter": "python",
   "pygments_lexer": "ipython3",
   "version": "3.7.3"
  }
 },
 "nbformat": 4,
 "nbformat_minor": 2
}
