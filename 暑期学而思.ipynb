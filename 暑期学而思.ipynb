{
 "cells": [
  {
   "cell_type": "markdown",
   "metadata": {},
   "source": [
    "# 第一讲：怀质抱真（8级教程P33）"
   ]
  },
  {
   "cell_type": "markdown",
   "metadata": {},
   "source": [
    "### 1、质数定义\n",
    "因数：1和他本身\n",
    "2是唯一的偶数质数。"
   ]
  },
  {
   "cell_type": "code",
   "execution_count": 15,
   "metadata": {},
   "outputs": [
    {
     "name": "stdout",
     "output_type": "stream",
     "text": [
      "[2, 3, 5, 7, 11, 13, 17, 19, 23, 29, 31, 37, 41, 43, 47, 53, 59, 61, 67, 71, 73, 79, 83, 89, 97]\n",
      "你要找的质数共25个。\n"
     ]
    }
   ],
   "source": [
    "zhishu =[]\n",
    "for i in range(2, 100):\n",
    "    for n in range(2,i):\n",
    "        if i%n == 0:\n",
    "            break\n",
    "    if i%n !=0:\n",
    "        zhishu.append(i)\n",
    "#         print(i, end = ',  ')\n",
    "print(zhishu)\n",
    "print ('你要找的质数共{}个。'.format(len(zhishu)))\n"
   ]
  },
  {
   "cell_type": "markdown",
   "metadata": {},
   "source": [
    "### 2、合数定义\n",
    "\n",
    "1和他本身以外，至少还有一个因数。\n",
    "0，1既不是质数也不是合数。"
   ]
  },
  {
   "cell_type": "markdown",
   "metadata": {},
   "source": [
    "### 3、质数的判断\n",
    "质数P，方法1：找到离P最近的平方数N的平方，用所有小于N的质数去试除P。\n",
    "（例题3）\n",
    "方法2: 整除特征，熟练3、7、11、13的整除特征，只要能被整除，就是合数。\n",
    "方法3:牢记一些常用的合数。91 =7x 13， 1001=7x11x13，  1003 = 17 x 59\n"
   ]
  },
  {
   "cell_type": "markdown",
   "metadata": {},
   "source": [
    "### 整除特征：\n",
    "#### 1、尾组：‘2’和‘5’、‘4’和‘25’、‘8’和‘125’\n",
    "#### 2、和组：‘3’和‘9’\n",
    "#### 3、差组：‘11’\n",
    "              ‘7’和‘13’\n",
    "              注意‘11’既可以一断法也可以三断法"
   ]
  },
  {
   "cell_type": "markdown",
   "metadata": {},
   "source": [
    "### 4、最特殊的质数 2 （例题4）\n",
    "质数的特点，除了1和5，其余质数个位只能是1、3、7、9"
   ]
  },
  {
   "cell_type": "markdown",
   "metadata": {},
   "source": [
    "# 第二讲，分久必合9级P91页第13讲"
   ]
  },
  {
   "cell_type": "markdown",
   "metadata": {},
   "source": [
    "### 1、分解质因数\n",
    "定义，将合数拆成若干个质数相乘（9级教程P45页名师点拨）"
   ]
  },
  {
   "cell_type": "markdown",
   "metadata": {},
   "source": [
    "### 2、方法\n",
    "短除法\n"
   ]
  },
  {
   "cell_type": "markdown",
   "metadata": {},
   "source": [
    "短除法：30=2✖️3✖️5，  12 = 2✖️2✖️3"
   ]
  },
  {
   "cell_type": "code",
   "execution_count": 7,
   "metadata": {},
   "outputs": [
    {
     "name": "stdout",
     "output_type": "stream",
     "text": [
      "输入任意正整数： 345\n",
      "23能分解为[3, 5, 23]\n"
     ]
    }
   ],
   "source": [
    "\n",
    "b=int(input('输入任意正整数： '))\n",
    "mylist=[]\n",
    "def func(a):\n",
    "    for i in range(2,a):\n",
    "        if a%i==0:\n",
    "            mylist.append(i)\n",
    "            a=a//i\n",
    "            return func(a)\n",
    "    mylist.append(a)\n",
    "    if len(mylist)>1:\n",
    "        print('{}能分解为{}'.format(a,mylist))\n",
    "    else:\n",
    "        print('{}是质数'.format(a))\n",
    "        \n",
    "func(b)"
   ]
  },
  {
   "cell_type": "markdown",
   "metadata": {},
   "source": [
    "# 第三讲，有条不紊  9级P25页第4讲枚举法"
   ]
  },
  {
   "cell_type": "markdown",
   "metadata": {},
   "source": [
    "### 1、基本概念\n",
    "枚举法：有序，分类，不重，不漏。"
   ]
  },
  {
   "cell_type": "markdown",
   "metadata": {},
   "source": [
    "### 2、应用\n",
    "例题1-6   \n",
    "⭐️树形图"
   ]
  },
  {
   "cell_type": "markdown",
   "metadata": {},
   "source": [
    "# 第四讲，因小见大9级P91页第13讲"
   ]
  },
  {
   "cell_type": "markdown",
   "metadata": {},
   "source": [
    "## 1、因数和倍数的定义（P97页名师点拨）\n",
    "2、最大公因数，最小公倍数\n",
    "https://www.iqiyi.com/w_19s7dg5q7t.html"
   ]
  },
  {
   "cell_type": "markdown",
   "metadata": {},
   "source": [
    "### 最大公因数\n",
    "1、分解质数因数法\n",
    "2、短除法\n",
    "3、辗转相除法\n"
   ]
  },
  {
   "cell_type": "code",
   "execution_count": 11,
   "metadata": {},
   "outputs": [
    {
     "name": "stdout",
     "output_type": "stream",
     "text": [
      "输入第一个数字: 35\n",
      "输入第二个数字: 45\n",
      "35 和 45 的公因数为 [1, 5]\n",
      "35 和 45 的最大公因数为 5\n"
     ]
    }
   ],
   "source": [
    "def hcf(x, y):\n",
    "   \"\"\"返回两个数的公因数\"\"\"\n",
    " \n",
    "   # 获取最小值\n",
    "   if x > y:\n",
    "       smaller = y\n",
    "   else:\n",
    "       smaller = x\n",
    "   hcf=[]\n",
    " \n",
    "   for i in range(1,smaller + 1):\n",
    "       if((x % i == 0) and (y % i == 0)):\n",
    "           hcf.append(i)\n",
    " \n",
    "   return hcf\n",
    " \n",
    " \n",
    "# 用户输入两个数字\n",
    "num1 = int(input(\"输入第一个数字: \"))\n",
    "num2 = int(input(\"输入第二个数字: \"))\n",
    "\n",
    "print( num1,\"和\", num2,\"的公因数为\", hcf(num1, num2))\n",
    "print( num1,\"和\", num2,\"的最大公因数为\", max(hcf(num1, num2)))\n"
   ]
  },
  {
   "cell_type": "code",
   "execution_count": null,
   "metadata": {},
   "outputs": [],
   "source": [
    "from functools import reduce\n",
    "'''求几个数的最大公因数'''\n",
    "# s_list = [] #创建列表存储输入的数字\n",
    "# x = 1\n",
    "# while x != \"q\":\n",
    "#     x = input('请输入数字, q开始计算:')\n",
    "#     if x != 'q':\n",
    "#         s_list.append(int(x))\n",
    "\n",
    "# l_list = []#创建列表存储所有数的因数\n",
    "# for i in s_list:\n",
    "#     r_list = []#创建列表存储每个数的因数    \n",
    "#     for n in range(1, i+1):\n",
    "#         if  i % n == 0:\n",
    "#             r_list.append(n)\n",
    "#     l_list.append(r_list)\n",
    "def fenjie(i):\n",
    "    r_list = []#创建列表存储每个数的因数    \n",
    "    for n in range(1, i+1):\n",
    "        if  i % n == 0:\n",
    "            r_list.append(n)\n",
    "    return r_list\n",
    "    \n",
    "def f(x , y):\n",
    "    #创建函数求列表的交集\n",
    "    return list(set(x) & set(y))\n",
    "# def main():\n",
    "s_list = [] #创建列表存储输入的数字\n",
    "x = 1\n",
    "while x != \"q\":\n",
    "    x = input('请输入数字, q开始计算:')\n",
    "    if x != 'q':\n",
    "        s_list.append(int(x))\n",
    "l_list = map(fenjie, s_list)\n",
    "result = reduce(f, l_list)  #用reduce计算所有列表交集\n",
    "print('{}的公因数是{}, 最大公因数是{}'.format(str(s_list), str(result), str(max(result))\n"
   ]
  },
  {
   "cell_type": "markdown",
   "metadata": {},
   "source": [
    "### 最小公倍数\n",
    "方法：1、分解质因数法，2、短除法，3、公式法\n",
    "注意（    ）表示最大公因数，[    ]表示最小公倍数"
   ]
  },
  {
   "cell_type": "code",
   "execution_count": 7,
   "metadata": {},
   "outputs": [
    {
     "name": "stdout",
     "output_type": "stream",
     "text": [
      "输入第一个数字: 5\n",
      "输入第二个数字: 7\n",
      "5 和 7 的最小公被数为 35\n"
     ]
    }
   ],
   "source": [
    "def gbs(x, y):\n",
    "   \"\"\"返回两个数的最小公倍数\"\"\"\n",
    " \n",
    "   # 获取最大值\n",
    " \n",
    "   for i in range(1 , x * y + 1):\n",
    "       if((i % x == 0) and (i % y == 0)):\n",
    "        return i\n",
    " \n",
    " \n",
    "# 用户输入两个数字\n",
    "num1 = int(input(\"输入第一个数字: \"))\n",
    "num2 = int(input(\"输入第二个数字: \"))\n",
    "\n",
    "print( num1,\"和\", num2,\"的最小公被数为\", gbs(num1, num2))\n",
    "\n"
   ]
  },
  {
   "cell_type": "markdown",
   "metadata": {},
   "source": [
    "# 第五讲， 成双作对\n"
   ]
  },
  {
   "cell_type": "markdown",
   "metadata": {},
   "source": [
    "### 两个以上的书求公因数，公倍数"
   ]
  },
  {
   "cell_type": "markdown",
   "metadata": {},
   "source": [
    "# 第六讲，同等对待"
   ]
  },
  {
   "cell_type": "markdown",
   "metadata": {},
   "source": [
    "### 解方程的步骤"
   ]
  },
  {
   "cell_type": "markdown",
   "metadata": {},
   "source": [
    "#### 1、审：审题，找到等量关系\n",
    "2、设：设未知数\n",
    "\n",
    "3、列：列方程\n",
    "\n",
    "4、解：解方程\n",
    "\n",
    "5、答：验算并回答题目要求的问题。"
   ]
  },
  {
   "cell_type": "markdown",
   "metadata": {},
   "source": [
    "# 第七讲，第五种运算 8级P27第4讲"
   ]
  },
  {
   "cell_type": "markdown",
   "metadata": {},
   "source": [
    "## 一、乘方的概念"
   ]
  },
  {
   "cell_type": "markdown",
   "metadata": {},
   "source": [
    "## 1、定义：求n个相同因数的积的运算叫乘方，乘方的结果叫做幂，所以也叫幂运算"
   ]
  },
  {
   "cell_type": "markdown",
   "metadata": {},
   "source": [
    "### 规定a不等于0时，a ** 0 = 1"
   ]
  },
  {
   "cell_type": "code",
   "execution_count": 4,
   "metadata": {},
   "outputs": [
    {
     "name": "stdout",
     "output_type": "stream",
     "text": [
      "1\n"
     ]
    }
   ],
   "source": [
    "a = 100\n",
    "print(a**0)"
   ]
  },
  {
   "cell_type": "markdown",
   "metadata": {},
   "source": [
    "### 2、运算的优先级：乘方 > 乘（除）>加（减）"
   ]
  },
  {
   "cell_type": "markdown",
   "metadata": {},
   "source": [
    "## 二、乘方的运算法则"
   ]
  },
  {
   "cell_type": "markdown",
   "metadata": {},
   "source": [
    "### 1、a ** m  * a ** n = a **（m+n）同底数幂相乘，底数不变，质数相加"
   ]
  },
  {
   "cell_type": "markdown",
   "metadata": {},
   "source": [
    "### 2、a ** m  / a ** n = a **（m-n）同底数幂相除，底数不变，质数相减"
   ]
  },
  {
   "cell_type": "markdown",
   "metadata": {},
   "source": [
    "### 3、（a ** m）** n = a ** （m*n）幂的乘方，底数不变， 质数相乘"
   ]
  },
  {
   "cell_type": "markdown",
   "metadata": {},
   "source": [
    "### 4、（a * b) ** m = (a ** m) * (b ** m) 积的乘方，先把积中的每一个因数分别乘方，再把所得的幂相乘"
   ]
  },
  {
   "cell_type": "markdown",
   "metadata": {},
   "source": [
    "# 8、第十一讲，十拿9稳 9级P126第18讲  已讲"
   ]
  },
  {
   "cell_type": "markdown",
   "metadata": {},
   "source": [
    "# 9、第十二讲，川流不息 9级P119第17讲 已讲\n"
   ]
  },
  {
   "cell_type": "markdown",
   "metadata": {},
   "source": [
    "# 10、第八讲，顺理成章 10级P65第10讲"
   ]
  },
  {
   "cell_type": "code",
   "execution_count": null,
   "metadata": {},
   "outputs": [],
   "source": []
  },
  {
   "cell_type": "markdown",
   "metadata": {},
   "source": [
    "# 第九讲，镜里看花"
   ]
  },
  {
   "cell_type": "markdown",
   "metadata": {},
   "source": [
    "# 第十讲 年年有余 10级P95第14讲"
   ]
  },
  {
   "cell_type": "markdown",
   "metadata": {},
   "source": [
    "# 第十三讲，照猫画虎7级P66第10讲初步，10级P16第3讲进阶"
   ]
  },
  {
   "cell_type": "markdown",
   "metadata": {},
   "source": [
    "# 第十四讲，重峦叠嶂    容斥问题  \n",
    "\n",
    "9级P76第11讲"
   ]
  },
  {
   "cell_type": "code",
   "execution_count": null,
   "metadata": {},
   "outputs": [],
   "source": []
  }
 ],
 "metadata": {
  "kernelspec": {
   "display_name": "Python 3",
   "language": "python",
   "name": "python3"
  },
  "language_info": {
   "codemirror_mode": {
    "name": "ipython",
    "version": 3
   },
   "file_extension": ".py",
   "mimetype": "text/x-python",
   "name": "python",
   "nbconvert_exporter": "python",
   "pygments_lexer": "ipython3",
   "version": "3.7.3"
  }
 },
 "nbformat": 4,
 "nbformat_minor": 2
}
