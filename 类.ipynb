{
 "cells": [
  {
   "cell_type": "markdown",
   "metadata": {},
   "source": [
    "面向对象编程"
   ]
  },
  {
   "cell_type": "code",
   "execution_count": 18,
   "metadata": {},
   "outputs": [
    {
     "name": "stdout",
     "output_type": "stream",
     "text": [
      "Xiaozhou is 5 years old.\n",
      "Xiaochen is 7 years old.\n",
      "Xiaozhou is now sitting.\n",
      "Xiaozhou rolled over.\n",
      "Xiaochen is now sitting.\n"
     ]
    }
   ],
   "source": [
    "class Dog():#创建dog类\n",
    "    def __init__(self, name, age):\n",
    "        '''初始化属性name和age'''\n",
    "        self.name = name\n",
    "        self.age = age\n",
    "        \n",
    "    def sit(self):\n",
    "        print(self.name.title() + \" is now sitting.\")\n",
    "        \n",
    "    def roll_over(self):\n",
    "        print(self.name.title() + ' rolled over.')\n",
    "\n",
    "        \n",
    "my_dog = Dog('xiaozhou', 5)\n",
    "your_dog = Dog('xiaochen', 7)\n",
    "\n",
    "print(my_dog.name.title() + \" is \" + str(my_dog.age)+' years old.')\n",
    "print(your_dog.name.title() + \" is \" + str(your_dog.age)+' years old.')\n",
    "\n",
    "my_dog.roll_over()\n",
    "your_dog.sit()"
   ]
  },
  {
   "cell_type": "code",
   "execution_count": 25,
   "metadata": {},
   "outputs": [
    {
     "name": "stdout",
     "output_type": "stream",
     "text": [
      "LilyLuck\n",
      "ChenZhou\n",
      "Lily is VIP.\n",
      "Wellcome Zhou\n"
     ]
    }
   ],
   "source": [
    "class User():\n",
    "    def __init__(self, first_name, last_name):\n",
    "        self.first_name = first_name\n",
    "        self.last_name = last_name\n",
    "        self.login_attempts = 0\n",
    "        \n",
    "    def describe_user(self):\n",
    "        print(self.first_name.title() + \" is VIP.\")\n",
    "        \n",
    "    def greet_user(self):\n",
    "        print('Wellcome ' + self.last_name.title())\n",
    "    \n",
    "    def increment_login_attempts(self, login):\n",
    "        pass\n",
    "              \n",
    "user_1 = User('lily', 'luck')\n",
    "user_2 = User('chen', 'zhou')\n",
    "\n",
    "print(user_1.first_name.title() + user_1.last_name.title())\n",
    "print(user_2.first_name.title() + user_2.last_name.title())\n",
    "user_1.describe_user()\n",
    "user_2.greet_user()\n"
   ]
  },
  {
   "cell_type": "code",
   "execution_count": 3,
   "metadata": {},
   "outputs": [
    {
     "name": "stdout",
     "output_type": "stream",
     "text": [
      "2016 Audi A4\n",
      "This car has 60500 miles on it.\n",
      "2015 Bmw X1\n",
      "This car has -50012 miles on it.\n"
     ]
    }
   ],
   "source": [
    "class Car():\n",
    "    def __init__(self, make, model, year):\n",
    "        self.make = make\n",
    "        self.model = model\n",
    "        self.year = year\n",
    "        self.odometer_reading = 0\n",
    "    \n",
    "    def get_descriptive(self):\n",
    "        long_name = str(self.year) + \" \" + self.make + ' ' + self.model\n",
    "        return long_name.title()\n",
    "    \n",
    "    def read_odometer(self):\n",
    "        print('This car has ' + str(self.odometer_reading) + ' miles on it.')\n",
    "        \n",
    "    def update_odometer(self, mileage):\n",
    "        '''将里程表读数设定为指定值'''\n",
    "        self.mileage = mileage\n",
    "        if mileage >= self.odometer_reading:\n",
    "            self.odometer_reading = mileage\n",
    "        else:\n",
    "            print('You can not roll back an odometer')\n",
    "    def increment_odometer(self, miles):\n",
    "        '''将里程表读书增加指定的量'''\n",
    "        self.odometer_reading += miles\n",
    "    \n",
    "    \n",
    "my_car1 = Car('audi', 'a4', 2016)\n",
    "my_car1.update_odometer(60000)#通过上面方法修改属性值\n",
    "my_car1.increment_odometer(500)\n",
    "\n",
    "\n",
    "my_car2 = Car('bmw', 'x1', 2015)\n",
    "my_car2.odometer_reading = -50012#直接修改属性的值\n",
    "\n",
    "\n",
    "print(my_car1.get_descriptive())\n",
    "my_car1.read_odometer()\n",
    "print(my_car2.get_descriptive())\n",
    "my_car2.read_odometer()\n"
   ]
  },
  {
   "cell_type": "markdown",
   "metadata": {},
   "source": [
    "# 类的继承"
   ]
  },
  {
   "cell_type": "code",
   "execution_count": 13,
   "metadata": {},
   "outputs": [
    {
     "name": "stdout",
     "output_type": "stream",
     "text": [
      "2018 Tesla Model S\n",
      "This cat has a 70kwh battery.\n"
     ]
    }
   ],
   "source": [
    "class Car():\n",
    "    '''父类的代码要放在子类的前面'''\n",
    "    def __init__(self, make, model, year):\n",
    "        self.make = make\n",
    "        self.model = model\n",
    "        self.year = year\n",
    "        self.odometer_reading = 0\n",
    "    \n",
    "    def get_descriptive(self):\n",
    "        long_name = str(self.year) + \" \" + self.make + ' ' + self.model\n",
    "        return long_name.title()\n",
    "    \n",
    "    def read_odometer(self):\n",
    "        print('This car has ' + str(self.odometer_reading) + ' miles on it.')\n",
    "        \n",
    "    def update_odometer(self, mileage):\n",
    "        '''将里程表读数设定为指定值'''\n",
    "        self.mileage = mileage\n",
    "        if mileage >= self.odometer_reading:\n",
    "            self.odometer_reading = mileage\n",
    "        else:\n",
    "            print('You can not roll back an odometer')\n",
    "    def increment_odometer(self, miles):\n",
    "        '''将里程表读书增加指定的量'''\n",
    "        self.odometer_reading += miles\n",
    "        \n",
    "class ElectricCar(Car):#类通常采用驼峰命名法\n",
    "    '''电动车继承汽车类'''\n",
    "    def __init__(self, make, model, year):\n",
    "        '''初始化父类的属性'''\n",
    "        super() .__init__(make, model, year)#super是一个特殊函数,作用是将父类和子类关联起来\n",
    "        '''定义子类特有的的属性和方法,如果不是特有的,应该加到父类'''\n",
    "        self.battery_size = 70\n",
    "    def describe_battery(self):\n",
    "        print('This cat has a ' + str(self.battery_size) + 'kwh battery.')\n",
    "    \n",
    "        \n",
    "my_tesla = ElectricCar('tesla', 'model s', 2018)\n",
    "print(my_tesla.get_descriptive())\n",
    "my_tesla.describe_battery()"
   ]
  },
  {
   "cell_type": "code",
   "execution_count": 33,
   "metadata": {},
   "outputs": [
    {
     "name": "stdout",
     "output_type": "stream",
     "text": [
      "2018 Tesla Model S\n",
      "This car has a 85kwh battery.\n",
      "This cat can go 270 mile on a full charge.\n"
     ]
    }
   ],
   "source": [
    "class Car():\n",
    "    '''父类的代码要放在子类的前面'''\n",
    "    def __init__(self, make, model, year):\n",
    "        self.make = make\n",
    "        self.model = model\n",
    "        self.year = year\n",
    "        self.odometer_reading = 0\n",
    "    \n",
    "    def get_descriptive(self):\n",
    "        long_name = str(self.year) + \" \" + self.make + ' ' + self.model\n",
    "        return long_name.title()\n",
    "    \n",
    "    def read_odometer(self):\n",
    "        print('This car has ' + str(self.odometer_reading) + ' miles on it.')\n",
    "        \n",
    "    def update_odometer(self, mileage):\n",
    "        '''将里程表读数设定为指定值'''\n",
    "        self.mileage = mileage\n",
    "        if mileage >= self.odometer_reading:\n",
    "            self.odometer_reading = mileage\n",
    "        else:\n",
    "            print('You can not roll back an odometer')\n",
    "    def increment_odometer(self, miles):\n",
    "        '''将里程表读书增加指定的量'''\n",
    "        self.odometer_reading += miles\n",
    "\n",
    "class Battery():\n",
    "    '''将子类电动车特有的属性单独归为一类'''\n",
    "    def __init__(self, battery_size=70):\n",
    "        self.battery_size = battery_size\n",
    "    \n",
    "    def describe_battery(self):\n",
    "        print(\"This car has a \" + str(self.battery_size) + 'kwh battery.')\n",
    "        \n",
    "    def get_range(self):\n",
    "        if self.battery_size == 70:\n",
    "            run = 240\n",
    "        elif self.battery_size ==85:\n",
    "            run = 270\n",
    "        message = \"This cat can go \" + str(run) \n",
    "        message += \" mile on a full charge.\"\n",
    "        print(message)\n",
    "        \n",
    "class ElectricCar(Car):\n",
    "    def __init__(self, make, model, year):\n",
    "        super().__init__(make, model, year)\n",
    "        self.battery = Battery()#继承battery类\n",
    "    \n",
    "my_tesla = ElectricCar('tesla', 'model s', 2018)\n",
    "my_tesla.battery.battery_size = 85\n",
    "\n",
    "print(my_tesla.get_descriptive())\n",
    "my_tesla.battery.describe_battery()\n",
    "my_tesla.battery.get_range()\n",
    "    "
   ]
  },
  {
   "cell_type": "code",
   "execution_count": 41,
   "metadata": {},
   "outputs": [
    {
     "ename": "ImportError",
     "evalue": "cannot import name 'ElectricCar' from 'car' (/Users/mac/python/car.py)",
     "output_type": "error",
     "traceback": [
      "\u001b[0;31m---------------------------------------------------------------------------\u001b[0m",
      "\u001b[0;31mImportError\u001b[0m                               Traceback (most recent call last)",
      "\u001b[0;32m<ipython-input-41-c6638bd7c48e>\u001b[0m in \u001b[0;36m<module>\u001b[0;34m\u001b[0m\n\u001b[0;32m----> 1\u001b[0;31m \u001b[0;32mfrom\u001b[0m \u001b[0mcar\u001b[0m \u001b[0;32mimport\u001b[0m \u001b[0mElectricCar\u001b[0m\u001b[0;34m\u001b[0m\u001b[0;34m\u001b[0m\u001b[0m\n\u001b[0m\u001b[1;32m      2\u001b[0m \u001b[0;34m\u001b[0m\u001b[0m\n\u001b[1;32m      3\u001b[0m \u001b[0mmy_tesla\u001b[0m \u001b[0;34m=\u001b[0m \u001b[0mElectricCar\u001b[0m\u001b[0;34m(\u001b[0m\u001b[0;34m'tesla'\u001b[0m\u001b[0;34m,\u001b[0m \u001b[0;34m'model s'\u001b[0m\u001b[0;34m,\u001b[0m \u001b[0;36m2018\u001b[0m\u001b[0;34m)\u001b[0m\u001b[0;34m\u001b[0m\u001b[0;34m\u001b[0m\u001b[0m\n\u001b[1;32m      4\u001b[0m \u001b[0mmy_tesla\u001b[0m\u001b[0;34m.\u001b[0m\u001b[0mbattery\u001b[0m\u001b[0;34m.\u001b[0m\u001b[0mbattery_size\u001b[0m \u001b[0;34m=\u001b[0m \u001b[0;36m85\u001b[0m\u001b[0;34m\u001b[0m\u001b[0;34m\u001b[0m\u001b[0m\n\u001b[1;32m      5\u001b[0m \u001b[0;34m\u001b[0m\u001b[0m\n",
      "\u001b[0;31mImportError\u001b[0m: cannot import name 'ElectricCar' from 'car' (/Users/mac/python/car.py)"
     ]
    }
   ],
   "source": [
    "from car import ElectricCar\n",
    "    \n",
    "my_tesla = ElectricCar('tesla', 'model s', 2018)\n",
    "my_tesla.battery.battery_size = 85\n",
    "\n",
    "print(my_tesla.get_descriptive())\n",
    "my_tesla.battery.describe_battery()\n",
    "my_tesla.battery.get_range()"
   ]
  },
  {
   "cell_type": "code",
   "execution_count": null,
   "metadata": {},
   "outputs": [],
   "source": []
  }
 ],
 "metadata": {
  "kernelspec": {
   "display_name": "Python 3",
   "language": "python",
   "name": "python3"
  },
  "language_info": {
   "codemirror_mode": {
    "name": "ipython",
    "version": 3
   },
   "file_extension": ".py",
   "mimetype": "text/x-python",
   "name": "python",
   "nbconvert_exporter": "python",
   "pygments_lexer": "ipython3",
   "version": "3.7.1"
  }
 },
 "nbformat": 4,
 "nbformat_minor": 2
}
