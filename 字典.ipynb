{
 "cells": [
  {
   "cell_type": "markdown",
   "metadata": {},
   "source": [
    "字典"
   ]
  },
  {
   "cell_type": "code",
   "execution_count": 24,
   "metadata": {},
   "outputs": [],
   "source": [
    "user_favorites = {\n",
    "    'lily': 'python',\n",
    "    'zhouzhu': 'swimming',\n",
    "    'renze': 'running',\n",
    "    'mam': 'computer',\n",
    "    'xiaoniao': 'lashi'\n",
    "    }\n"
   ]
  },
  {
   "cell_type": "code",
   "execution_count": 25,
   "metadata": {},
   "outputs": [
    {
     "name": "stdout",
     "output_type": "stream",
     "text": [
      "Python\n"
     ]
    }
   ],
   "source": [
    "print(user_favorites['lily'].title())"
   ]
  },
  {
   "cell_type": "code",
   "execution_count": 26,
   "metadata": {},
   "outputs": [
    {
     "name": "stdout",
     "output_type": "stream",
     "text": [
      "SWIMMING\n"
     ]
    }
   ],
   "source": [
    "print(user_favorites['zhouzhu'].upper())"
   ]
  },
  {
   "cell_type": "code",
   "execution_count": 27,
   "metadata": {},
   "outputs": [],
   "source": [
    "user_favorites['kaishi'] = 'C++'"
   ]
  },
  {
   "cell_type": "code",
   "execution_count": 28,
   "metadata": {},
   "outputs": [
    {
     "name": "stdout",
     "output_type": "stream",
     "text": [
      "{'lily': 'python', 'zhouzhu': 'swimming', 'renze': 'running', 'mam': 'computer', 'xiaoniao': 'lashi', 'kaishi': 'C++'}\n"
     ]
    }
   ],
   "source": [
    "print(user_favorites)"
   ]
  },
  {
   "cell_type": "code",
   "execution_count": 29,
   "metadata": {},
   "outputs": [],
   "source": [
    "user_favorites['zhouzhu'] = 'python'"
   ]
  },
  {
   "cell_type": "code",
   "execution_count": 30,
   "metadata": {},
   "outputs": [
    {
     "name": "stdout",
     "output_type": "stream",
     "text": [
      "{'lily': 'python', 'zhouzhu': 'python', 'renze': 'running', 'mam': 'computer', 'xiaoniao': 'lashi', 'kaishi': 'C++'}\n"
     ]
    }
   ],
   "source": [
    "print(user_favorites)"
   ]
  },
  {
   "cell_type": "code",
   "execution_count": 31,
   "metadata": {},
   "outputs": [],
   "source": [
    "del user_favorites['kaishi']"
   ]
  },
  {
   "cell_type": "code",
   "execution_count": 32,
   "metadata": {},
   "outputs": [
    {
     "name": "stdout",
     "output_type": "stream",
     "text": [
      "{'lily': 'python', 'zhouzhu': 'python', 'renze': 'running', 'mam': 'computer', 'xiaoniao': 'lashi'}\n"
     ]
    }
   ],
   "source": [
    "print(user_favorites)"
   ]
  },
  {
   "cell_type": "code",
   "execution_count": 37,
   "metadata": {},
   "outputs": [
    {
     "name": "stdout",
     "output_type": "stream",
     "text": [
      "Lily likes PYTHON\n",
      "Zhouzhu likes PYTHON\n",
      "Renze likes RUNNING\n",
      "Mam likes COMPUTER\n",
      "Xiaoniao likes LASHI\n"
     ]
    }
   ],
   "source": [
    "for k, v in user_favorites.items():#items()键值都去\n",
    "    print(k.title() + ' likes ' + v.upper())"
   ]
  },
  {
   "cell_type": "code",
   "execution_count": 49,
   "metadata": {},
   "outputs": [
    {
     "name": "stdout",
     "output_type": "stream",
     "text": [
      "Lily\n",
      "Zhouzhu\n",
      "Renze\n",
      "Mam\n",
      "Xiaoniao\n"
     ]
    }
   ],
   "source": [
    "for key in user_favorites.keys():\n",
    "    print(key.title())"
   ]
  },
  {
   "cell_type": "code",
   "execution_count": 40,
   "metadata": {},
   "outputs": [
    {
     "name": "stdout",
     "output_type": "stream",
     "text": [
      "Python\n",
      "Python\n",
      "Running\n",
      "Computer\n",
      "Lashi\n"
     ]
    }
   ],
   "source": [
    "for v in user_favorites.values():\n",
    "    print(v.title())"
   ]
  },
  {
   "cell_type": "code",
   "execution_count": 44,
   "metadata": {},
   "outputs": [
    {
     "name": "stdout",
     "output_type": "stream",
     "text": [
      "Lily\n",
      "Mam\n",
      "Renze\n",
      "Xiaoniao\n",
      "Zhouzhu\n"
     ]
    }
   ],
   "source": [
    "for k in sorted(user_favorites):  #sorted() 排序\n",
    "    print(k.title())"
   ]
  },
  {
   "cell_type": "code",
   "execution_count": 48,
   "metadata": {},
   "outputs": [
    {
     "name": "stdout",
     "output_type": "stream",
     "text": [
      "LASHI\n",
      "RUNNING\n",
      "COMPUTER\n",
      "PYTHON\n"
     ]
    }
   ],
   "source": [
    "for v in set(user_favorites.values()):  #set()去重复\n",
    "    print(v.upper())"
   ]
  },
  {
   "cell_type": "code",
   "execution_count": 51,
   "metadata": {},
   "outputs": [],
   "source": [
    "class_1 = {'banzhuren': 'li', 'favorites':user_favorites}#字典套字典"
   ]
  },
  {
   "cell_type": "code",
   "execution_count": 52,
   "metadata": {},
   "outputs": [
    {
     "name": "stdout",
     "output_type": "stream",
     "text": [
      "{'banzhuren': 'li', 'favorites': {'lily': 'python', 'zhouzhu': 'python', 'renze': 'running', 'mam': 'computer', 'xiaoniao': 'lashi'}}\n"
     ]
    }
   ],
   "source": [
    "print(class_1)"
   ]
  },
  {
   "cell_type": "code",
   "execution_count": 56,
   "metadata": {},
   "outputs": [
    {
     "name": "stdout",
     "output_type": "stream",
     "text": [
      "{'color': 'green', 'score': 10, 'speed': 'slow'}\n",
      "{'color': 'green', 'score': 10, 'speed': 'slow'}\n",
      "{'color': 'green', 'score': 10, 'speed': 'slow'}\n",
      "{'color': 'green', 'score': 10, 'speed': 'slow'}\n",
      "{'color': 'green', 'score': 10, 'speed': 'slow'}\n"
     ]
    }
   ],
   "source": [
    "robots = []\n",
    "for robot_number in range(50):\n",
    "    new_robot = {'color': 'green', 'score': 10, 'speed': 'slow'}\n",
    "    robots.append(new_robot)\n",
    "for robot in robots[:5]:\n",
    "    print(robot)"
   ]
  },
  {
   "cell_type": "code",
   "execution_count": 57,
   "metadata": {},
   "outputs": [
    {
     "data": {
      "text/plain": [
       "50"
      ]
     },
     "execution_count": 57,
     "metadata": {},
     "output_type": "execute_result"
    }
   ],
   "source": [
    "len(robots)"
   ]
  },
  {
   "cell_type": "code",
   "execution_count": null,
   "metadata": {},
   "outputs": [],
   "source": []
  }
 ],
 "metadata": {
  "kernelspec": {
   "display_name": "Python 3",
   "language": "python",
   "name": "python3"
  },
  "language_info": {
   "codemirror_mode": {
    "name": "ipython",
    "version": 3
   },
   "file_extension": ".py",
   "mimetype": "text/x-python",
   "name": "python",
   "nbconvert_exporter": "python",
   "pygments_lexer": "ipython3",
   "version": "3.7.1"
  }
 },
 "nbformat": 4,
 "nbformat_minor": 2
}
