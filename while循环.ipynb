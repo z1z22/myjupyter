{
 "cells": [
  {
   "cell_type": "code",
   "execution_count": 1,
   "metadata": {},
   "outputs": [
    {
     "name": "stdout",
     "output_type": "stream",
     "text": [
      "0   1   2   3   4   "
     ]
    }
   ],
   "source": [
    "flag = True\n",
    "n = 0\n",
    "while flag:\n",
    "    print(n, end=\"   \")\n",
    "    n+=1\n",
    "    if n == 5:\n",
    "        #break\n",
    "        flag = False"
   ]
  },
  {
   "cell_type": "markdown",
   "metadata": {},
   "source": [
    "输入创建列表"
   ]
  },
  {
   "cell_type": "code",
   "execution_count": 6,
   "metadata": {},
   "outputs": [
    {
     "name": "stdout",
     "output_type": "stream",
     "text": [
      "please input your name('q' to exit): fdasf\n",
      "Fdasf\n",
      "please input your name('q' to exit): dfdas\n",
      "Dfdas\n",
      "please input your name('q' to exit): fasfda\n",
      "Fasfda\n",
      "please input your name('q' to exit): fdas\n",
      "Fdas\n",
      "please input your name('q' to exit): q\n",
      "['fdasf', 'dfdas', 'fasfda', 'fdas']\n"
     ]
    }
   ],
   "source": [
    "flag = True\n",
    "students = []\n",
    "while flag:\n",
    "    name = input('please input your name(\\'q\\' to exit): ')\n",
    "    if name != 'q':\n",
    "        students_1 = students.append(name)\n",
    "        print(name.title())\n",
    "    if name == 'q':\n",
    "        flag = False\n",
    "print(students)"
   ]
  },
  {
   "cell_type": "markdown",
   "metadata": {},
   "source": [
    "输入创建字典"
   ]
  },
  {
   "cell_type": "code",
   "execution_count": 1,
   "metadata": {},
   "outputs": [
    {
     "name": "stdout",
     "output_type": "stream",
     "text": [
      "Input your name('q' to exit): zhouzhu\n",
      "Input your favorite sport: swim\n",
      "Zhouzhu likes Swim\n",
      "Input your name('q' to exit): lily\n",
      "Input your favorite sport: kiss\n",
      "Lily likes Kiss\n",
      "Input your name('q' to exit): chen\n",
      "Input your favorite sport: run\n",
      "Chen likes Run\n",
      "Input your name('q' to exit): q\n",
      "{'zhouzhu': 'swim', 'lily': 'kiss', 'chen': 'run'}\n"
     ]
    }
   ],
   "source": [
    "flag = True\n",
    "students = {}\n",
    "\n",
    "while flag:\n",
    "    name = input('Input your name(\\'q\\' to exit): ')\n",
    "    if name == 'q':\n",
    "        break\n",
    "        \n",
    "    else:\n",
    "        sport = input('Input your favorite sport: ')\n",
    "        students[name] = sport\n",
    "        print(name.title() + ' likes ' + sport.title())\n",
    "\n",
    "print(students)"
   ]
  },
  {
   "cell_type": "code",
   "execution_count": null,
   "metadata": {},
   "outputs": [],
   "source": []
  }
 ],
 "metadata": {
  "kernelspec": {
   "display_name": "Python 3",
   "language": "python",
   "name": "python3"
  },
  "language_info": {
   "codemirror_mode": {
    "name": "ipython",
    "version": 3
   },
   "file_extension": ".py",
   "mimetype": "text/x-python",
   "name": "python",
   "nbconvert_exporter": "python",
   "pygments_lexer": "ipython3",
   "version": "3.7.1"
  }
 },
 "nbformat": 4,
 "nbformat_minor": 2
}
