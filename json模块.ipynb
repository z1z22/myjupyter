{
 "cells": [
  {
   "cell_type": "code",
   "execution_count": null,
   "metadata": {},
   "outputs": [],
   "source": []
  },
  {
   "cell_type": "code",
   "execution_count": 1,
   "metadata": {},
   "outputs": [
    {
     "name": "stdout",
     "output_type": "stream",
     "text": [
      "2020-04-20 21:32:35.198939\n",
      "20\n",
      "Monday\n"
     ]
    }
   ],
   "source": [
    "import datetime\n",
    "a = datetime.datetime.now()\n",
    "print(a)\n",
    "print(a.day)\n",
    "print(a.strftime('%A'))"
   ]
  },
  {
   "cell_type": "markdown",
   "metadata": {},
   "source": [
    "strftime() 方法\n",
    "datetime 对象拥有把日期对象格式化为可读字符串的方法。\n",
    "该方法称为 strftime()，并使用一个 format 参数来指定返回字符串的格式："
   ]
  },
  {
   "cell_type": "code",
   "execution_count": 2,
   "metadata": {},
   "outputs": [
    {
     "name": "stdout",
     "output_type": "stream",
     "text": [
      "{'name': 'Bill', 'age': 63, 'city': 'Seatle'}\n",
      "Bill\n",
      "Bill\n"
     ]
    }
   ],
   "source": [
    "import json\n",
    "\n",
    "# 一些 JSON 字符串:\n",
    "x =  '{ \"name\":\"Bill\", \"age\":63, \"city\":\"Seatle\"}'\n",
    "\n",
    "# 解析 x:\n",
    "y = json.loads(x)\n",
    "\n",
    "# 结果是 Python 字典：\n",
    "print(y)\n",
    "print(y['name'])\n",
    "print(y.get('name'))\n"
   ]
  },
  {
   "cell_type": "code",
   "execution_count": 3,
   "metadata": {},
   "outputs": [
    {
     "name": "stdout",
     "output_type": "stream",
     "text": [
      "{\"name\": \"Bill\", \"age\": 63, \"city\": \"Seatle\"}\n",
      "<class 'str'>\n",
      "<class 'dict'>\n"
     ]
    }
   ],
   "source": [
    "x =  { \"name\":\"Bill\", \"age\":63, \"city\":\"Seatle\"}\n",
    "\n",
    "y = json.dumps(x)\n",
    "\n",
    "print(y)\n",
    "print(type(y))\n",
    "print(type(x))\n",
    "\n"
   ]
  },
  {
   "cell_type": "code",
   "execution_count": 4,
   "metadata": {},
   "outputs": [
    {
     "name": "stdout",
     "output_type": "stream",
     "text": [
      "{\n",
      "    \"name\": \"Bill\",\n",
      "    \"age\": 63,\n",
      "    \"married\": true,\n",
      "    \"divorced\": false,\n",
      "    \"children\": [\n",
      "        \"Jennifer\",\n",
      "        \"Rory\",\n",
      "        \"Phoebe\"\n",
      "    ],\n",
      "    \"pets\": null,\n",
      "    \"cars\": [\n",
      "        {\n",
      "            \"model\": \"Porsche\",\n",
      "            \"mpg\": 38.2\n",
      "        },\n",
      "        {\n",
      "            \"model\": \"BMW M5\",\n",
      "            \"mpg\": 26.9\n",
      "        }\n",
      "    ]\n",
      "}\n"
     ]
    }
   ],
   "source": [
    "import json\n",
    "\n",
    "x = {\n",
    "  \"name\": \"Bill\",\n",
    "  \"age\": 63,\n",
    "  \"married\": True,\n",
    "  \"divorced\": False,\n",
    "  \"children\": (\"Jennifer\",\"Rory\",\"Phoebe\"),\n",
    "  \"pets\": None,\n",
    "  \"cars\": [\n",
    "    {\"model\": \"Porsche\", \"mpg\": 38.2},\n",
    "    {\"model\": \"BMW M5\", \"mpg\": 26.9}\n",
    "  ]\n",
    "}\n",
    "\n",
    "print(json.dumps(x,indent = 4))"
   ]
  },
  {
   "cell_type": "code",
   "execution_count": 58,
   "metadata": {},
   "outputs": [
    {
     "name": "stdout",
     "output_type": "stream",
     "text": [
      "{\n",
      "    \"name\" = \"Bill\". \n",
      "    \"age\" = 63. \n",
      "    \"married\" = true. \n",
      "    \"divorced\" = false. \n",
      "    \"children\" = [\n",
      "        \"Jennifer\". \n",
      "        \"Rory\". \n",
      "        \"Phoebe\"\n",
      "    ]. \n",
      "    \"pets\" = null. \n",
      "    \"cars\" = [\n",
      "        {\n",
      "            \"model\" = \"Porsche\". \n",
      "            \"mpg\" = 38.2\n",
      "        }. \n",
      "        {\n",
      "            \"model\" = \"BMW M5\". \n",
      "            \"mpg\" = 26.9\n",
      "        }\n",
      "    ]\n",
      "}\n"
     ]
    }
   ],
   "source": [
    "import json\n",
    "\n",
    "x = {\n",
    "  \"name\": \"Bill\",\n",
    "  \"age\": 63,\n",
    "  \"married\": True,\n",
    "  \"divorced\": False,\n",
    "  \"children\": (\"Jennifer\",\"Rory\",\"Phoebe\"),\n",
    "  \"pets\": None,\n",
    "  \"cars\": [\n",
    "    {\"model\": \"Porsche\", \"mpg\": 38.2},\n",
    "    {\"model\": \"BMW M5\", \"mpg\": 26.9}\n",
    "  ]\n",
    "}\n",
    "\n",
    "y = json.dumps(x, indent=4, separators=(\". \", \" = \"))\n",
    "print(y)\n"
   ]
  },
  {
   "cell_type": "code",
   "execution_count": 60,
   "metadata": {},
   "outputs": [
    {
     "name": "stdout",
     "output_type": "stream",
     "text": [
      "{\n",
      "    \"age\": 63,\n",
      "    \"cars\": [\n",
      "        {\n",
      "            \"model\": \"Porsche\",\n",
      "            \"mpg\": 38.2\n",
      "        },\n",
      "        {\n",
      "            \"model\": \"BMW M5\",\n",
      "            \"mpg\": 26.9\n",
      "        }\n",
      "    ],\n",
      "    \"children\": [\n",
      "        \"Jennifer\",\n",
      "        \"Rory\",\n",
      "        \"Phoebe\"\n",
      "    ],\n",
      "    \"divorced\": false,\n",
      "    \"married\": true,\n",
      "    \"name\": \"Bill\",\n",
      "    \"pets\": null\n",
      "}\n"
     ]
    }
   ],
   "source": [
    "import json\n",
    "\n",
    "x = {\n",
    "  \"name\": \"Bill\",\n",
    "  \"age\": 63,\n",
    "  \"married\": True,\n",
    "  \"divorced\": False,\n",
    "  \"children\": (\"Jennifer\",\"Rory\",\"Phoebe\"),\n",
    "  \"pets\": None,\n",
    "  \"cars\": [\n",
    "    {\"model\": \"Porsche\", \"mpg\": 38.2},\n",
    "    {\"model\": \"BMW M5\", \"mpg\": 26.9}\n",
    "  ]\n",
    "}\n",
    "\n",
    "y = json.dumps(x, indent=4, sort_keys = True)\n",
    "print(y)"
   ]
  },
  {
   "cell_type": "code",
   "execution_count": 5,
   "metadata": {},
   "outputs": [
    {
     "name": "stdout",
     "output_type": "stream",
     "text": [
      "<re.Match object; span=(0, 24), match='China is a great country'>\n"
     ]
    }
   ],
   "source": [
    "import re\n",
    "\n",
    "txt = \"China is a great country\"\n",
    "x = re.search(\"^China.*country$\", txt)\n",
    "print(x)"
   ]
  },
  {
   "cell_type": "code",
   "execution_count": null,
   "metadata": {},
   "outputs": [],
   "source": []
  }
 ],
 "metadata": {
  "kernelspec": {
   "display_name": "Python 3",
   "language": "python",
   "name": "python3"
  },
  "language_info": {
   "codemirror_mode": {
    "name": "ipython",
    "version": 3
   },
   "file_extension": ".py",
   "mimetype": "text/x-python",
   "name": "python",
   "nbconvert_exporter": "python",
   "pygments_lexer": "ipython3",
   "version": "3.7.6"
  }
 },
 "nbformat": 4,
 "nbformat_minor": 2
}
