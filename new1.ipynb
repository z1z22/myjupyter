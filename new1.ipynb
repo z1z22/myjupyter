{
 "cells": [
  {
   "cell_type": "code",
   "execution_count": 1,
   "metadata": {},
   "outputs": [
    {
     "name": "stdout",
     "output_type": "stream",
     "text": [
      "Hello, zhouzrenze\n"
     ]
    }
   ],
   "source": [
    "print('Hello, zhouzrenze')"
   ]
  },
  {
   "cell_type": "code",
   "execution_count": 2,
   "metadata": {},
   "outputs": [
    {
     "data": {
      "text/plain": [
       "579"
      ]
     },
     "execution_count": 2,
     "metadata": {},
     "output_type": "execute_result"
    }
   ],
   "source": [
    "456+123"
   ]
  },
  {
   "cell_type": "code",
   "execution_count": 4,
   "metadata": {},
   "outputs": [
    {
     "ename": "SyntaxError",
     "evalue": "invalid syntax (<ipython-input-4-702edc6b2e9e>, line 1)",
     "output_type": "error",
     "traceback": [
      "\u001b[0;36m  File \u001b[0;32m\"<ipython-input-4-702edc6b2e9e>\"\u001b[0;36m, line \u001b[0;32m1\u001b[0m\n\u001b[0;31m    + - * /  **\u001b[0m\n\u001b[0m        ^\u001b[0m\n\u001b[0;31mSyntaxError\u001b[0m\u001b[0;31m:\u001b[0m invalid syntax\n"
     ]
    }
   ],
   "source": [
    " + - * /  **"
   ]
  },
  {
   "cell_type": "code",
   "execution_count": 3,
   "metadata": {},
   "outputs": [
    {
     "data": {
      "text/plain": [
       "9"
      ]
     },
     "execution_count": 3,
     "metadata": {},
     "output_type": "execute_result"
    }
   ],
   "source": [
    "3**2"
   ]
  },
  {
   "cell_type": "code",
   "execution_count": 4,
   "metadata": {},
   "outputs": [
    {
     "data": {
      "text/plain": [
       "1302.0"
      ]
     },
     "execution_count": 4,
     "metadata": {},
     "output_type": "execute_result"
    }
   ],
   "source": [
    "(345+89)*6/2"
   ]
  },
  {
   "cell_type": "code",
   "execution_count": 7,
   "metadata": {},
   "outputs": [
    {
     "data": {
      "text/plain": [
       "1.5"
      ]
     },
     "execution_count": 7,
     "metadata": {},
     "output_type": "execute_result"
    }
   ],
   "source": [
    "3/2"
   ]
  },
  {
   "cell_type": "code",
   "execution_count": 8,
   "metadata": {},
   "outputs": [
    {
     "data": {
      "text/plain": [
       "1"
      ]
     },
     "execution_count": 8,
     "metadata": {},
     "output_type": "execute_result"
    }
   ],
   "source": [
    "3//2"
   ]
  },
  {
   "cell_type": "code",
   "execution_count": 9,
   "metadata": {},
   "outputs": [
    {
     "data": {
      "text/plain": [
       "3"
      ]
     },
     "execution_count": 9,
     "metadata": {},
     "output_type": "execute_result"
    }
   ],
   "source": [
    "15//4"
   ]
  },
  {
   "cell_type": "code",
   "execution_count": 10,
   "metadata": {},
   "outputs": [
    {
     "data": {
      "text/plain": [
       "3"
      ]
     },
     "execution_count": 10,
     "metadata": {},
     "output_type": "execute_result"
    }
   ],
   "source": [
    "15%4"
   ]
  },
  {
   "cell_type": "code",
   "execution_count": 11,
   "metadata": {},
   "outputs": [
    {
     "data": {
      "text/plain": [
       "[1, 4, 9, 16, 25, 36]"
      ]
     },
     "execution_count": 11,
     "metadata": {},
     "output_type": "execute_result"
    }
   ],
   "source": [
    "list(map(lambda x: x**2,[1,2,3,4,5,6,]))"
   ]
  },
  {
   "cell_type": "code",
   "execution_count": 12,
   "metadata": {},
   "outputs": [
    {
     "data": {
      "text/plain": [
       "29"
      ]
     },
     "execution_count": 12,
     "metadata": {},
     "output_type": "execute_result"
    }
   ],
   "source": [
    "sum1 = lambda x,y ,z:x**2+y**2+z**2\n",
    "sum1(2,3,4)"
   ]
  },
  {
   "cell_type": "code",
   "execution_count": 5,
   "metadata": {},
   "outputs": [
    {
     "data": {
      "text/plain": [
       "38"
      ]
     },
     "execution_count": 5,
     "metadata": {},
     "output_type": "execute_result"
    }
   ],
   "source": [
    "sum1(2,3,5)"
   ]
  },
  {
   "cell_type": "code",
   "execution_count": 11,
   "metadata": {},
   "outputs": [
    {
     "data": {
      "text/plain": [
       "[1, 3, 5, 7, 9, 11, 13, 15, 17, 19]"
      ]
     },
     "execution_count": 11,
     "metadata": {},
     "output_type": "execute_result"
    }
   ],
   "source": [
    "list(filter(lambda x : x%2, range(1,20)))"
   ]
  },
  {
   "cell_type": "code",
   "execution_count": 10,
   "metadata": {},
   "outputs": [
    {
     "name": "stdout",
     "output_type": "stream",
     "text": [
      "2019-1-26\n"
     ]
    }
   ],
   "source": [
    "def my_now():\n",
    "    print('2019-1-26')\n",
    "f = my_now\n",
    "f()"
   ]
  },
  {
   "cell_type": "code",
   "execution_count": null,
   "metadata": {},
   "outputs": [],
   "source": []
  },
  {
   "cell_type": "code",
   "execution_count": 12,
   "metadata": {},
   "outputs": [
    {
     "data": {
      "text/plain": [
       "'my_now'"
      ]
     },
     "execution_count": 12,
     "metadata": {},
     "output_type": "execute_result"
    }
   ],
   "source": [
    "my_now.__name__"
   ]
  },
  {
   "cell_type": "code",
   "execution_count": 11,
   "metadata": {},
   "outputs": [
    {
     "data": {
      "text/plain": [
       "'my_now'"
      ]
     },
     "execution_count": 11,
     "metadata": {},
     "output_type": "execute_result"
    }
   ],
   "source": [
    "f.__name__"
   ]
  },
  {
   "cell_type": "code",
   "execution_count": 14,
   "metadata": {},
   "outputs": [
    {
     "name": "stdout",
     "output_type": "stream",
     "text": [
      "Sat Jan 26 22:02:08 2019\n",
      "hello world\n"
     ]
    }
   ],
   "source": [
    "import time\n",
    "def time1(func):\n",
    "    print(time.ctime())\n",
    "    return func()\n",
    "@time1\n",
    "def xxx():\n",
    "    print('hello world')"
   ]
  },
  {
   "cell_type": "code",
   "execution_count": 19,
   "metadata": {},
   "outputs": [
    {
     "data": {
      "text/plain": [
       "341"
      ]
     },
     "execution_count": 19,
     "metadata": {},
     "output_type": "execute_result"
    }
   ],
   "source": [
    "int('101010101',2)"
   ]
  },
  {
   "cell_type": "code",
   "execution_count": 20,
   "metadata": {},
   "outputs": [
    {
     "data": {
      "text/plain": [
       "298"
      ]
     },
     "execution_count": 20,
     "metadata": {},
     "output_type": "execute_result"
    }
   ],
   "source": [
    "def int2(x,base = 2):\n",
    "    return int(x,base)\n",
    "int2('100101010')"
   ]
  },
  {
   "cell_type": "code",
   "execution_count": 29,
   "metadata": {},
   "outputs": [
    {
     "data": {
      "text/plain": [
       "1126445635"
      ]
     },
     "execution_count": 29,
     "metadata": {},
     "output_type": "execute_result"
    }
   ],
   "source": [
    "import functools\n",
    "int16 =functools.partial(int,base=16)\n",
    "\n",
    "int16('43243243')"
   ]
  },
  {
   "cell_type": "markdown",
   "metadata": {},
   "source": [
    "简单总结functools.partial的作用就是，把一个函数的某些参数给固定住（也就是设置默认值），返回一个新的函数，调用这个新函数会更简单。"
   ]
  },
  {
   "cell_type": "markdown",
   "metadata": {},
   "source": [
    "map+lambda"
   ]
  },
  {
   "cell_type": "code",
   "execution_count": 34,
   "metadata": {},
   "outputs": [
    {
     "data": {
      "text/plain": [
       "[1000, 8000, 27000, 64000, 125000, 216000, 343000, 512000, 729000]"
      ]
     },
     "execution_count": 34,
     "metadata": {},
     "output_type": "execute_result"
    }
   ],
   "source": [
    "list(map(lambda x:x**3,range(10,100,10)))"
   ]
  },
  {
   "cell_type": "code",
   "execution_count": 51,
   "metadata": {},
   "outputs": [
    {
     "data": {
      "text/plain": [
       "123456789"
      ]
     },
     "execution_count": 51,
     "metadata": {},
     "output_type": "execute_result"
    }
   ],
   "source": [
    "from functools import reduce\n",
    "reduce(lambda x,y: x*10+y, range(1,10))\n"
   ]
  },
  {
   "cell_type": "code",
   "execution_count": 1,
   "metadata": {},
   "outputs": [
    {
     "name": "stdout",
     "output_type": "stream",
     "text": [
      "<!DOCTYPE html><html lang=\"en\"><head><meta charset=\"utf-8\"><meta http-equiv=\"X-UA-Compatible\" content=\"IE=edge\"><meta name=\"viewport\" content=\"width=device-width, user-scalable=no\"><title>GitChat</title><meta name=\"description\" content=\"GitChat 是一款基于微信平台的知识分享产品。通过这款产品我们希望改变IT知识的学习方式。\"><meta name=\"robots\" content=\"index,follow\"><meta name=\"keywords\" content=\"GitChat,机器学习,大数据,程序员,用户体验,软件开发,知识付费,技术分享\"><meta name=\"baidu-site-verification\" content=\"BRkuL6TTfM\"><link href=\"/dist/site/gitbook/bundle1.css\" rel=\"stylesheet\"><script src=\"/dist/site/gitbook/js1.js\"></script><script src=\"/dist/gitbook/js/common.js\"></script><script src=\"/dist/js/jquery.lazyload.min.js\"></script><link href=\"/css/gitbook/common/common.css\" rel=\"stylesheet\"><link rel=\"icon\" type=\"image/png\" href=\"https://images.gitbook.cn/FrfR1mB39xM-U6iSAmDCpxWVxvoa\" sizes=\"16x16\"><link rel=\"icon\" type=\"image/png\" href=\"https://images.gitbook.cn/FrfR1mB39xM-U6iSAmDCpxWVxvoa\" sizes=\"32x32\"></head><link href=\"/dist/site/gitchat/bundle2.css\" rel=\"stylesheet\"><link rel=\"stylesheet\" href=\"/dist/gitchat/css/mazi.css\"><link rel=\"stylesheet\" href=\"/css/gitbook/indexGitChatV2.css\"><!--if isGuide--><!--    link(href='/dist/css/introjs.css', rel='stylesheet')--><script src=\"/dist/js/ScrollMagic.min.js\"></script><body style=\"background-color: rgb(245, 245, 245);overflow-x:hidden;\"><link rel=\"stylesheet\" href=\"/css/gitbook/topV6.css\"><div id=\"header\" class=\"headroom hidden-md hidden-lg top_box\"><div style=\"float: left;-webkit-animation-name:none;animation-name:none;\" class=\"container hidden-md hidden-lg hidden-sm\"><ul id=\"gn-menu\" class=\"gn-menu-main\"><li class=\"gn-trigger\"><a class=\"gn-icon gn-icon-menu\"><span>Menu</span></a><nav class=\"gn-menu-wrapper\"><div class=\"gn-scroller\"><ul style=\"border-bottom:0\" class=\"gn-menu\"><!--li.gn-search-item--><!--    input.gn-search(id='menuSearchInput' placeholder='文章搜索', type='search')--><!--    a.gn-icon.gn-icon-search--><!--        span Search--><li><a href=\"/\" class=\"icon lnr-home\">首 页</a></li><!--li--><!--    a.icon.lnr-home(style='font-weight:400', href='/gitchat/hot') 热门Chat--><li><a href=\"/gitchat/columns\" class=\"icon lnr-rocket\">课 程</a></li><li><a href=\"/gitchat/traincamps\" class=\"icon lnr-flag\">训 练 营        </a></li><li><a href=\"/gitchat/series/list\" class=\"icon lnr-diamond\">专 题</a></li><li><a href=\"/gitchat/geekbooks\" class=\"icon lnr-book\">电子书</a></li><!--li--><!--    a.icon.lnr-book(style='font-weight:400',href='/gitchat/recruits')  人才--><li><a href=\"/gitchat/vip\" class=\"icon lnr-diamond\">会 员</a></li><li><a href=\"/books/5b398139328f856827673b50/index.html\" class=\"icon lnr-earth\">关于我们</a></li><li><a class=\"icon lnr-text-align-justify\">活动分类</a><div class=\"activity_type clearfix\"><a href=\"/gitchat/categories/58e84f875295227534aad506/1\">前端</a><a href=\"/gitchat/categories/58e84f53ec8e9e7b34457809/2\">人工智能</a><a href=\"/gitchat/categories/58e84f6bad952d6b3428af9a/3\">架构</a><a href=\"/gitchat/categories/5953698a3d38293ecceacb89/4\">区块链</a><a href=\"/gitchat/categories/58e84f1584c651693437f27c/5\">职场</a><a href=\"/gitchat/categories/59c491948fee063dc3c447ab/6\">编程语言</a><a href=\"/gitchat/categories/58e84f31ad952d6b3428af99/7\">技术管理</a><a href=\"/gitchat/categories/58e84f7bec8e9e7b3445780d/8\">大数据</a><a href=\"/gitchat/categories/591171a3e692d5280d8157b6/9\">移动开发</a><a href=\"/gitchat/categories/58e84f2284c651693437f27d/10\">产品与运营</a><a href=\"/gitchat/categories/58e84f425295227534aad502/11\">测试</a><a href=\"/gitchat/categories/591f073981be962a981acf18/12\">安全</a><a href=\"/gitchat/categories/5901bd477b61a76bc4016423/13\">运维</a></div><div style=\"margin:0 auto;width:90%;margin-top: 180px;\"></div></li></ul></div></nav></li></ul></div><div class=\"top_logo_m\"><a href=\"/\"><img src=\"https://images.gitbook.cn/FnzjNghzs_ktFPUKeLaFX38rbNsL\"></a></div><div class=\"top_right\"><a id=\"loginBtn\" href=\"javascript:void(0)\" role=\"button\">登录 / 注册</a><a id=\"writeBtn\" href=\"javascript:void(0) return false;\" role=\"button\" class=\"hidden-xs top_write\"><img src=\"https://images.gitbook.cn/FlbRfjjaZ7IpO0wZSrLH1HCIxa1t\">写作</a><!--if !isLogin--><!--    a#newChatBtn.hidden-xs.btn.btn-default(style='display:inline-block;height:35px;color: #5f6f81;float:right;font-size:14px;\\--><!--                                border: 1px solid #d1d1d1;-webkit-border-radius: 25px;margin-right: 10px;', href='javascript:void(0) return false;', role='button')--><!--        | 发布Chat--><!--else--><a href=\"/new/gitchat/activity\" role=\"button\" class=\"hidden-xs top_publish\"><img src=\"https://images.gitbook.cn/FqG0F962PDGT8xRa0q78MUPhs-jf\">发布 Chat</a></div></div><div class=\"hidden-xs hidden-sm top_box\"><div style=\"margin:0 auto;max-width: 1180px;\"><img src=\"https://images.gitbook.cn/FlwunFEYz1fj4FVYp3TrhOZ4ZgP4?imageslim\" id=\"download_image\"><div class=\"top_logo\"><a href=\"/\"><img src=\"https://images.gitbook.cn/FnzjNghzs_ktFPUKeLaFX38rbNsL\"></a></div><div class=\"top_tabs\"><a href=\"/\" class=\"tab_select home_tab\">首 页</a><!--if(sortStr == 'hot')--><!--    div(style='display: inline-block;float: left;margin-left: 20px;width: 80px;height: 42px;margin-top: -29px;\\--><!--                border-bottom: 4px solid #646464;text-align: center;font-size: 16px;')--><!--        a(href='/gitchat/hot',style='color:#444444') 热门 Chat--><!--else--><!--    div(style='display: inline-block;float: left;margin-left: 20px;width: 80px;height: 42px;margin-top: -29px;\\--><!--                text-align: center;font-size: 16px;color: #646464')--><!--        a(href='/gitchat/hot') 热门 Chat--><a href=\"/gitchat/columns\" class=\"tab_no_select\">课 程</a><a href=\"/gitchat/traincamps\" class=\"tab_no_select\">训 练 营    </a><a href=\"/gitchat/series/list\" class=\"tab_no_select\">专 题   </a><a href=\"/gitchat/geekbooks\" class=\"tab_no_select\">电 子 书</a><!--if(sortStr == 'recruits')--><!--    div(style='display: inline-block;float: left;margin-left: 20px;width: 80px;height: 42px;margin-top: -29px;\\--><!--        border-bottom: 4px solid #646464;text-align: center;font-size: 16px;')--><!--        a(href='/gitchat/recruits',style='color:#444444') 人才--><!--else--><!--    div(style='display: inline-block;float: left;margin-left: 20px;width: 80px;height: 42px;margin-top: -29px;\\--><!--        text-align: center;font-size: 16px;')--><!--        a(href='/gitchat/recruits') 人才--><a href=\"/gitchat/vip\" class=\"tab_no_select\">会 员</a><!--div#aboutusNav(style='display: inline-block;float: left;margin-left: 20px;width: 90px;height: 42px;margin-top: -29px;\\--><!--        text-align: center;font-size: 16px;color: #646464')--><!--        a#aboutusLink(href='/aboutus') 关于我们--><!--div#contactUsNav(style='display: inline-block;float: left;margin-left: 20px;width: 90px;height: 42px;margin-top: -29px;\\--><!--                text-align: center;font-size: 16px;color: #646464')--><!--    a#contactUsLink(data-toggle=\"modal\" href=\"#contactUsModal\") 联系客服--><div class=\"search_box small_search\"><input id=\"rightTopSearchInput\" type=\"search\" placeholder=\"搜索\"><img src=\"https://images.gitbook.cn/Fmd1PsUVWoQsFv77f9NSt6jCi3EW\" class=\"top_search_img\"></div></div><div class=\"top_right\"><a id=\"loginBtn2\" href=\"javascript:void(0)\" role=\"button\">登录 / 注册</a><a id=\"writeBtn2\" href=\"javascript:void(0) return false;\" role=\"button\" class=\"hidden-xs top_write\"><img src=\"https://images.gitbook.cn/Fg_vm8snlWiYLraM7Xz7snFIJGk2\">写作</a><div class=\"right_line\"></div><!--if !isLogin--><!--    a#newChatBtn2.hidden-xs.btn.btn-default(style='display:inline-block;height:35px;color: #5f6f81;float:right;font-size:14px;\\--><!--                                        border: 1px solid #d1d1d1;-webkit-border-radius: 25px;margin-right: 10px;', href='javascript:void(0) return false;', role='button')--><!--        | 发布Chat--><!--else--><a href=\"/new/gitchat/activity\" role=\"button\" class=\"hidden-xs top_publish\"><img src=\"https://images.gitbook.cn/Fr00S_tdLGM-sQGvzdc9pbXCrVdF\">发布 Chat</a><div class=\"right_line\"></div><div class=\"hidden-xs download_app\"><img src=\"https://images.gitbook.cn/Frw3aLUJKDMp8xDEc_FNQtzrYRMZ\" class=\"down_new\"><img src=\"https://images.gitbook.cn/FtL6oL1rhSW8Zv-tzFqbOAQSJoSg\" id=\"download_icon\">下载 App<div class=\"down_line\"></div></div></div><div id=\"thumbClickMenuDIV\"><div><ul><li><a href=\"/gitchat/ordered\">已  购</a></li><li><a href=\"/gitchat/vip\">我的会员</a></li><li class=\"hidden-md hidden-lg hidden-sm\"><a href=\"javascript:myArtAlert()\">我的创作</a></li><li class=\"hidden-xs\"><a href=\"/mazi/my/activity\">我的创作</a></li><li class=\"hidden-xs\"><a href=\"/gitchat/coupons\">我的优惠券</a></li><!--if showRecruit--><!--    li.hidden-xs--><!--        a(href='/mazi/my/recruits') 我的招聘--><!--if showResume--><!--    li.hidden-xs--><!--        a(href='/mazi/resumes') 上传简历--><li><a onclick=\"configFun()\" href=\"#\" data-toggle=\"modal\" data-target=\"#authorModal\">个人设置</a></li><li><a href=\"/customers/logout\">退出登录</a></li></ul></div><s><i></i></s></div></div></div><div id=\"myArtsAlertModal\" style=\"margin-top: 100px;\" tabindex=\"-1\" role=\"dialog\" aria-labelledby=\"myModalLabel\" class=\"modal fade\"><div role=\"document\" class=\"modal-dialog\"><div class=\"modal-content\"><div class=\"modal-header\"><button type=\"button\" data-dismiss=\"modal\" aria-label=\"Close\" class=\"close\"><span aria-hidden=\"true\">×</span></button><h4 id=\"authorModalLabel\" class=\"modal-title\">提示</h4></div><div class=\"modal-body\"><div style=\"text-align:center;padding-top:10px;\">此功能目前只对PC端开放，请用PC访问网站 gitbook.cn</div></div><div style=\"margin-top: 20px;\" class=\"modal-footer\"><button type=\"button\" data-dismiss=\"modal\" class=\"btn btn-default\">返回</button></div></div></div></div><div id=\"newChatModal\" style=\"margin-top: 100px;\" tabindex=\"-1\" role=\"dialog\" aria-labelledby=\"myModalLabel\" class=\"modal fade\"><div role=\"document\" class=\"modal-dialog\"><div class=\"modal-content\"><div class=\"modal-header\"><button type=\"button\" data-dismiss=\"modal\" aria-label=\"Close\" class=\"close\"><span aria-hidden=\"true\">×</span></button><h4 id=\"newChatLabel\" style=\"text-align:center;\" class=\"modal-title\">微信扫码，发起Chat</h4></div><div class=\"modal-body\"><div style=\"text-align:center;\"><img src=\"https://images.gitbook.cn/new_chat_qr_code.jpg\" style=\"width:250px;margin-top:-10px;\"></div></div></div></div></div><div id=\"contactUsModal\" style=\"margin-top: 100px;\" tabindex=\"-1\" role=\"dialog\" aria-labelledby=\"myModalLabel\" class=\"modal fade\"><div role=\"document\" class=\"modal-dialog\"><div class=\"modal-content\"><div style=\"text-align:center;\" class=\"modal-header\"><h4 id=\"followWeixinModalLabel\" class=\"modal-title\">微信扫描二维码联系客服</h4></div><div style=\"padding:0;\" class=\"modal-body\"><div style=\"text-align:center;padding-top:10px;\"><img src=\"https://images.gitbook.cn/FrlpzkY_9jMjGMSgc4XQFrwy4xf3\" style=\"margin:5px;width:172px;height:172px;\"></div></div><div style=\"margin-top: 10px;text-align:center;\" class=\"modal-footer\"><button type=\"button\" data-dismiss=\"modal\" class=\"btn btn-default\">关闭</button></div></div></div><script>// grab an element\n",
      "var myElement = document.getElementById(\"header\");\n",
      "// construct an instance of Headroom, passing the element\n",
      "var headroom  = new Headroom(myElement);\n",
      "// initialise\n",
      "headroom.init();\n",
      "var isPublish = window.location.href.indexOf('new/gitchat/activity');\n",
      "var isWrite = window.location.href.indexOf('mazi/my/activity');\n",
      "$(function(){\n",
      "    if(isPublish != -1){\n",
      "        $('.top_publish').css('color','#222');\n",
      "        $('.top_publish>img').attr('src','https://images.gitbook.cn/FrSTUMUb5zYIvgSkQfawCwiS6yf_')\n",
      "    }else if(isWrite != -1){\n",
      "        $('.top_write').css('color','#222');\n",
      "        $('.top_write>img').attr('src','https://images.gitbook.cn/Fkqd7_S5kjO79B7z30-z-raHzyF8')\n",
      "    }\n",
      "})\n",
      "$('.top_search_img').on('click', function () {\n",
      "    var searchKey = $('#rightTopSearchInput').val();\n",
      "    window.open(\"/articles?search=\" + searchKey,\"_blank\");\n",
      "})\n",
      "$('.top_publish').hover(function(){\n",
      "    if(isPublish == -1){\n",
      "        $('.top_publish>img').attr('src','https://images.gitbook.cn/FrSTUMUb5zYIvgSkQfawCwiS6yf_')\n",
      "    }\n",
      "},function(){\n",
      "    if(isPublish == -1){\n",
      "        $('.top_publish>img').attr('src','https://images.gitbook.cn/Fr00S_tdLGM-sQGvzdc9pbXCrVdF')\n",
      "    }\n",
      "})\n",
      "$('.top_write').hover(function(){\n",
      "    if(isWrite == -1){\n",
      "        $('.top_write>img').attr('src','https://images.gitbook.cn/Fkqd7_S5kjO79B7z30-z-raHzyF8')\n",
      "    }\n",
      "},function(){\n",
      "    if(isWrite == -1){\n",
      "        $('.top_write>img').attr('src','https://images.gitbook.cn/Fg_vm8snlWiYLraM7Xz7snFIJGk2')\n",
      "    }\n",
      "})\n",
      "$('.download_app').hover(function(){\n",
      "    $('#download_icon').attr('src','https://images.gitbook.cn/Fi89_kU1_tS-Sm9wAN3_8nBOSr2v');\n",
      "    $('.down_line').show();\n",
      "    $('#download_image').fadeIn()\n",
      "},function(){\n",
      "    $('#download_icon').attr('src','https://images.gitbook.cn/FtL6oL1rhSW8Zv-tzFqbOAQSJoSg')\n",
      "    $('.down_line').hide();\n",
      "    $('#download_image').fadeOut()\n",
      "})</script></div><div class=\"my_container\"><div class=\"mainDiv\"><div style=\"border:0;margin-top:89px;padding:0 25px 0 25px;\" class=\"main_view\"></div><div class=\"mazi-activity-container index_container\"><!--.hidden-md.hidden-lg.searchWrapper.input-group(style=\"height: 46px;width: 100%;\")--><!--    form(onsubmit=\"return false\")--><!--        input#mobileSearchInput.form-control(style='width:100%;box-shadow: none;-webkit-appearance: none;background-color:#f0f0f2;border-color:#f0f0f2;border-radius:5px;box-sizing: border-box;' type=\"search\" value=keyword placeholder=\"搜索\")--><!--        span.input-group-btn(style='display:none')--><!--            button#searchSubmit.btn.btn-default(type=\"button\" onclick=\"searchArticle()\") Go--><div class=\"mazi-activity-container banner_view\"><style>.carousel-indicators li {\n",
      "    position: relative;\n",
      "    -webkit-box-flex: 1;\n",
      "    -webkit-flex: 1 0 auto;\n",
      "    -ms-flex: 1 0 auto;\n",
      "    flex: 1 0 auto;\n",
      "    width: 12px;\n",
      "    height: 2px;\n",
      "    text-indent: -999px;\n",
      "    cursor: pointer;\n",
      "    background-color: rgba(255, 255, 255, .5);\n",
      "    border:0;\n",
      "    border-radius: 0;\n",
      "    margin:0 2px 3px 2px;\n",
      "}\n",
      "\n",
      ".carousel-indicators .active {\n",
      "    background-color: #fff;\n",
      "    width: 12px;\n",
      "    height: 2px;\n",
      "    border:0;\n",
      "    border-radius: 0;\n",
      "    margin:0 2px 3px 2px;\n",
      "}\n",
      ".carousel-control-prev,\n",
      ".carousel-control-next {\n",
      "    position: absolute;\n",
      "    top: 0;\n",
      "    bottom: 0;\n",
      "    display: -webkit-box;\n",
      "    display: -webkit-flex;\n",
      "    display: -ms-flexbox;\n",
      "    display: flex;\n",
      "    -webkit-box-align: center;\n",
      "    -webkit-align-items: center;\n",
      "    -ms-flex-align: center;\n",
      "    align-items: center;\n",
      "    -webkit-box-pack: center;\n",
      "    -webkit-justify-content: center;\n",
      "    -ms-flex-pack: center;\n",
      "    justify-content: center;\n",
      "    width: 15%;\n",
      "    color: #fff;\n",
      "    text-align: center;\n",
      "    opacity: 0.5;\n",
      "}\n",
      "\n",
      ".carousel-control-prev:focus, .carousel-control-prev:hover,\n",
      ".carousel-control-next:focus,\n",
      ".carousel-control-next:hover {\n",
      "    color: #fff;\n",
      "    text-decoration: none;\n",
      "    outline: 0;\n",
      "    opacity: .9;\n",
      "}\n",
      "\n",
      ".carousel-control-prev {\n",
      "    left: -25px;\n",
      "}\n",
      "\n",
      ".carousel-control-next {\n",
      "    right: -30px;\n",
      "}\n",
      "\n",
      ".carousel-control-prev-icon,\n",
      ".carousel-control-next-icon {\n",
      "    display: inline-block;\n",
      "    width: 20px;\n",
      "    height: 20px;\n",
      "    background: transparent no-repeat center center;\n",
      "    -webkit-background-size: 100% 100%;\n",
      "    background-size: 100% 100%;\n",
      "}\n",
      "\n",
      ".carousel-control-prev-icon {\n",
      "    background-image: url(\"data:image/svg+xml;charset=utf8,%3Csvg xmlns='http://www.w3.org/2000/svg' fill='%23fff' viewBox='0 0 8 8'%3E%3Cpath d='M4 0l-4 4 4 4 1.5-1.5-2.5-2.5 2.5-2.5-1.5-1.5z'/%3E%3C/svg%3E\");\n",
      "}\n",
      "\n",
      ".carousel-control-next-icon {\n",
      "    background-image: url(\"data:image/svg+xml;charset=utf8,%3Csvg xmlns='http://www.w3.org/2000/svg' fill='%23fff' viewBox='0 0 8 8'%3E%3Cpath d='M1.5 0l-1.5 1.5 2.5 2.5-2.5 2.5 1.5 1.5 4-4-4-4z'/%3E%3C/svg%3E\");\n",
      "}\n",
      "@media screen and (max-width:480px){\n",
      "    .carousel-control-prev,\n",
      "    .carousel-control-next{\n",
      "        display:none;\n",
      "    }\n",
      "}</style><div id=\"carouselBannerIndicators\" data-ride=\"carousel\" class=\"carousel slide\"><ol style=\"bottom: -13px;\" class=\"carousel-indicators\"><li data-target=\"#carouselBannerIndicators\" data-slide-to='0' class=\"active\"></li><li data-target=\"#carouselBannerIndicators\" data-slide-to='1'></li><li data-target=\"#carouselBannerIndicators\" data-slide-to='2'></li><li data-target=\"#carouselBannerIndicators\" data-slide-to='3'></li><li data-target=\"#carouselBannerIndicators\" data-slide-to='4'></li></ol><div role=\"listbox\" class=\"carousel-inner\"><div class=\"item active\"><img style=\"width:100%;cursor:pointer;\" src=\"https://images.gitbook.cn/744893e0-7785-11e9-bdb5-7da9c05adea5?imageMogr2/thumbnail/1500x625!\" alt=\"\" sid=\"5cdcd06d34b6ed1398fde6a7\" ltype=\"\" aid=\"https://gitbook.cn/gitchat/column/5cdab7fb34b6ed1398fd8de7?utm_source=pcbanner190516\" class=\"d-block img-fluid\"></div><div class=\"item\"><img style=\"width:100%;cursor:pointer;\" src=\"https://images.gitbook.cn/fa4bc3e0-73f2-11e9-ac40-1db87c57445b?imageMogr2/thumbnail/1500x625!\" alt=\"\" sid=\"5cd6d253e30c87051ad44b62\" ltype=\"\" aid=\"https://gitbook.cn/gitchat/column/5cc01cc115a1a10d8cec9e86?utm_source=pcbanner190511\" class=\"d-block img-fluid\"></div><div class=\"item\"><img style=\"width:100%;cursor:pointer;\" src=\"https://images.gitbook.cn/d278cfb0-6fd9-11e9-ac40-1db87c57445b?imageMogr2/thumbnail/1500x625!\" alt=\"\" sid=\"5ccff252e30c87051ad2ba75\" ltype=\"\" aid=\"https://gitbook.cn/gitchat/column/5cc7b98b4cf1322991b88549?utm_source=pcbanner190506\" class=\"d-block img-fluid\"></div><div class=\"item\"><img style=\"width:100%;cursor:pointer;\" src=\"https://images.gitbook.cn/5a8bfe50-7ac9-11e9-a463-0d41c5bc8800?imageMogr2/thumbnail/1500x625!\" alt=\"\" sid=\"5ce24a9337c00057a8a4ab7a\" ltype=\"\" aid=\" http://hdxu.cn/gw9Bv\" class=\"d-block img-fluid\"></div><div class=\"item\"><img style=\"width:100%;cursor:pointer;\" src=\"https://images.gitbook.cn/d0efccb0-657b-11e9-850c-7f02f7d536cb?imageMogr2/thumbnail/1500x625!\" alt=\"\" sid=\"5cbe8d04db120f4c8f98c467\" ltype=\"\" aid=\"https://gitbook.cn/gitchat/column/5c91c813968b1d64b1e08fde?utm_source=pcbanner190423\" class=\"d-block img-fluid\"></div></div><a href=\"#carouselBannerIndicators\" role=\"button\" data-slide=\"prev\" class=\"carousel-control-prev\"><span aria-hidden=\"true\" class=\"carousel-control-prev-icon\"></span><span class=\"sr-only\">Previous</span></a><a href=\"#carouselBannerIndicators\" role=\"button\" data-slide=\"next\" class=\"carousel-control-next\"><span aria-hidden=\"true\" class=\"carousel-control-next-icon\"></span><span class=\"sr-only\">Next</span></a></div><script>$(\"#carouselBannerIndicators\").swiperight(function () {\n",
      "    $(\"#carouselBannerIndicators\").carousel('prev');\n",
      "});\n",
      "$(\"#carouselBannerIndicators\").swipeleft(function () {\n",
      "    $(\"#carouselBannerIndicators\").carousel('next');\n",
      "});\n",
      "$('#carouselBannerIndicators img').click(function () {\n",
      "    window.location.href = $(this).attr('aid')+'';\n",
      "});</script></div></div><div class=\"mazi-activity-container index_content\"><div class=\"mazi-activity-container nav_style\"><span class=\"index_chat_title\">Chat</span><div class=\"index_chat_tab\"><a href=\"/gitchat/hot\"><span>严选</span></a><a href=\"/gitchat/news\"><span>最新</span></a><a href=\"/gitchat/free\"><span>免费</span></a></div></div></div><div class=\"mazi-activity-container index_container\"><div id=\"chatItemContainer\" class=\"clearfix\"><div style=\"padding:0;border: none\" class=\"col-md-12\"><a href=\"/gitchat/activity/5cbc82ddced2637d6fc8dba7\" target=\"_blank\"><object><div class=\"chat_item\"><a href=\"/?categoryId=58e84f1584c651693437f27c\" class=\"chat_category\">职场</a><div class=\"chat_info_title\"><span>前车之鉴：从被回绝的系列原因出发，解读应聘阿里的注意事项</span></div><div class=\"chat_info_desc\">不久前我写过一篇文章[《谈谈应聘阿里全流程》](https://gitbook.cn/m/mazi/activity/5c66e8fc586c783fc9e7d0b7)，文章发布后，收到了很多读者的积极反馈，但其中也反映出读者普遍的困惑：清楚了应聘流程，该如何有针对性地做应聘准备呢？这个问题从正面并不好回答，那么，不妨逆向寻解：本场 Chat 将详细介绍那些导致应聘者被回绝的系列因素，并基于这些因素有针对性地阐述应对方案；同时解读应聘准备和面试环节需要注意的事项。内容概要如下：\n",
      "\n",
      " 1. 前车之鉴：哪些因素容易导致应聘者被回绝\n",
      " 2. 知己知彼：如何结合自身特点和岗位要求有针对性地做应聘准备\n",
      " 2. 题海泛舟：如何刷题，刷题得来的知识点到底能起多大作用\n",
      " 3. 技术无涯：做一个有思考、有沉淀的技术人\n",
      " 4. 面试指南：面试前、中、后需注意的事项\n",
      " 5. 后记：内推与交流</div><div class=\"chat_info_bottom\"><img src=\"https://images.gitbook.cn/79932e50-2088-11e8-aca3-1913555404a4?imageView2/2/h/220\" class=\"chat_img\"><span class=\"chat_info_author\">应书澜 · ～BAT某厂资深中间件工程师/面试官</span><div class=\"chat_bottom_right\"><span class=\"hidden-xs\">今日 20:30 交流</span></div></div></div></object></a></div><div style=\"padding:0;border: none\" class=\"col-md-12\"><a href=\"/gitchat/activity/5cdd571af8748e29f3d68617\" target=\"_blank\"><object><div class=\"chat_item\"><a href=\"/?categoryId=59e731556d761a35fa821842\" class=\"chat_category\">数学与算法</a><div class=\"chat_info_title\"><img src=\"https://images.gitbook.cn/FiBfwwUZ_mZ-Q6YDx9I8PTTAW350\" class=\"chat_strict\"><span>聊聊 Java String 源码的排序算法</span></div><div class=\"chat_info_desc\">聊聊 JDK 源码，聊聊算法。\n",
      "\n",
      "本场 Chat 主要内容：\n",
      "\n",
      "- 什么是选择问题\n",
      "- 比较（Comparable）能力\n",
      "- java.lang.Comparable 比较接口\n",
      "    - 数组排序\n",
      "    - 集合排序\n",
      "- String 源码中的排序算法\n",
      "    - String 存储结构\n",
      "    - String 比较方法源码解析\n",
      "    - 常见字符 ASCII 码\n",
      "- 弊端分析总结</div><div class=\"chat_info_bottom\"><img src=\"https://images.gitbook.cn/5bb720f0-b006-11e7-b05d-87f805be1357?imageView2/2/h/220\" class=\"chat_img\"><span class=\"chat_info_author\">泥瓦匠 @ bysocket.com · 工程师</span><div class=\"chat_bottom_right\"><span class=\"hidden-xs\">今日 20:30 交流</span></div></div></div></object></a></div><div style=\"padding:0;border: none\" class=\"col-md-12\"><a href=\"/gitchat/activity/5cbfc5877ae1c9121dc89753\" target=\"_blank\"><object><div class=\"chat_item\"><a href=\"/?categoryId=591f073981be962a981acf18\" class=\"chat_category\">安全</a><div class=\"chat_info_title\"><img src=\"https://images.gitbook.cn/FiBfwwUZ_mZ-Q6YDx9I8PTTAW350\" class=\"chat_strict\"><span>Java 实现一个远程控制客户端思路附源码 </span></div><div class=\"chat_info_desc\">通过客户端远程操作其他电脑，关机，重启，注销等！是不是都很神奇？！这种正式软件常用于多媒体教学、远程协助、远程遥控设备等。这里我们通过案例，手把手一步步的实现整个过程，自己完成案例后，自然就不会再感觉神秘了！就像一层窗户纸，捅破了就“不过如此了”！\n",
      "\n",
      "本案例其实就是做复杂的远程控制软件的入门级别案例，通过好玩的远程控制效果实现，从而了解远程控制实现思路和原理。本 Chat 内容大纲如下：\n",
      "\n",
      "1. 远程控制概念及原理介绍\n",
      "2. UDP和TCP的特点及区别\n",
      "3. Java Swing 实现远程客户端\n",
      "4. 发送遥控指令，远程关机，重启，注销等\n",
      "5. 遥控被控端的浏览器打开指定网页，计算器等软件\n",
      "6. 远程让被控端鼠标失效几秒时间\n",
      "7. 远程获取指定电脑信息等</div><div class=\"chat_info_bottom\"><img src=\"https://images.gitbook.cn/d58e24a0-3291-11e9-b3a9-4f8760d3237f?imageView2/2/h/220\" class=\"chat_img\"><span class=\"chat_info_author\">愚凡 · 技术总监 </span><div class=\"chat_bottom_right\"><span class=\"hidden-xs\">本周三 20:30 交流</span><div class=\"chat_count\"><span>136 人已加入</span></div></div></div></div></object></a></div><div style=\"padding:0;border: none\" class=\"col-md-12\"><a href=\"/gitchat/activity/5cd527e864de19331ba79278\" target=\"_blank\"><object><div class=\"chat_item\"><a href=\"/?categoryId=58e84f6bad952d6b3428af9a\" class=\"chat_category\">架构</a><div class=\"chat_info_title\"><img src=\"https://images.gitbook.cn/FiBfwwUZ_mZ-Q6YDx9I8PTTAW350\" class=\"chat_strict\"><span>高效构建 Docker 镜像的最佳实践</span></div><div class=\"chat_info_desc\">Docker 可谓是开启了容器化技术的新时代，现在无论大中小公司基本上都对容器化技术有不同程度的尝试，或是已经进行了大量容器化的改造。伴随着 Kubernetes 和 Cloud Native 等技术和理念的普及，也大大增加了业务容器化需求。\n",
      "\n",
      "而这一切的推进，不可避免的技术之一便是构建容器镜像。\n",
      "\n",
      "在本场 Chat 中，会讲到如下内容：\n",
      "\n",
      "* 深入内部从根本上解释 Docker 镜像是什么\n",
      "* Docker 镜像常规管理操作\n",
      "* 如何构建 Docker 镜像\n",
      "* 逐步分解构建 Docker 镜像的最佳实践\n",
      "* 如何提升构建效率\n",
      "\n",
      "\n",
      "适合人群： 对高效构建 Docker 镜像有兴趣的技术人员\n",
      "</div><div class=\"chat_info_bottom\"><img src=\"https://wx.qlogo.cn/mmopen/XxT9TiaJ1ibf3ZanVJdX8bmV78FMLNOZFwmmthtBAQmeGeQUWbyo8cCODvp4h44tYLWrMeeftibhLNGwibQV2iaSPwA/0?imageView2/2/h/220\" class=\"chat_img\"><span class=\"chat_info_author\">张晋涛 · 资深运维开发</span><div class=\"chat_bottom_right\"><span class=\"hidden-xs\">本周三 20:30 交流</span><div class=\"chat_count\"><span>273 人已加入</span></div></div></div></div></object></a></div><div style=\"padding:0;border: none\" class=\"col-md-12\"><a href=\"/gitchat/activity/5cd6611664de19331ba7a75c\" target=\"_blank\"><object><div class=\"chat_item\"><a href=\"/?categoryId=59c491948fee063dc3c447ab\" class=\"chat_category\">编程语言</a><div class=\"chat_info_title\"><img src=\"https://images.gitbook.cn/FiBfwwUZ_mZ-Q6YDx9I8PTTAW350\" class=\"chat_strict\"><span>Python 协程模块 asyncio 使用指南</span></div><div class=\"chat_info_desc\">在上次的《5 分钟入门 Python 协程》的 Chat 中和大家简单的普及了下 Python 的协程，但是因为篇幅有限只是简单的和大家普及了下协程的优势和使用场景。本文将从实用角度去写。我们用到是 Python 标准库的 asyncio 模块。\n",
      "\n",
      "本场 Chat 将带着大家学习 asyncio 的一些使用方法，为后面的异步爬虫的编写做一个铺垫。\n",
      "\n",
      "通过本场您将学到：\n",
      "\n",
      "1. 什么是 asyncio\n",
      "2. asyncio 中提到的事件循环、Task、Future、awaitable 都是什么\n",
      "3. 如何去使用 asyncio 的一些方法\n",
      "4. 学习异步编程风格\n",
      "\n",
      "面向对象：本教程需要有一定 Python 基础的，喜欢异步编程和想学异步编程的同学。\n",
      "</div><div class=\"chat_info_bottom\"><img src=\"https://images.gitbook.cn/6b3dd170-5449-11e9-b29e-6fbf413efb9a?imageView2/2/h/220\" class=\"chat_img\"><span class=\"chat_info_author\">陈祥安 · 高级爬虫工程师</span><div class=\"chat_bottom_right\"><span class=\"hidden-xs\">本周四 20:30 交流</span><div class=\"chat_count\"><span>155 人已加入</span></div></div></div></div></object></a></div><div style=\"padding:0;border: none\" class=\"col-md-12\"><a href=\"/gitchat/activity/5cbdca5041fdba5da4eb59c3\" target=\"_blank\"><object><div class=\"chat_item\"><a href=\"/?categoryId=58e84f53ec8e9e7b34457809\" class=\"chat_category\">人工智能</a><div class=\"chat_info_title\"><img src=\"https://images.gitbook.cn/FiBfwwUZ_mZ-Q6YDx9I8PTTAW350\" class=\"chat_strict\"><span>“花式吊打”系列之逻辑回归讲透透</span></div><div class=\"chat_info_desc\">最近，一个研究生来面试，竟然连逻辑回归的算法都讲不清楚，这或许就是古人说的 “日用而不知” 吧，我想我们都不想只做一个 “调包者” ，而是成为一个 “明白人” 。 \n",
      "\n",
      "本场 Chat 我们以逻辑回归为切入点，从统计学基础知识，到线性回归、逻辑回归原理，公式推导，Python 代码实现，最后剖析一个业务模型等一系列步骤，配合大量图片及代码，来串起一条机器学习入门的基本线。\n",
      "\n",
      "通过本场 Chat ，您将学习到以下内容：\n",
      "1. 统计学基础知识，如方差、随机变量、概率密度函数、二项分布、泊松分布、大数据定律、正态分布、中心极限定理、置信区间等；\n",
      "2. 简单直白地介绍线性回归、逻辑回归（直观、轻松感受）；\n",
      "3. 线性回归推导，如极大似然估计；最小二乘法推导、梯度下降法推导及 Pthon 代码求解参数等；\n",
      "4. 逻辑回归推导，包括逻辑回归成本函数；梯度下降法推导及 Pthon 代码求解参数等；\n",
      "5. 构建业务模型，包括业务分析、数据清洗、模型训练、模型评估、保存模型、模型API、模型应用等；\n",
      "6. 逻辑回归与 Softmax 区别及联系；\n",
      "7. 总结。\n",
      "\n",
      "</div><div class=\"chat_info_bottom\"><img src=\"https://images.gitbook.cn/f88866e0-3d69-11e9-8898-837f592a5171?imageView2/2/h/220\" class=\"chat_img\"><span class=\"chat_info_author\">天马行空 · 高级研发工程师</span><div class=\"chat_bottom_right\"><span class=\"hidden-xs\">下周一 20:30 交流</span><div class=\"chat_count\"><span>151 人已加入</span></div></div></div></div></object></a></div><div style=\"padding:0;border: none\" class=\"col-md-12\"><a href=\"/gitchat/activity/5cde79469bf05413527be135\" target=\"_blank\"><object><div class=\"chat_item\"><a href=\"/?categoryId=58e84f6bad952d6b3428af9a\" class=\"chat_category\">架构</a><div class=\"chat_info_title\"><img src=\"https://images.gitbook.cn/FiBfwwUZ_mZ-Q6YDx9I8PTTAW350\" class=\"chat_strict\"><span>【线下沙龙】分布式高可用消息队列的原理与实践</span></div><div class=\"chat_info_desc\">《分布式高可用消息队列的原理与实践》\n",
      "\n",
      "沙龙时间：2019年6月1日 13:00 - 17:30\n",
      "\n",
      "沙龙地点：北京海淀区 上地街道 数码科技广场 5 层\n",
      "\n",
      "本次沙龙邀请的分享嘉宾有：\n",
      "\n",
      "1. 冯宏 · 火币集团 MQ 负责人 ；\n",
      "\n",
      "2. 寈峰 · 阿里巴巴 RocketMQ 北京负责人；\n",
      "\n",
      "3. 翟佳 · StreamNative 核心工程师，Apache Pulsar 和 Apache BookKeeper 的 PMC 成员；\n",
      "\n",
      "\n",
      "\n",
      "沙龙主办方：火币集团 、GitChat\n",
      "\n",
      "彩蛋：沙龙期间，火币直招各路技术人才，高薪职位与你相遇。\n",
      "\n",
      "【特别注意】本次为线下技术沙龙，没有文章发布，感兴趣的朋友欢迎来现场。\n",
      "**无法到场的朋友，切勿报名。**</div><div class=\"chat_info_bottom\"><img src=\"https://images.gitbook.cn/e48998f0-5f2d-11e8-b977-f33e31f528f0?imageView2/1/w/200/h/200\" class=\"chat_img\"><span class=\"chat_info_author\">GitChat好奇心 · GitChat 的运营之一</span><div class=\"chat_bottom_right\"><div class=\"chat_count\"><span>87 人已加入</span></div></div></div></div></object></a></div><div style=\"padding:0;border: none\" class=\"col-md-12\"><a href=\"/gitchat/activity/5cde01842a6f4b1a75fc3a2e\" target=\"_blank\"><object><div class=\"chat_item\"><a href=\"/?categoryId=59c0c8ca1a1fd73dd3f2e01a\" class=\"chat_category\">写作与翻译</a><div class=\"chat_info_title\"><img src=\"https://images.gitbook.cn/FiBfwwUZ_mZ-Q6YDx9I8PTTAW350\" class=\"chat_strict\"><span>如何打造爆款付费文章</span></div><div class=\"chat_info_desc\">在今天这个版权意识和付费概念逐步深入人心的时代，想要把握住机会顺势而为，却不知该如何下手？\n",
      "\n",
      "辛辛苦苦写了一篇自认为干货满满的文章，却得不到市场的任何，订阅人数聊聊无几？\n",
      "\n",
      "看到别人随意发布一篇文章就能订阅上万，究竟是运气使然？还是有什么不为人知的技巧？本文将带你找到这些答案。\n",
      "\n",
      "我是这个平台单篇文章订阅量第一的作者，远远超越第 2 \n",
      "名两倍有余，这背后究竟有什么秘密？本篇我将带领大家，解密爆款文章背后的故事，还有一些我的思考，也许刚好对你有用。\n",
      "\n",
      "本次 Chat 你将获得：\n",
      "\n",
      "1. 好的文章都有哪些共同的特质\n",
      "2. 想要打造热门的文章该怎样筛选文章的主题\n",
      "3. 怎样快速提升自己的写作水平\n",
      "4. 怎么结合自身的优势打造爆款文章\n",
      "5. 如何与行业的大 V 建立深入的连接\n",
      "6. 如何让你的文章卖的更好</div><div class=\"chat_info_bottom\"><img src=\"https://images.gitbook.cn/98b860c0-952c-11e8-b8b3-690dce6077c1?imageView2/2/h/220\" class=\"chat_img\"><span class=\"chat_info_author\">老王 · 技术负责人</span><div class=\"chat_bottom_right\"><div class=\"chat_count\"><span>112 人已加入</span></div></div></div></div></object></a></div><div style=\"padding:0;border: none\" class=\"col-md-12\"><a href=\"/gitchat/activity/5cdd55d6f8748e29f3d6860d\" target=\"_blank\"><object><div class=\"chat_item\"><a href=\"/?categoryId=59e731556d761a35fa821842\" class=\"chat_category\">数学与算法</a><div class=\"chat_info_title\"><img src=\"https://images.gitbook.cn/FiBfwwUZ_mZ-Q6YDx9I8PTTAW350\" class=\"chat_strict\"><span>矩阵的奇异值分解与数据降维（Python 实现）</span></div><div class=\"chat_info_desc\">在前面一篇 Chat 中，我们利用矩阵的特征值分解对数据进行主成分分析。这种方法有一定的局限性：即要求矩阵必须是方阵且能够被对角化。那么如果拓展到一般情况，对于任意形状的矩阵我们该如何处理呢？\n",
      "\n",
      "这篇 Chat 将介绍一个更通用的利器：奇异值分解。他可以对任意形状的矩阵进行分解，适用性更广。我们可以将特征值分解看作是奇异值分解的特殊情况，先从特征值分解的几何意义入手，然后从特殊到一般，在空间的背景下引导大家一步一步探索奇异值分解方法的推导过程，从头摸索一遍方法的来龙去脉，并具体运用他对数据进行降维处理。\n",
      "\n",
      "全文主要内容如下：\n",
      "1. 回顾特征值分解的几何意义\n",
      "2. 探讨奇异值分解的具体实施细节\n",
      "3. 从行和列两个维度进行数据压缩和矩阵近似\n",
      "4. 利用 Python 进行奇异值分解</div><div class=\"chat_info_bottom\"><img src=\"https://images.gitbook.cn/2ea41880-e9a2-11e8-9b50-476dcebac67d?imageView2/2/h/220\" class=\"chat_img\"><span class=\"chat_info_author\">张雨萌 · NLP研发工程师/机器学习算法类图书作者</span><div class=\"chat_bottom_right\"><div class=\"chat_count\"><span>85 人已加入</span></div></div></div></div></object></a></div><div style=\"padding:0;border: none\" class=\"col-md-12\"><a href=\"/gitchat/activity/5cd91b637b22ef4d1f70c332\" target=\"_blank\"><object><div class=\"chat_item\"><a href=\"/?categoryId=58e84f6bad952d6b3428af9a\" class=\"chat_category\">架构</a><div class=\"chat_info_title\"><img src=\"https://images.gitbook.cn/FiBfwwUZ_mZ-Q6YDx9I8PTTAW350\" class=\"chat_strict\"><span>高并发、低 RT 的风控系统架构及技术架构的实现</span></div><div class=\"chat_info_desc\">由于风控系统具有隐秘性，本次分享不具体探讨业务，主要聚焦在技术架构上，近年来风控相关的技术及框架层出不穷，填补了很多功能上的空白，再加上用户的数据关系越来越复杂且数据量庞大，催生出了很多现代化的需求，比如滑动时间窗口、自动识别风险及规则提炼等。\n",
      "\n",
      "风控的技术挑战主要是低 RT（平均每个请求要在 100ms 内完成）、高并发（每天处理过亿的请求），解决这两个难题涉及到很多功能细节实现的优化，具体内容会在本次分享中跟大家一起探讨。\n",
      "\n",
      "本次 Chat 主要内容：\n",
      "1.\t风控系统架构\n",
      "2.\t风控技术架构\n",
      "3.\t规则引擎实现细节\n",
      "4.\t怎样降低 RT\n",
      "\n",
      "【彩蛋：交流期间，火币线上直招各路技术人才，高薪职位与你相遇】\n",
      "\n",
      "-----\n",
      "\n",
      "作者简介：孙冶，火币研发中心风控组技术总监，曾就职于中旅银行、IBM，2018 年加入火币集团，主要负责风控系统、熔断系统、审计系统等建设工作。\n",
      "</div><div class=\"chat_info_bottom\"><img src=\"https://images.gitbook.cn/b821d190-f2fa-11e8-b895-65c0ec7ece6b?imageView2/2/h/220\" class=\"chat_img\"><span class=\"chat_info_author\">火币集团研发中心 · 热衷于钻研技术老司机</span><div class=\"chat_bottom_right\"><div class=\"chat_count\"><span>588 人已加入</span></div></div></div></div></object></a></div><div style=\"padding:0;border: none\" class=\"col-md-12\"><a href=\"/gitchat/activity/5cd7b96c64de19331ba7aa2c\" target=\"_blank\"><object><div class=\"chat_item\"><a href=\"/?categoryId=59e731556d761a35fa821842\" class=\"chat_category\">数学与算法</a><div class=\"chat_info_title\"><img src=\"https://images.gitbook.cn/FiBfwwUZ_mZ-Q6YDx9I8PTTAW350\" class=\"chat_strict\"><span>从一场迷宫游戏引发的算法思考</span></div><div class=\"chat_info_desc\">前段日子我那尚在幼儿园的小弟弟拿着旧报纸上的一道迷宫难题来找我，要我帮他找出一条通路来，我看到题目的一瞬间我是懵逼的，那个迷宫之巨大，足足占据了三分之一的报纸版面，我苦思冥想，不停地动笔涂涂画画，总算是找到了一条弯弯曲曲的通道，可以联通两个出口。\n",
      "\n",
      "回家后我就在想，报纸上只是单纯要找出一条通道罢了，那么如果给定 N 对对象，要我判断是否连通，那我岂不是得算到天昏地暗去了，于是乎兜兜转转地找到了一种算法——并查集。通过这个算法就可以帮助我们快速地判断两点之间是否存在通路。\n",
      "\n",
      "通过本场 Chat，你可以收获到以下内容：\n",
      "\n",
      "1. 并查集算法的基本思想及其原理实现与算法分析；\n",
      "2. 并查集算法的进一步优化，改进算法的连接操作；\n",
      "3. 带权的并查集算法实现及其思想；\n",
      "4. 带路径压缩的带权的并查集算法思想及其实现。\n",
      "</div><div class=\"chat_info_bottom\"><img src=\"https://images.gitbook.cn/3cb8e890-3225-11e8-b9c2-07311c642fe5?imageView2/2/h/220\" class=\"chat_img\"><span class=\"chat_info_author\">浅浅 · 喜欢维和的网瘾少年</span><div class=\"chat_bottom_right\"><div class=\"chat_count\"><span>90 人已加入</span></div></div></div></div></object></a></div><div style=\"padding:0;border: none\" class=\"col-md-12\"><a href=\"/gitchat/activity/5ccba0004d2a67039b1b850e\" target=\"_blank\"><object><div class=\"chat_item\"><a href=\"/?categoryId=58e84f53ec8e9e7b34457809\" class=\"chat_category\">人工智能</a><div class=\"chat_info_title\"><img src=\"https://images.gitbook.cn/FiBfwwUZ_mZ-Q6YDx9I8PTTAW350\" class=\"chat_strict\"><span>矩阵特征值分解与主成分分析（Python 实现）</span></div><div class=\"chat_info_desc\">在数据分析的过程中，我们会通过观察一系列的特征属性来对我们感兴趣的对象进行分析研究，一方面特征属性越多，越有利于我们细致刻画事物，但另一方面也会增加后续数据处理的运算量，带来较大的处理负担，我们应该如何平衡好这个问题？利用矩阵的特征值分解进行主成分分析就是一个很好的解决途径。\n",
      "\n",
      "主成分分析是机器学习中的核心算法之一，本文将基于 Python 语言，为读者深入浅出的分析他的来龙去脉和本质内涵，相信读完此文，将扫清你心中的所有疑虑，今后在应用他解决实际问题的时候也能更加得心应手。\n",
      "\n",
      "本文主要内容有：\n",
      "1. 对称矩阵的基本性质\n",
      "2. 对称矩阵的对角化与特征值\n",
      "3. 数据降维的需求背景与主要目标\n",
      "4. 主成分分析法降维的核心思路\n",
      "5. 主成分分析的细节实现过程\n",
      "6. 推广到 N 个特征的降维实现</div><div class=\"chat_info_bottom\"><img src=\"https://images.gitbook.cn/2ea41880-e9a2-11e8-9b50-476dcebac67d?imageView2/2/h/220\" class=\"chat_img\"><span class=\"chat_info_author\">张雨萌 · NLP研发工程师/机器学习算法类图书作者</span><div class=\"chat_bottom_right\"><div class=\"chat_count\"><span>236 人已加入</span></div></div></div></div></object></a></div><div style=\"padding:0;border: none\" class=\"col-md-12\"><a href=\"/gitchat/activity/5cc28ed8f8590573003021bf\" target=\"_blank\"><object><div class=\"chat_item\"><a href=\"/?categoryId=591171a3e692d5280d8157b6\" class=\"chat_category\">移动开发</a><div class=\"chat_info_title\"><img src=\"https://images.gitbook.cn/FiBfwwUZ_mZ-Q6YDx9I8PTTAW350\" class=\"chat_strict\"><span>Android NDK 实战入门指南</span></div><div class=\"chat_info_desc\">本文适合 Android 应用开发人员，准备移植 C/C++ 开源库，以及对 NDK、JNI 感兴趣的人员。\n",
      "\n",
      "学完此课程，你能够明白 NDK 都能做哪些事情，JNI 的底层实现原理，以及 C/C++ 和 Java 的相互通信，同时剖析编译机制以及相关进阶参考文档。\n",
      "\n",
      "C/C++ 经久不衰，属于编程中底层核心语言。掌握此技术，对于 Android ，会有更加透彻的理解。\n",
      "\n",
      "文章通过十九个小节，以原理+实例+思考的模式，由浅入深的一个个实例源码，带领大家掌握本课程内容。\n",
      "\n",
      "目录清单：\n",
      "\n",
      "1. 什么是 NDK\n",
      "2. 为什么要用 NDK\n",
      "3. NDK 编译出来的目标类型\n",
      "4. NDK 下载\n",
      "5. 写个 hello JNI 可执行文件\n",
      "6. 文件解析\n",
      "7. 写个 hello JNI 调用 so\n",
      "8. Android Studio 写个 hello JNI\n",
      "9. 目录解析\n",
      "10. 流程分析\n",
      "11. JNI执行调用流程\n",
      "12. 添加一个新的方法\n",
      "13. CMake 和 ndk-build 的关系\n",
      "14. 使用 ndk-build 方案\n",
      "15. 调试 C 代码\n",
      "16. C 调用 Java\n",
      "17. 参考文档\n",
      "18. 异常分析思路\n",
      "19. 延伸内容</div><div class=\"chat_info_bottom\"><img src=\"https://images.gitbook.cn/bacc6230-66f8-11e9-8937-cf56cc6b2104?imageView2/1/w/200/h/200\" class=\"chat_img\"><span class=\"chat_info_author\">代码GG陆晓明 · Android系统工程师/职场辅导/写作</span><div class=\"chat_bottom_right\"><div class=\"chat_count\"><span>169 人已加入</span></div></div></div></div></object></a></div><div style=\"padding:0;border: none\" class=\"col-md-12\"><a href=\"/gitchat/activity/5cc277531ec2e274c90c27ce\" target=\"_blank\"><object><div class=\"chat_item\"><a href=\"/?categoryId=58e84f1584c651693437f27c\" class=\"chat_category\">职场</a><div class=\"chat_info_title\"><img src=\"https://images.gitbook.cn/FiBfwwUZ_mZ-Q6YDx9I8PTTAW350\" class=\"chat_strict\"><span>程序员穿搭指南</span></div><div class=\"chat_info_desc\">你可曾想象过自己和吴彦祖一样帅？你是否想让身上的格子衫穿起来和吴亦凡一样有范？你是否想换下拖鞋但苦恼只有运动鞋？每天用水抹把脸就直接出门是不是越来越粗糙？偶尔穿套西装还被误认为改行做中介了，买个礼物送女友反而惹生气了......\n",
      "\n",
      "那你可能需要这场 Chat 👇\n",
      "\n",
      "通过本场 Chat 你能获得：\n",
      "1. 经典的格子衫该怎样穿出气质；\n",
      "2. 有钱没钱都能买到合适的衣服；\n",
      "3. 鞋子不是只有拖鞋和运动鞋，你还可以穿......\n",
      "4. 护肤其实一点也不贵也不麻烦，你只需保证这三样；\n",
      "5. 送女友必备的“救命”礼物；\n",
      "\n",
      " ......\n",
      "\n",
      "适宜人群：扎克伯格们可能不需要了</div><div class=\"chat_info_bottom\"><img src=\"https://images.gitbook.cn/6d5c7a40-feab-11e8-84cc-e1d63177fe15?imageView2/1/w/200/h/200\" class=\"chat_img\"><span class=\"chat_info_author\">🐡赵小胖 · Chat 掌柜</span><div class=\"chat_bottom_right\"><div class=\"chat_count\"><span>335 人已加入</span></div></div></div></div></object></a></div><div style=\"padding:0;border: none\" class=\"col-md-12\"><a href=\"/gitchat/activity/5cc08ab1fe554b79722e510b\" target=\"_blank\"><object><div class=\"chat_item\"><a href=\"/?categoryId=58e84f875295227534aad506\" class=\"chat_category\">前端</a><div class=\"chat_info_title\"><img src=\"https://images.gitbook.cn/FiBfwwUZ_mZ-Q6YDx9I8PTTAW350\" class=\"chat_strict\"><span>从零开始：全面了解 TypeScript 基础知识</span></div><div class=\"chat_info_desc\">将带你了解 TypeScript 基础知识，感受四季：\n",
      "\n",
      "1. 基础类型和变量声明\n",
      "2. 枚举\n",
      "3. 函数\n",
      "4. 接口\n",
      "5. 类\n",
      "6. 泛型\n",
      "7. 高级类型\n",
      "8. 迭代器 和 Generators\n",
      "9. 模块\n",
      "10. 其他</div><div class=\"chat_info_bottom\"><img src=\"https://images.gitbook.cn/0189a550-b036-11e7-ae48-f761a58806f1?imageView2/1/w/200/h/200\" class=\"chat_img\"><span class=\"chat_info_author\">icepy · 厨子/摩旅/编程</span><div class=\"chat_bottom_right\"><div class=\"chat_count\"><span>298 人已加入</span></div></div></div></div></object></a></div><div style=\"padding:0;border: none\" class=\"col-md-12\"><a href=\"/gitchat/activity/5cbd59c9af832a708a889486\" target=\"_blank\"><object><div class=\"chat_item\"><a href=\"/?categoryId=591171a3e692d5280d8157b6\" class=\"chat_category\">移动开发</a><div class=\"chat_info_title\"><img src=\"https://images.gitbook.cn/FiBfwwUZ_mZ-Q6YDx9I8PTTAW350\" class=\"chat_strict\"><span>Android 架构师的自我修养</span></div><div class=\"chat_info_desc\">本篇 Chat 适合中高级 Android 开发，以及想突破技术瓶颈的工程师。本篇 Chat 价值在于从实践经验讲解，让读者了解并掌握 Android 架构师的基本知识及需要掌握的技能。\n",
      "\n",
      "将会从三个部分讲解，成为一个 Android 架构师需要哪些修养。\n",
      "\n",
      "1. 知识篇：我们需要掌握哪些基本的知识，比如知识图谱、性能优化、Framework、多语言栈及虚拟机等；\n",
      "2. 技能篇：我们需要掌握哪些技能，比如技术判断能力、技术深入能力及推动能力等；\n",
      "3. 架构篇：比如业务架构方向制定、基础设施的打造及如何做到架构的可持续。\n",
      "\n",
      "相信你的收获会非比寻常。</div><div class=\"chat_info_bottom\"><img src=\"https://images.gitbook.cn/f6e59920-28d4-11e8-ac0c-c57c3806fcc2?imageView2/2/h/220\" class=\"chat_img\"><span class=\"chat_info_author\">JackyWang · 工程师</span><div class=\"chat_bottom_right\"><div class=\"chat_count\"><span>97 人已加入</span></div></div></div></div></object></a></div><div style=\"padding:0;border: none\" class=\"col-md-12\"><a href=\"/gitchat/activity/5cb9752d5f75cc777e4c27a9\" target=\"_blank\"><object><div class=\"chat_item\"><a href=\"/?categoryId=58e84f53ec8e9e7b34457809\" class=\"chat_category\">人工智能</a><div class=\"chat_info_title\"><img src=\"https://images.gitbook.cn/FiBfwwUZ_mZ-Q6YDx9I8PTTAW350\" class=\"chat_strict\"><span>采用 Python 机器学习预测足球比赛结果</span></div><div class=\"chat_info_desc\">足球是世界上最火爆的运动之一，如何运用机器学习来预测足球比赛结果，是每一个足球爱好者所向往的！\n",
      "\n",
      "本场 Chat 适合有 Python 基础的机器学习初学者，我们带你一起熟悉机器学习的开发流程，帮你快速建立起自己的英超比赛预测模型！\n",
      "\n",
      "你将获取到如下内容：\n",
      "1. 人工智能在线建模平台介绍；\n",
      "2. 熟悉机器学习开发流程；\n",
      "3. 熟悉 Python 数据挖掘库 NumPy、Pandas、Scikit-Learn 等开发库的基本使用；\n",
      "4. 熟悉常见分类算法（逻辑回归、SVM 和 XGBoost）及其评价指标；\n",
      "5. 部署完成一个属于自己的预测模型。</div><div class=\"chat_info_bottom\"><img src=\"https://images.gitbook.cn/6da37fe0-6278-11e9-9a2d-23a33852f8e2?imageView2/2/h/220\" class=\"chat_img\"><span class=\"chat_info_author\">Mo · Mo 人工智能俱乐部</span><div class=\"chat_bottom_right\"><div class=\"chat_count\"><span>176 人已加入</span></div></div></div></div></object></a></div><div style=\"padding:0;border: none\" class=\"col-md-12\"><a href=\"/gitchat/activity/5cb92e29a31ba2778404f205\" target=\"_blank\"><object><div class=\"chat_item\"><a href=\"/?categoryId=58e84f6bad952d6b3428af9a\" class=\"chat_category\">架构</a><div class=\"chat_info_title\"><img src=\"https://images.gitbook.cn/FiBfwwUZ_mZ-Q6YDx9I8PTTAW350\" class=\"chat_strict\"><span>领域驱动设计战术模式：值对象</span></div><div class=\"chat_info_desc\">领域驱动设计战术部分，是一组面向业务的设计模式，是基于技术的一种思维方式，相对开发人员来说更接地气，是提升个人格局比较好的切入点。\n",
      "\n",
      "该文章为战术模式的第二篇，重心讲解值对象模式。\n",
      "\n",
      "值对象经常被掩盖在实体的阴影之下，但它却是非常重要的 DDD 概念。\n",
      "值对象不具有身份，它纯粹用于描述实体的特性。处理不具有身份的值对象是很容易的，尤其是不变性与可组合性是支持易用性的两个特征。\n",
      "\n",
      "通过本 Chat，您可以：\n",
      "1. 理解值对象\n",
      "2. 何时使用值对象\n",
      "3. 实现值对象\n",
      "4. 值对象建模模式\n",
      "5. 值对象持久化\n",
      "6. 值对象其他用途\n",
      "7. 小结</div><div class=\"chat_info_bottom\"><img src=\"https://images.gitbook.cn/fdb85ed0-83e8-11e8-81e8-9d5996b3268d?imageView2/2/h/220\" class=\"chat_img\"><span class=\"chat_info_author\">文心紫竹 · 架构师</span><div class=\"chat_bottom_right\"><div class=\"chat_count\"><span>241 人已加入</span></div></div></div></div></object></a></div><div style=\"padding:0;border: none\" class=\"col-md-12\"><a href=\"/gitchat/activity/5cb8379c5f75cc777e4c22d7\" target=\"_blank\"><object><div class=\"chat_item\"><a href=\"/?categoryId=5901bd477b61a76bc4016423\" class=\"chat_category\">运维</a><div class=\"chat_info_title\"><img src=\"https://images.gitbook.cn/FiBfwwUZ_mZ-Q6YDx9I8PTTAW350\" class=\"chat_strict\"><span>Nginx 在大中小公司运维实战</span></div><div class=\"chat_info_desc\">Nginx 作为互联网从业人员耳熟能详的 Web 及 Proxy server，已经有大量的文章和权威书籍介绍过它的安装、优化、扩展和运维。不过大家也应该知道：不同规模的公司对 Nginx 的架构、可维护性、可用性及兼容性的要求千差万别。所以希望通过这次分享，结合作者的从业经历，向大家展示在不同规模公司中 Nginx 的架构及使用姿势，希望这次分享能给大家一些启发。\n",
      "\n",
      "文章内容包括：\n",
      "1. Nginx 前世今生\n",
      "2. Nginx 凭什么把 Apache 按在地上\n",
      "3. Nginx 在项目中扮演的那些角色\n",
      "4. Nginx 安装使用\n",
      "5. Nginx 在大中小型公司的实践\n",
      "\n",
      "---\n",
      "\n",
      "作者简介：南海洋，饿了么物流团队资深运维工程师。负责上海物流团队运维工作，现专注于稳定性建设。</div><div class=\"chat_info_bottom\"><img src=\"https://images.gitbook.cn/a5a08f30-4628-11e9-89dd-13e2db9469e7?imageView2/2/h/220\" class=\"chat_img\"><span class=\"chat_info_author\">饿了么物流技术团队 · 饿了么物流技术团队</span><div class=\"chat_bottom_right\"><div class=\"chat_count\"><span>319 人已加入</span></div></div></div></div></object></a></div><div style=\"padding:0;border: none\" class=\"col-md-12\"><a href=\"/gitchat/activity/5cb712a739c3bc6ea09c9ed3\" target=\"_blank\"><object><div class=\"chat_item\"><a href=\"/?categoryId=58e84f31ad952d6b3428af99\" class=\"chat_category\">技术管理</a><div class=\"chat_info_title\"><img src=\"https://images.gitbook.cn/FiBfwwUZ_mZ-Q6YDx9I8PTTAW350\" class=\"chat_strict\"><span>从码农到工匠：程序员的质量修炼之道</span></div><div class=\"chat_info_desc\">年底加薪时，你是想被老板告知一个百分比？还是想告知老板一个百分比并且给他个理由？程序员的价值在哪？在日新月异的 IT 行业，我们在终身学习的路上有什么是能够积累下来并对我们持续增值的？\n",
      "\n",
      "答案也许不止一个，但质量无疑是其中之一。做出好东西，才是公司对我们最终的期待。\n",
      "\n",
      "本 Chat 是讲师十余年码农生涯的经验总结和提炼，带来关于质量的思维体系和价值观，包括：\n",
      "\n",
      "- 什么是质量圈，有哪些不同维度的质量\n",
      "- 如何度量、提升程序员的产出质量\n",
      "- 如何与团队中其它角色配合，系统性地提升产品质量\n",
      "- 如何平衡速度与质量\n",
      "\n",
      "适合对象：\n",
      "\n",
      "- 对自己有更高期望的程序员\n",
      "- 对自己的程序员团队有更高期望的管理者\n",
      "- 需要跟程序员打交道的 IT 从业者\n",
      "</div><div class=\"chat_info_bottom\"><img src=\"https://images.gitbook.cn/99bef250-5b50-11e9-a58f-178d43fbc970?imageView2/1/w/200/h/200\" class=\"chat_img\"><span class=\"chat_info_author\">蔡建斌 · IT 经理</span><div class=\"chat_bottom_right\"><div class=\"chat_count\"><span>259 人已加入</span></div></div></div></div></object></a></div><div style=\"padding:0;border: none\" class=\"col-md-12\"><a href=\"/gitchat/activity/5cb6f46e1c5b6f6eb7f515bb\" target=\"_blank\"><object><div class=\"chat_item\"><a href=\"/?categoryId=58e84f53ec8e9e7b34457809\" class=\"chat_category\">人工智能</a><div class=\"chat_info_title\"><img src=\"https://images.gitbook.cn/FiBfwwUZ_mZ-Q6YDx9I8PTTAW350\" class=\"chat_strict\"><span>Python 数据分析师必备的入门学习路线和技能</span></div><div class=\"chat_info_desc\">要想从事数据分析相关工作，要学的东西太多了，到底该怎么学？ 学哪些？ 通过 Chat ，你会在最短时间内，系统地学到数据分析如下知识：\n",
      "\n",
      "1. 数据科学的完整学习路线\n",
      "2. 数据清洗(真正项目中此部分费时费力)的实施主要步骤( 5 方面展开)\n",
      "3. 零基础掌握 Python 核心知识\n",
      "4. NumPy：1 个对象和 2 大机制使用总结\n",
      "5. Pandas：2 个对象和 20 个常用函数总结\n",
      "6. Matplotlib：提炼为 100 行代码\n",
      "7. 机器学习以最经典的线性回归为例，从理论，公式推导，到手写代码实现算法\n",
      "8. 实战与分享 1 门哈佛大学的数据科学开源课程\n",
      "9. 分享 2 个数据科学面试经历\n",
      "10. 本场 chat 总结：1 条数据分析的入门学习路线 + 1 个数据分析核心任务的实施步骤 + Python 语言核心用法总结 + 3 个科学包的工程使用提炼总结 + 机器学习入门 + 1 门名校数据分析课程分享实战 + 2 个面试经历分享\n",
      "11. 注：预计全文字数 2 万+，干货满满\n",
      "</div><div class=\"chat_info_bottom\"><img src=\"https://images.gitbook.cn/a11f2770-694a-11e8-b501-5b633bc9aed2?imageView2/1/w/200/h/200\" class=\"chat_img\"><span class=\"chat_info_author\">zglg · 算法工程师</span><div class=\"chat_bottom_right\"><div class=\"chat_count\"><span>1370 人已加入</span></div></div></div></div></object></a></div><div style=\"padding:0;border: none\" class=\"col-md-12\"><a href=\"/gitchat/activity/5cb6b63b39c3bc6ea09c9cfa\" target=\"_blank\"><object><div class=\"chat_item\"><a href=\"/?categoryId=59eafe89692eee01b9fb77e7\" class=\"chat_category\">硬件与物联网</a><div class=\"chat_info_title\"><img src=\"https://images.gitbook.cn/FiBfwwUZ_mZ-Q6YDx9I8PTTAW350\" class=\"chat_strict\"><span>Apollo 无人驾驶平台中多传感器标定</span></div><div class=\"chat_info_desc\">传感器标定是无人车中最基础也是最核心的模块之一。作为软件层提供的第一项服务，标定的质量和准确度对感知、定位地图、PNC 等模块有着极大的影响。在 Apollo 开放平台中，我们提供了丰富的多传感器标定服务，如激光雷达，惯导、摄像头、多普勒雷达等多种传感器之间的标定。\n",
      "\n",
      "传感器标定算法通常覆盖了常规的 L2-L4 级别自动驾驶的传感器配置和标定需求，其覆盖广，复杂性高。那么开发者如何更好地应用这项技术呢？欢迎一起学习讨论！\n",
      "\n",
      "本次 Chat 主要内容：\n",
      "1. 多传感器标定简述\n",
      "2. Apollo 标定流程详解\n",
      "3. 多传感器标定实际应用分析\n",
      "</div><div class=\"chat_info_bottom\"><img src=\"https://images.gitbook.cn/4dfcb8b0-276c-11e9-876b-13f7be4ecdb9?imageView2/2/h/220\" class=\"chat_img\"><span class=\"chat_info_author\">Guang Chen · 百度美研Apollo感知团队，资深软件架构师</span><div class=\"chat_bottom_right\"><div class=\"chat_count\"><span>1032 人已加入</span></div></div></div></div></object></a></div><div style=\"padding:0;border: none\" class=\"col-md-12\"><a href=\"/gitchat/activity/5cb307890ef30f237fce8bcb\" target=\"_blank\"><object><div class=\"chat_item\"><a href=\"/?categoryId=58e84f1584c651693437f27c\" class=\"chat_category\">职场</a><div class=\"chat_info_title\"><img src=\"https://images.gitbook.cn/FiBfwwUZ_mZ-Q6YDx9I8PTTAW350\" class=\"chat_strict\"><span>你敢“忽悠”面试官吗？聊聊面试过程的预期管理</span></div><div class=\"chat_info_desc\">互联网一线大厂之外，在那些风光的“技术网红”背后，还有成千上万的“技术水平一般”的程序员。他们只能靠任劳任怨，努力 coding 来做好这份工作。\n",
      "\n",
      "那么 TA 们如果面对裁员或者想跳槽的时候该怎么办？毕竟技术水平的提升不是一蹴而就的事。\n",
      "\n",
      "本 Chat 就是与你探讨如何恰当地“管理”面试官的预期，以及如何通过技术之外的优秀品质为自己增添亮点，从而提升面试成功的概率。</div><div class=\"chat_info_bottom\"><img src=\"https://wx.qlogo.cn/mmopen/mvoCePFLUhibeVp5TWn9eJTjbbsw8Pbq6G4ZKLY6iaDJNPLgiaq6TnPFngPGJ4ecLhT0Le7MYgWXqibbdrG3jicNpaUugYfE2ib5wM/0?imageView2/2/h/220\" class=\"chat_img\"><span class=\"chat_info_author\">姬光 · 商城前端组负责人</span><div class=\"chat_bottom_right\"><div class=\"chat_count\"><span>185 人已加入</span></div></div></div></div></object></a></div><div style=\"padding:0;border: none\" class=\"col-md-12\"><a href=\"/gitchat/activity/5cb2af63da8b092c221c84cc\" target=\"_blank\"><object><div class=\"chat_item\"><a href=\"/?categoryId=59c491948fee063dc3c447ab\" class=\"chat_category\">编程语言</a><div class=\"chat_info_title\"><img src=\"https://images.gitbook.cn/FiBfwwUZ_mZ-Q6YDx9I8PTTAW350\" class=\"chat_strict\"><span>Java 工程师核心基础修炼</span></div><div class=\"chat_info_desc\">金三银四，目前正值招聘求职旺季，最近也面试了不少应聘 Java 工程师的同学，很多同学对一些新技术名词都能侃侃而谈，但对一些核心原理理解的不够透彻，特别是对 Java 的一些核心基础知识点掌握的不够，例如 JVM、常用的算法和数据结构等。正所谓万丈高楼平地起，只有把基础掌握的牢固，才能走的更远，面对不断更新的技术才能快速掌握，同时在面试、工作中也更能脱颖而出！\n",
      "\n",
      "想在面试、工作中脱颖而出？想在最短的时间内快速掌握 Java 的核心基础知识点？想要成为一位优秀的 Java 工程师？本篇文章能助你一臂之力！\n",
      "\n",
      "本 Chat 主要包括以下内容：\n",
      "1. Java 核心基础：Java 异常分类及处理、Java 反射、Java 注解、Java 泛型、Java 序列化、Java 复制等。\n",
      "2. JVM 知识点：JVM 内存区域、JVM 运行时内存、垃圾回收与算法等。\n",
      "2. Java 多线程并发：Java 并发知识、Java 线程实现创建、线程锁等。\n",
      "3. Java 常用算法、数据结构。</div><div class=\"chat_info_bottom\"><img src=\"https://images.gitbook.cn/f9695200-5f8c-11e9-b5bc-4f6ff3567168?imageView2/1/w/200/h/200\" class=\"chat_img\"><span class=\"chat_info_author\">Kings · 架构师、产品研发、团队管理专家</span><div class=\"chat_bottom_right\"><div class=\"chat_count\"><span>349 人已加入</span></div></div></div></div></object></a></div><div style=\"padding:0;border: none\" class=\"col-md-12\"><a href=\"/gitchat/activity/5cafebd20ebc85648e322910\" target=\"_blank\"><object><div class=\"chat_item\"><a href=\"/?categoryId=59c491948fee063dc3c447ab\" class=\"chat_category\">编程语言</a><div class=\"chat_info_title\"><img src=\"https://images.gitbook.cn/FiBfwwUZ_mZ-Q6YDx9I8PTTAW350\" class=\"chat_strict\"><span>实例详解 JVM 类加载机制</span></div><div class=\"chat_info_desc\">作为有理想有追求的程序员，对于 JVM 的了解和掌握是有必要的。然而在我们工作中一般并不会直接和 JVM 打交道，因此这块内容也显得较为陌生和神秘，像是空中楼阁。本文通过实例讲解的方式而不是泛泛的总结，将使你对 Java 类加载机制有相对深刻的理解和掌握。\n",
      "\n",
      "本场 Chat 包含以下内容：\n",
      "\n",
      "- 类加载相关陷阱面试题\n",
      "- 类的生命周期\n",
      "- 类加载器机制\n",
      "- 类加载器命名空间\n",
      "- 线程上下文类加载器与 SPI\n",
      "\n",
      "本场 Chat 适合有基础编程能力，渴望了解和掌握 Java 类加载相关内容的读者。</div><div class=\"chat_info_bottom\"><img src=\"https://images.gitbook.cn/26ae09d0-80eb-11e8-a935-d59fe50595b6?imageView2/1/w/200/h/200\" class=\"chat_img\"><span class=\"chat_info_author\">charming · 程序员</span><div class=\"chat_bottom_right\"><div class=\"chat_count\"><span>309 人已加入</span></div></div></div></div></object></a></div><div style=\"padding:0;border: none\" class=\"col-md-12\"><a href=\"/gitchat/activity/5cad2fcdaea01a433bdfe21a\" target=\"_blank\"><object><div class=\"chat_item\"><a href=\"/?categoryId=58e84f6bad952d6b3428af9a\" class=\"chat_category\">架构</a><div class=\"chat_info_title\"><img src=\"https://images.gitbook.cn/FiBfwwUZ_mZ-Q6YDx9I8PTTAW350\" class=\"chat_strict\"><span>高性能系统设计：基于领域模型的互联网点赞系统</span></div><div class=\"chat_info_desc\">点赞服务在社交类平台中，是一个最常见的功能。每天会有成千上万的用户对其进行操作，在这看似简单的功能背后，蕴藏了不少设计哲学。让我们从领域驱动设计出发，从零设计、开发一套高性能的通用点赞服务。\n",
      "\n",
      "通过本 Chat 您将学习到：\n",
      "1. 领域驱动设计核心组件及应用\n",
      "2. 领域事件实战\n",
      "3. CQRS 架构实战\n",
      "\n",
      "\n",
      "本 Chat 主要面向于中、高级程序员；或对高性能系统设计有兴趣的码农。</div><div class=\"chat_info_bottom\"><img src=\"https://images.gitbook.cn/fdb85ed0-83e8-11e8-81e8-9d5996b3268d?imageView2/2/h/220\" class=\"chat_img\"><span class=\"chat_info_author\">文心紫竹 · 架构师</span><div class=\"chat_bottom_right\"><div class=\"chat_count\"><span>235 人已加入</span></div></div></div></div></object></a></div></div><div><div id=\"loader\"><img src=\"https://images.gitbook.cn/loading_spinner.gif\"></div><div id=\"noMoreToLoad\" style=\"display:none;height:60px;text-align:center;line-height: 60px;color:#555;\">-- 我们是有底线的 --</div></div></div></div><link href=\"/css/gitbook/indexRight.css\" rel=\"stylesheet\"><div id=\"indexRight\" style=\"\" class=\"hidden-xs\"><link rel=\"stylesheet\" href=\"/css/gitbook/indexGitChatRightTop.css\"><div class=\"vipClick vip_right_tag\"><div style=\"display: flex;\"><div class=\"vip_list_item\"><img src=\"https://images.gitbook.cn/FjUg5IGe5ThyN4F3BgPwVLtNUH6z?imageView2/1/h/500\" height=\"50\" width=\"50\" alt=\"\"><div class=\"vip_list_item_txt_1\">Chat</div><div class=\"vip_list_item_txt_2\">免费订</div></div><div class=\"vip_list_item\"><img src=\"https://images.gitbook.cn/Frl6G1w68QeqEpWzShYkZkF0ehqs?imageView2/1/h/500\" height=\"50\" width=\"50\" alt=\"\"><div class=\"vip_list_item_txt_1\">课程</div><div class=\"vip_list_item_txt_2\">随心学</div></div><div class=\"vip_list_item\"><img src=\"https://images.gitbook.cn/Fiyy0OVXYs6dh8eIcTFz0eC_PZeG?imageView2/1/h/500\" height=\"50\" width=\"50\" alt=\"\"><div class=\"vip_list_item_txt_1\">好书</div><div class=\"vip_list_item_txt_2\">每月领</div></div><div class=\"vip_list_item\"><img src=\"https://images.gitbook.cn/FtpKeUnInA1OgvIFtJjDKmOBO30g?imageView2/1/h/500\" height=\"50\" width=\"50\" alt=\"\"><div class=\"vip_list_item_txt_1\">专家</div><div class=\"vip_list_item_txt_2\">畅快聊</div></div></div><div class=\"vipClick vip_become_btn\">成为会员</div></div><a href=\"/gitchat/vipCompany\" target=\"_blank\" class=\"right_ad_img\"><img src=\"https://images.gitbook.cn/FrOLoGibmfOTK0DlHes4aOCGizrT\"></a><div class=\"vip_hot_title\">热门分类</div><div class=\"right_hot_tags\"><a href=\"/gitchat/categories/58e84f875295227534aad506/1\" target=\"_blank\" class=\"right_tag_item\"><img src=\"https://images.gitbook.cn/FjgoMiaOzWmUU3JgdX3qvkBGGQ91\"><span>前端</span></a><a href=\"/gitchat/categories/58e84f53ec8e9e7b34457809/2\" target=\"_blank\" class=\"right_tag_item\"><img src=\"https://images.gitbook.cn/FuPwXhHD3AxVmjsNdsmwGMK2Snxm\"><span>人工智能</span></a><a href=\"/gitchat/categories/58e84f6bad952d6b3428af9a/3\" target=\"_blank\" class=\"right_tag_item\"><img src=\"https://images.gitbook.cn/FmfNJDcE5rxC2X8GjgH8cfc8sFdW\"><span>架构</span></a><a href=\"/gitchat/categories/5953698a3d38293ecceacb89/4\" target=\"_blank\" class=\"right_tag_item\"><img src=\"https://images.gitbook.cn/Fikw2zHy2kEE5fDxXgnH6aznmCEw\"><span>区块链</span></a><a href=\"/gitchat/categories/58e84f1584c651693437f27c/5\" target=\"_blank\" class=\"right_tag_item\"><img src=\"https://images.gitbook.cn/FkEA14MZoO2nVDHiO2hRZcNASz14\"><span>职场</span></a><a href=\"/gitchat/categories/59c491948fee063dc3c447ab/6\" target=\"_blank\" class=\"right_tag_item\"><img src=\"https://images.gitbook.cn/FidoaTbc4rvNKqFISPUs_0_NC1Xd\"><span>编程语言</span></a><a href=\"/gitchat/categories/58e84f31ad952d6b3428af99/7\" target=\"_blank\" class=\"right_tag_item\"><img src=\"https://images.gitbook.cn/FuMNvLb25yJ4RiEg_2OnS8jpI8aB\"><span>技术管理</span></a><a href=\"/gitchat/categories/58e84f7bec8e9e7b3445780d/8\" target=\"_blank\" class=\"right_tag_item\"><img src=\"https://images.gitbook.cn/FsAwwVyxgMp5jrw3V1OzBAFRlZXd\"><span>大数据</span></a><a href=\"/gitchat/categories/591171a3e692d5280d8157b6/9\" target=\"_blank\" class=\"right_tag_item\"><img src=\"https://images.gitbook.cn/FvClrIKCKLu4pj4tys0BMpr3IEy_\"><span>移动开发</span></a><a href=\"/gitchat/categories/58e84f2284c651693437f27d/10\" target=\"_blank\" class=\"right_tag_item\"><img src=\"https://images.gitbook.cn/FhpGxdtnPjzRslCSUnNKdBXdjGLQ\"><span>产品与运营</span></a><a href=\"/gitchat/categories/58e84f425295227534aad502/11\" target=\"_blank\" class=\"right_tag_item\"><img src=\"https://images.gitbook.cn/FiDhwLN1jdKDRmYqdySCaKcw-1R3\"><span>测试</span></a><a href=\"/gitchat/categories/591f073981be962a981acf18/12\" target=\"_blank\" class=\"right_tag_item\"><img src=\"https://images.gitbook.cn/FrRYtPEGuW_ZbSEIUIQRHOPlzVPc\"><span>安全</span></a><a href=\"/gitchat/categories/5901bd477b61a76bc4016423/13\" target=\"_blank\" class=\"right_tag_item\"><img src=\"https://images.gitbook.cn/Fjz0BDR-Wh44YkTpn0nnZj7jqyyz\"><span>运维</span></a></div><div class=\"right_what_chat\"><span>Chat 是什么？</span><a href=\"/books/5b398139328f856827673b50/index.html\" target=\"_blank\" class=\"right_know_chat\"><span>了解更多</span></a></div><div style=\"background-color:#fff;padding:20px;\"><div><span>Chat 是一种全新的阅读/写作互动体验产品。一场 Chat 包含一篇文章和一场为该文章的读者和作者准备的专属线上交流。</span></div><div style=\"margin-top:20px\"><div data-step=\"4\" data-intro=\"关注GitChat服务号，获取活动状态通知。\" style=\"float:left;\"><img src=\"https://images.gitbook.cn/FugaAUCJPglWvm7ZO6Vldhc6Iq6h\" height=\"100\" width=\"100\"></div><div style=\"margin-left:100px;\"><div class=\"right_follow\">关注 GitChat 微信公众号</div><div style=\"color:#95A094;\"><ul><li>获得 Chat 邀请</li><li>与作者实时互动</li><li>限时特惠不错过</li></ul></div></div></div><div class=\"right_box\">               <a data-step=\"1\" data-intro=\"发布Chat活动，开启讲师之旅。\" target=\"_blank\" href=\"/new/gitchat/activity\" role=\"button\" class=\"right_create\">创建一场 Chat</a><a target=\"_blank\" href=\"/application/column\" role=\"button\" class=\"right_become\">成为课程作者</a><a target=\"_blank\" href=\"https://github.com/GitBookCn/GitChat\" role=\"button\" class=\"right_become\">说出你的需求</a></div><div class=\"right_join\"><a href=\"http://gitbook.cn/books/5ad965d38ba0ed4ba9410f27/index.html\" target=\"_blank\">加入我们</a><span>|</span><a id=\"aboutusLink\" href=\"/books/5b398139328f856827673b50/index.html\" target=\"_blank\">常见问题</a><span>|</span><a id=\"contactUsLink\" data-toggle=\"modal\" href=\"#contactUsModal\">联系客服</a></div></div><div id=\"adRight\" style=\"\" class=\"hidden-xs\"><div class=\"vipClick vip_right_tag\"><div style=\"display: flex;\"><div class=\"vip_list_item\"><img src=\"https://images.gitbook.cn/FjUg5IGe5ThyN4F3BgPwVLtNUH6z?imageView2/1/h/500\" height=\"50\" width=\"50\" alt=\"\"><div class=\"vip_list_item_txt_1\">Chat</div><div class=\"vip_list_item_txt_2\">免费订</div></div><div class=\"vip_list_item\"><img src=\"https://images.gitbook.cn/Frl6G1w68QeqEpWzShYkZkF0ehqs?imageView2/1/h/500\" height=\"50\" width=\"50\" alt=\"\"><div class=\"vip_list_item_txt_1\">课程</div><div class=\"vip_list_item_txt_2\">随心学</div></div><div class=\"vip_list_item\"><img src=\"https://images.gitbook.cn/Fiyy0OVXYs6dh8eIcTFz0eC_PZeG?imageView2/1/h/500\" height=\"50\" width=\"50\" alt=\"\"><div class=\"vip_list_item_txt_1\">好书</div><div class=\"vip_list_item_txt_2\">每月领</div></div><div class=\"vip_list_item\"><img src=\"https://images.gitbook.cn/FtpKeUnInA1OgvIFtJjDKmOBO30g?imageView2/1/h/500\" height=\"50\" width=\"50\" alt=\"\"><div class=\"vip_list_item_txt_1\">专家</div><div class=\"vip_list_item_txt_2\">畅快聊</div></div></div><div class=\"vipClick vip_become_btn\">成为会员</div></div><div class=\"vip_hot_title\">热门分类</div><div class=\"right_hot_tags\"><a href=\"/gitchat/categories/58e84f875295227534aad506/1\" target=\"_blank\" class=\"right_tag_item\"><img src=\"https://images.gitbook.cn/FjgoMiaOzWmUU3JgdX3qvkBGGQ91\"><span>前端</span></a><a href=\"/gitchat/categories/58e84f53ec8e9e7b34457809/2\" target=\"_blank\" class=\"right_tag_item\"><img src=\"https://images.gitbook.cn/FuPwXhHD3AxVmjsNdsmwGMK2Snxm\"><span>人工智能</span></a><a href=\"/gitchat/categories/58e84f6bad952d6b3428af9a/3\" target=\"_blank\" class=\"right_tag_item\"><img src=\"https://images.gitbook.cn/FmfNJDcE5rxC2X8GjgH8cfc8sFdW\"><span>架构</span></a><a href=\"/gitchat/categories/5953698a3d38293ecceacb89/4\" target=\"_blank\" class=\"right_tag_item\"><img src=\"https://images.gitbook.cn/Fikw2zHy2kEE5fDxXgnH6aznmCEw\"><span>区块链</span></a><a href=\"/gitchat/categories/58e84f1584c651693437f27c/5\" target=\"_blank\" class=\"right_tag_item\"><img src=\"https://images.gitbook.cn/FkEA14MZoO2nVDHiO2hRZcNASz14\"><span>职场</span></a><a href=\"/gitchat/categories/59c491948fee063dc3c447ab/6\" target=\"_blank\" class=\"right_tag_item\"><img src=\"https://images.gitbook.cn/FidoaTbc4rvNKqFISPUs_0_NC1Xd\"><span>编程语言</span></a><a href=\"/gitchat/categories/58e84f31ad952d6b3428af99/7\" target=\"_blank\" class=\"right_tag_item\"><img src=\"https://images.gitbook.cn/FuMNvLb25yJ4RiEg_2OnS8jpI8aB\"><span>技术管理</span></a><a href=\"/gitchat/categories/58e84f7bec8e9e7b3445780d/8\" target=\"_blank\" class=\"right_tag_item\"><img src=\"https://images.gitbook.cn/FsAwwVyxgMp5jrw3V1OzBAFRlZXd\"><span>大数据</span></a><a href=\"/gitchat/categories/591171a3e692d5280d8157b6/9\" target=\"_blank\" class=\"right_tag_item\"><img src=\"https://images.gitbook.cn/FvClrIKCKLu4pj4tys0BMpr3IEy_\"><span>移动开发</span></a><a href=\"/gitchat/categories/58e84f2284c651693437f27d/10\" target=\"_blank\" class=\"right_tag_item\"><img src=\"https://images.gitbook.cn/FhpGxdtnPjzRslCSUnNKdBXdjGLQ\"><span>产品与运营</span></a><a href=\"/gitchat/categories/58e84f425295227534aad502/11\" target=\"_blank\" class=\"right_tag_item\"><img src=\"https://images.gitbook.cn/FiDhwLN1jdKDRmYqdySCaKcw-1R3\"><span>测试</span></a><a href=\"/gitchat/categories/591f073981be962a981acf18/12\" target=\"_blank\" class=\"right_tag_item\"><img src=\"https://images.gitbook.cn/FrRYtPEGuW_ZbSEIUIQRHOPlzVPc\"><span>安全</span></a><a href=\"/gitchat/categories/5901bd477b61a76bc4016423/13\" target=\"_blank\" class=\"right_tag_item\"><img src=\"https://images.gitbook.cn/Fjz0BDR-Wh44YkTpn0nnZj7jqyyz\"><span>运维</span></a></div><script>if(!showCount){\n",
      "    //当没定义距离时为正常高度，定义了为长标签高度\n",
      "    var showCount = 1800;\n",
      "}\n",
      "window.onscroll = function () {\n",
      "    var topCount = $(document).scrollTop();\n",
      "    if(topCount>showCount){\n",
      "        $('#adRight').show();\n",
      "    }else{\n",
      "        $('#adRight').hide();\n",
      "    }\n",
      "}\n",
      "//定位广告\n",
      "//- $(window).resize(function(){\n",
      "//-     let leftPosition = $('#indexRight').offset().left+10;\n",
      "//-     if(leftPosition<100){\n",
      "//-         $('#adRight').hide();\n",
      "//-     }else{\n",
      "//-         $('#adRight').css('left',leftPosition);\n",
      "//-     }\n",
      "\n",
      "//- });\n",
      "//跳转会员页\n",
      "$('.vipClick').on('click', function () {\n",
      "    window.location.href='/gitchat/vip';\n",
      "    event.stopPropagation();\n",
      "    event.preventDefault();\n",
      "})</script></div><script>//跳转会员页\n",
      "$('.vipClick').on('click', function () {\n",
      "    window.location.href='/gitchat/vip';\n",
      "    event.stopPropagation();\n",
      "    event.preventDefault();\n",
      "})</script></div></div><script src=\"https://res.wx.qq.com/connect/zh_CN/htmledition/js/wxLogin.js\"></script><div class=\"fat-nav\"><div class=\"fat-nav__wrapper\"><div style=\"margin: 0 auto;font-size: 30px;color: #ffffff;text-align: center;margin-top: 60px;\"><img style=\"width: 50px;\" src=\"https://images.gitbook.cn/FnzjNghzs_ktFPUKeLaFX38rbNsL\"></div><div id=\"loginInputDiv\" style=\"width: 100%\"><div style=\"text-align:center;color: #ffffff;margin-top:10px;font-size: 16px;letter-spacing: 2px;\">微信扫描登录</div><div id=\"login_container\" style=\"text-align: center;height: 250px;\"></div></div></div></div><div id=\"authorModal\" style=\"margin-top: 60px;\" tabindex=\"-1\" role=\"dialog\" aria-labelledby=\"myModalLabel\" class=\"modal fade\"><div role=\"document\" class=\"modal-dialog\"><div class=\"modal-content\"><div class=\"modal-header\"><button type=\"button\" data-dismiss=\"modal\" aria-label=\"Close\" class=\"close\"><span aria-hidden=\"true\">×</span></button><h4 id=\"authorModalLabel\" class=\"modal-title\">帐号设置</h4></div><div class=\"modal-body\"><div style=\"display:inline-block;width: 100%;\"><div style=\"display:inline;float:left;padding: 20px 0 0 10px;min-width: 280px;\"><div id=\"authorThumb\" style=\"display: inline-block;float:left;width: 100px;height: 100px;border: 1px solid #cccccc;margin-right: 20px;                        line-height: 100px;font-size: 30px;text-align: center;-webkit-border-radius: 50px;margin-bottom:20px;\">头像</div><form id=\"thumbUploadForm\" style=\"margin-top:25px;\" method=\"post\" action=\"/upload/book/image\" enctype=\"multipart/form-data\"><div style=\"display: inline\" class=\"form-group\"><a href=\"javascript:;\" class=\"file\">选择头像<input id=\"thumbInputFile\" type=\"file\" name=\"tmpFile\" onchange=\"javascript:submitThumbForm()\"></a><p style=\"font-size:12px;\" class=\"help-block\">最佳分辨率：200*200像素</p></div></form></div><!--if customerAccountStatus == 'onlymail'--><!--    div.hidden-xs(style='display:inline;float:right;width:50%;height: 220px;text-align: center;')--><!--        span 绑 定 微 信 帐 号--><!--        div#bandweixin(style='height: 220px;overflow: hidden;')--><!--    script.--><!--        if (!(/MicroMessenger/i).test(window.navigator.userAgent)) {--><!--            var state = encodeURI(window.location.href);--><!--            $.ajax ({--><!--                url: \"/weixin/bind/weixin/qr\",--><!--                type: \"POST\",--><!--                dataType: \"json\",--><!--                contentType: \"application/json; charset=utf-8\",--><!--                success: function(data,status){--><!--                    if(data.code == 0){--><!--                        var obj = new WxLogin({--><!--                            id:\"bandweixin\",--><!--                            appid: data.appId,--><!--                            scope: data.scope,--><!--                            redirect_uri: data.redirectUrl,--><!--                            state: state,--><!--                            style: \"black\",--><!--                            href: \"https%3A%2F%2Foabbwo5lj.qnssl.com%2FweixinLoginQr2.css\"--><!--                            });--><!--                    }--><!--                }--><!--            });--><!--        }--></div><div style=\"display:inline-block;width:100%;border-top:1px dashed #f5f5f5;height:20px;\"></div><div style=\"display:inline-block;width:100%;\"><div style=\"float:left;line-height:30px;\">昵   称:</div><div style=\"margin-left:70px;\"><input id=\"authorName\" style=\"margin-bottom: 10px;\" type=\"text\" placeholder=\"用户昵称\" value=\"\" class=\"form-control\"></div></div><div style=\"display:inline-block;width:100%;\"><div style=\"float:left;line-height:30px;\">微信号:</div><div style=\"margin-left:70px;\"><input id=\"weixinAccount\" style=\"margin-bottom: 10px;\" type=\"text\" placeholder=\"不填写微信号就不能发布Chat活动哦^_^\" value=\"\" class=\"form-control\"></div></div><div style=\"display:inline-block;width:100%;\"><div style=\"float:left;line-height:30px;\">头   衔:</div><div style=\"margin-left:70px;\"><input id=\"authorTitle\" style=\"margin-bottom: 10px;\" type=\"text\" placeholder=\"用户头衔\" value=\"\" class=\"form-control\"></div></div><div style=\"display:inline-block;width:100%;\"><div style=\"float:left;line-height:30px;\">背景介绍:</div><div style=\"margin-left:70px;\"><textarea id=\"authorBackground\" style=\"margin-bottom: 10px;\" rows=\"3\" placeholder=\"用户背景简介\" class=\"form-control\"></textarea><input id=\"hideCustomerThumbImage\" style=\"display:none\"></div></div><div style=\"font-size: 25px;line-height: 35px;\"></div><div id=\"thumbUploadingAlertDiv\" style=\"display:none;margin-top: 50px;margin-bottom: -20px;\" class=\"alert alert-info\">正在上传头像，请稍等......</div><div id=\"updatingAlertDiv\" style=\"display:none;margin-top: 50px;margin-bottom: -20px;\" class=\"alert alert-info\">正在更新，请稍等......</div><div id=\"emailCheckAlertDiv\" style=\"display:none;margin-top: 50px;margin-bottom: -20px;\" class=\"alert alert-danger\">邮件地址格式不正确，请重新填写</div><div id=\"dupEmailAlertDiv\" style=\"display:none;margin-top: 50px;margin-bottom: -20px;\" class=\"alert alert-danger\">此邮件地址已经被其他用户使用</div></div><div style=\"margin-top: 20px;\" class=\"modal-footer\"><button type=\"button\" data-dismiss=\"modal\" class=\"btn btn-default\">取消</button><button id=\"authorSubmitBtn\" type=\"button\" data-dismiss=\"modal\" class=\"btn btn-primary\">保存</button></div></div></div></div><script>if (!(/MicroMessenger/i).test(window.navigator.userAgent)) {\n",
      "    var state = encodeURI(window.location.href);\n",
      "    $.ajax ({\n",
      "            url: \"/weixin/login/qr\",\n",
      "            type: \"POST\",\n",
      "            dataType: \"json\",\n",
      "            contentType: \"application/json; charset=utf-8\",\n",
      "            success: function(data,status){\n",
      "                if(data.code == 0){\n",
      "                    console.log(data)\n",
      "                    var obj = new WxLogin({\n",
      "                              id:\"login_container\",\n",
      "                              appid: data.appId,\n",
      "                              scope: data.scope,\n",
      "                              redirect_uri: data.redirectUrl,\n",
      "                              state: state,\n",
      "                              style: \"white\",\n",
      "                              href: \"https%3A%2F%2Foabbwo5lj.qnssl.com%2FweixinLoginQr.css\"\n",
      "                            });\n",
      "                    console.log(obj)        \n",
      "                }\n",
      "            }\n",
      "    });\n",
      "}</script><script src=\"/dist/js/jquery.fatNav.js\"></script><script>new gnMenu( document.getElementById( 'gn-menu' ) );</script></body><script src=\"https://res.wx.qq.com/open/js/jweixin-1.0.0.js\"></script><script>$.ajax ({\n",
      "    url: \"/weixin/signature\",\n",
      "    type: \"POST\",\n",
      "    data: JSON.stringify({url:window.location.href}),\n",
      "    dataType: \"json\",\n",
      "    contentType: \"application/json; charset=utf-8\",\n",
      "    success: function(data,status){\n",
      "        if(data.code == 0){\n",
      "            wx.config({\n",
      "            debug: false,\n",
      "            appId: 'wx7ba47eadabd9ddde',\n",
      "            timestamp: data.timestamp,\n",
      "            nonceStr: data.nonce,\n",
      "            signature: data.sha1,\n",
      "            jsApiList: ['onMenuShareTimeline','onMenuShareAppMessage','onMenuShareQQ','onMenuShareWeibo','onMenuShareQZone','chooseWXPay']\n",
      "            });\n",
      "            wx.ready(function(){\n",
      "                //alert('config check successfully.');\n",
      "                wx.onMenuShareTimeline({\n",
      "                title: '', // 分享标题\n",
      "                link: '', // 分享链接\n",
      "                imgUrl: '', // 分享图标\n",
      "                success: function () {\n",
      "                // 用户确认分享后执行的回调函数\n",
      "                    $.ajax({\n",
      "                        url: \"/m/mazi/share/event\",\n",
      "                        type: \"POST\",\n",
      "                        data: JSON.stringify({\n",
      "                            shareItemType:'', // activity, article, author, others\n",
      "                            shareItemId:'',\n",
      "                            shareToken:'',\n",
      "                            shareChanel:'weixinTimeline',\n",
      "                            shareItemUrl:window.location.href\n",
      "                        }),\n",
      "                        dataType: \"json\",\n",
      "                        contentType: \"application/json; charset=utf-8\",\n",
      "                        success: function (data, status) {\n",
      "\n",
      "                        }\n",
      "                    });\n",
      "                },\n",
      "                cancel: function () {\n",
      "                // 用户取消分享后执行的回调函数\n",
      "                }\n",
      "                });\n",
      "                wx.onMenuShareAppMessage({\n",
      "                title: '', // 分享标题\n",
      "                desc: '', // 分享描述\n",
      "                link: '', // 分享链接\n",
      "                imgUrl: '', // 分享图标\n",
      "                type: 'link', // 分享类型,music、video或link，不填默认为link\n",
      "                dataUrl: '', // 如果type是music或video，则要提供数据链接，默认为空\n",
      "                success: function () {\n",
      "                    // 用户确认分享后执行的回调函数\n",
      "                    $.ajax({\n",
      "                        url: \"/m/mazi/share/event\",\n",
      "                        type: \"POST\",\n",
      "                        data: JSON.stringify({\n",
      "                            shareItemType: '', // activity, article, author, others\n",
      "                            shareItemId: '',\n",
      "                            shareToken: '',\n",
      "                            shareChanel: 'weixinMessage',\n",
      "                            shareItemUrl: window.location.href\n",
      "                        }),\n",
      "                        dataType: \"json\",\n",
      "                        contentType: \"application/json; charset=utf-8\",\n",
      "                        success: function (data, status) {\n",
      "\n",
      "                        }\n",
      "                    });\n",
      "                },\n",
      "                cancel: function () {\n",
      "                // 用户取消分享后执行的回调函数\n",
      "                }\n",
      "                });\n",
      "                wx.onMenuShareQQ({\n",
      "                title: '', // 分享标题\n",
      "                desc: '', // 分享描述\n",
      "                link: '', // 分享链接\n",
      "                imgUrl: '', // 分享图标\n",
      "                success: function () {\n",
      "                    // 用户确认分享后执行的回调函数\n",
      "                    $.ajax({\n",
      "                        url: \"/m/mazi/share/event\",\n",
      "                        type: \"POST\",\n",
      "                        data: JSON.stringify({\n",
      "                            shareItemType: '', // activity, article, author, others\n",
      "                            shareItemId: '',\n",
      "                            shareToken: '',\n",
      "                            shareChanel: 'qq',\n",
      "                            shareItemUrl: window.location.href\n",
      "                        }),\n",
      "                        dataType: \"json\",\n",
      "                        contentType: \"application/json; charset=utf-8\",\n",
      "                        success: function (data, status) {\n",
      "\n",
      "                        }\n",
      "                    });\n",
      "                },\n",
      "                cancel: function () {\n",
      "                // 用户取消分享后执行的回调函数\n",
      "                }\n",
      "                });\n",
      "                wx.onMenuShareWeibo({\n",
      "                title: '', // 分享标题\n",
      "                desc: '', // 分享描述\n",
      "                link: '', // 分享链接\n",
      "                imgUrl: '', // 分享图标\n",
      "                success: function () {\n",
      "                // 用户确认分享后执行的回调函数\n",
      "                },\n",
      "                cancel: function () {\n",
      "                // 用户取消分享后执行的回调函数\n",
      "                }\n",
      "                });\n",
      "                wx.onMenuShareQZone({\n",
      "                title: '', // 分享标题\n",
      "                desc: '', // 分享描述\n",
      "                link: '', // 分享链接\n",
      "                imgUrl: '', // 分享图标\n",
      "                success: function () {\n",
      "                    // 用户确认分享后执行的回调函数\n",
      "                    $.ajax({\n",
      "                        url: \"/m/mazi/share/event\",\n",
      "                        type: \"POST\",\n",
      "                        data: JSON.stringify({\n",
      "                            shareItemType: '', // activity, article, author, others\n",
      "                            shareItemId: '',\n",
      "                            shareToken: '',\n",
      "                            shareChanel: 'QZone',\n",
      "                            shareItemUrl: window.location.href\n",
      "                        }),\n",
      "                        dataType: \"json\",\n",
      "                        contentType: \"application/json; charset=utf-8\",\n",
      "                        success: function (data, status) {\n",
      "\n",
      "                        }\n",
      "                    });\n",
      "                },\n",
      "                cancel: function () {\n",
      "                // 用户取消分享后执行的回调函数\n",
      "                }\n",
      "                });\n",
      "            });\n",
      "            wx.error(function (res) {\n",
      "            });\n",
      "        }\n",
      "    }\n",
      "});</script><script async src=\"https://www.googletagmanager.com/gtag/js?id=UA-96766334-1\"></script><script>window.dataLayer = window.dataLayer || [];\n",
      "function gtag(){dataLayer.push(arguments);}\n",
      "gtag('js', new Date());\n",
      "var userId = '';\n",
      "if(userId && userId != '' && userId != 'do_not_exist'){\n",
      "    gtag('set', {'user_id': userId});\n",
      "}\n",
      "gtag('config', 'UA-96766334-1');\n",
      "var gEvent = ''\n",
      "if (gEvent && gEvent != '') {\n",
      "    gtag('event', gEvent);\n",
      "}</script><script>var _hmt = _hmt || [];\n",
      "(function() {\n",
      "    var hm = document.createElement(\"script\");\n",
      "    hm.src = \"https://hm.baidu.com/hm.js?5667c6d502e51ebd8bd9e9be6790fb5d\";\n",
      "    var s = document.getElementsByTagName(\"script\")[0];\n",
      "    s.parentNode.insertBefore(hm, s);\n",
      "})();</script><script>$(function(){\n",
      "    var scTop = 0;\n",
      "    if(false){\n",
      "        $('.top_box').css({'position':'absolute','top':'35px'});\n",
      "        $(window).scroll(function () {\n",
      "            scTop = $(window).scrollTop();\n",
      "            if(scTop>=40){//滑过了csdn的导航\n",
      "                $('.top_box').css({'position':'fixed','top':'-5px'});\n",
      "            }else{\n",
      "                $('.top_box').css({'position':'absolute','top':'35px'});\n",
      "            }\n",
      "            if(scTop>=265){\n",
      "                $('.index_content').addClass('mobile_chat_tab');\n",
      "            }else{\n",
      "                $('.index_content').removeClass('mobile_chat_tab');\n",
      "            }\n",
      "        })\n",
      "    }else{\n",
      "        $(window).scroll(function () {\n",
      "            scTop = $(window).scrollTop();\n",
      "            if(scTop>=225){\n",
      "                $('.index_content').addClass('mobile_chat_tab');\n",
      "            }else{\n",
      "                $('.index_content').removeClass('mobile_chat_tab');\n",
      "            }\n",
      "        })\n",
      "    }\n",
      "})\n",
      "$('#mobileSearchInput').bind(\"enterKey\",function(e){\n",
      "    var searchKey = $('#mobileSearchInput').val();\n",
      "    window.location.href = \"/articles?search=\" + searchKey\n",
      "});\n",
      "$('#mobileSearchInput').keyup(function(e){\n",
      "    console.log(e.keyCode)\n",
      "    if(e.keyCode == 13)\n",
      "    {\n",
      "        $(this).trigger(\"enterKey\");\n",
      "    }\n",
      "});\n",
      "var currentPage = 1;\n",
      "var controller = new ScrollMagic.Controller();\n",
      "var scene = new ScrollMagic.Scene({triggerElement: \"#loader\", triggerHook: \"onEnter\"})\n",
      "    .addTo(controller)\n",
      "    .on(\"enter\", function (e) {\n",
      "        if (!$(\"#loader\").hasClass(\"active\")) {\n",
      "            $(\"#loader\").addClass(\"active\");\n",
      "            setTimeout(loadMoreItems, 300, 9);\n",
      "        }\n",
      "    });\n",
      "function loadMoreItems() {\n",
      "    var from = currentPage * 20;\n",
      "    var to = from + 20;\n",
      "    $.ajax({\n",
      "        url: \"/chat/activity/\" + from + \"/\" + to + '?',\n",
      "        type: \"GET\",\n",
      "        contentType: \"application/json; charset=utf-8\",\n",
      "        success: function (data, status) {\n",
      "            if (status == 'success' && data.code == 0) {\n",
      "                $('#chatItemContainer').append(data.data);\n",
      "                currentPage = currentPage + 1;\n",
      "                if (data.isEnd) {\n",
      "                    scene.destroy(true);\n",
      "                    $(\"#loader\").removeClass(\"active\");\n",
      "                    $(\"#loader\").hide();\n",
      "                    $(\"#noMoreToLoad\").show();\n",
      "                } else {\n",
      "                    scene.update();\n",
      "                    $(\"#loader\").removeClass(\"active\");\n",
      "                }\n",
      "            }\n",
      "        }\n",
      "    });\n",
      "}\n",
      "function changeHomeColumn(num) {\n",
      "    $('#syncColumn').addClass(\"syncColumn\");\n",
      "    $.ajax({\n",
      "        url: \"/gitchat/homepage/change/column/\" + num,\n",
      "        type: \"GET\",\n",
      "        contentType: \"application/json; charset=utf-8\",\n",
      "        success: function (data, status) {\n",
      "            if (status == 'success' && data.code == 0) {\n",
      "                $('#homeColumns').html('');\n",
      "                $('#homeColumns').append(data.data);\n",
      "                $('#changeColumns').attr('onclick', 'changeHomeColumn(' + data.next + '); return false;')\n",
      "                $('#syncColumn').removeClass(\"syncColumn\");\n",
      "            }\n",
      "        }\n",
      "    });\n",
      "}</script></html>\n"
     ]
    }
   ],
   "source": [
    "import requests\n",
    "target =\"http://gitbook.cn\"\n",
    "req = requests.get(target)\n",
    "print(req.text)"
   ]
  },
  {
   "cell_type": "code",
   "execution_count": 69,
   "metadata": {},
   "outputs": [
    {
     "name": "stdout",
     "output_type": "stream",
     "text": [
      "[<div class=\"yd_text2\"><br/>    ÏÈÉú×î½üÃ¿Íí¶¼»á»Ø¼Ò£¬¶øÇÒÃ¿Íí¶¼»á¸úËý×öÄÇÐßËÀÈËÈ´ÓÖÁîÈËÏú»êµÄÊÂ£¬¸µÑ©Ñþ¾õµÃ×Ô¼ººÃÐÒ¸££¬ÒòÎªÏÈÉú°ÑËùÓÐµÄÐÄÁ¦¶¼·ÅÔÚËýÒ»¸öÈËÉíÉÏ¡£<br/><br/>    ½ñÌìÏÂÎç¸Õ´Ó»ù½ð»á×ß³öÀ´£¬±ã¿´µ½Ïî´ó¸çÒÐ×ÅÒ»Á¾À­·çµÄÅÜ³µµÈËý¡£<br/><br/>    ¡°Ïî´ó¸ç¡£¡±¸µÑ©ÑþÎ¢Ð¦µÃÓÐµã²»Ì«×ÔÈ»£¬ÒòÎªÏÈÉúÀÏÊÇ¸úËýËµÏî´ó¸ç°®Ëý£¬ÕâÈÃËý¾õµÃºÜ²»×ÔÔÚ¡£<br/><br/>    ¡°ÎÒ»»ÐÂ³µà¶£¡ÄãÊÇÎÒµÚÒ»¸öÔØµÄÅ®º¢×ÓÅ¶£¡¡±Ïî×Óºè´ò¿ª³µÃÅ£¬ÅÄÁËÅÄËýµÄ±³¡£<br/><br/>    µ«ÊÇ¸µÑ©ÑþÈ´ØùÔÚ³µÃÅ±ß²»ÉÏ³µ¡£¿´À´¡­¡­ÏÈÉúËµµÃºÃÏñÊÇÕæµÄ£¬Ïî´ó¸ç¶ÔËýµÄºÃËÆºõÒÑ³¬³öÁËºÃÅóÓÑµÄ·¶Î§¡£<br/><br/>    ¡°ÔõÃ´À²£¿ÎÒÃÇÁ©ºÃ¾ÃÃ»Ò»¿é³Ô·¹ÁË£¬×ß°¡£¡½ñÌìÎÒ´øÄãÈ¥³ÔÒâ´óÀû²Ë¡£¡±Ïî×ÓºèÐ¦×Å´ß´Ù¡£<br/><br/>    ¡°²»ÓÃÁË£¡ÎÒÒª¸Ï¿ì»Ø¼Ò×ö·¹½áÏÈÉú³Ô¡£¡±¸µÑ©Ñþ×ªÉí¾ÍÏëÅÜÈ¥Ò»ÅÔµÄ¹«³µÕ¾ÅÆ¡£<br/><br/>    ¡°Ñ©Ñþ£¿¡±Ïî×Óºèµ²ÔÚËýÉíÇ°£¬Ò»Ö»ÊÖ¸éÔÚËý¼çÉÏ¡£<br/><br/>    ¸µÑ©ÑþÈ´Á¢¼´½«¼ç°òÒ»Å¤£¬ËûµÄÊÖ´ÓËý¼çÉÏµôÁËÏÂÀ´¡£<br/><br/>    ¡°Ñ©Ñþ£¬ÄãÔõÃ´ÁË£¿¡±Ïî×Óºè³Ô¾ªµÄ¿´×ÅËý£¬ËýÏÖÔÚÊÇÔõÃ´ÁË£¿ºÃÏñËûÊÇ³ô³æ¶¾ÎïËÆµÄ¡£<br/><br/>    ¡°Ïî´ó¸ç£¬Äã¡­¡­Äã±ðÀÏÊÇÀ´ÕÒÎÒ£¬ÄãÓ¦¸Ã°ÑÊ±¼ä»¨ÔÚÅ®ÅóÓÑÉíÉÏ²Å¶Ô¡£¡±¸µÑ©ÑþÆ´ÃüË¼Ë÷×Å£¬Ï£ÍûÄÜÕÒ³öÎ¯ÍñµÄ»°À´µãÐÑËû¡£<br/><br/>    ¡°ÊÇ²»ÊÇÁ¦ºâ¸úÄãËµÁËÊ²Ã´£¿¡±Ïî×ÓºèÁ½ÊÖºÜÓÃÁ¦µØ×¥×ÅËýµÄ¼ç°ò¡£<br/><br/>    ¡°Ã»ÓÐ£¡ÏÈÉúÊ²Ã´¶¼Ã»Ëµ¡£¡±ÏÈÉúÔø½»´úËý²»ÄÜ°ÑËûÃÇÁ©×î½üµÄ¹ØÏµ¸æËßÏî´ó¸ç£¬ËýÒªÌýÏÈÉúµÄ»°ÊØ¿ÚÈçÆ¿¡£<br/><br/>    Ïî×ÓºèÔ¼Äª¿´ÁËËýÊ®ÃëÖÓ£¬È»ºóÓ²ÊÇ°ÑËýÍÆÈë³µ×ÓÀïÃæ¡£¡°ÉÏ³µ¡£¡±<br/><br/>    ¡°Ïî´ó¸ç£¿£¡¡±¸µÑ©Ñþ×øÔÚ¸±¼ÝÊ»×ùÅÔ£¬ËýîªÄ¿½áÉàµÄ¿´×ÅËû£¬ÄÑÒÔÖÃÐÅÒ»Ïò±ò±òÓÐÀñµÄÏî´ó¸ç»áÓÐÕâÃ´ÂùºáµÄÒ»Ãæ¡£<br/><br/>    ¡°Äã½ñÌì²»ÓÃÎªËû×ö·¹ÁË¡£¡±Ïî×Óºè·¢¶¯³µ×Ó£¬²È½ôÓÍÃÅÈÃÅÜ³µ·ÉÒ²ËÆµÄ¼²³Û³öÈ¥¡£¡°ÄãµÄÏÈÉú½ñÍíÒªÈ¥²Î¼ÓÒ»¸öÕþÉÌÃûÁ÷µÄÍí»á£¬ÄãÊÇËûµÄÆÞ×Ó£¬µ«ÊÇËû´ø³öÈ¥µÄÅ®°éÈ´²»ÊÇÄã¡£¡±<br/><br/>    Ïî´ó¸çÔõÃ´Í»È»±äµÃÕâÃ´ÈñÀû£¬ÕâÏÂ×Ó¸µÑ©Ñþ¸ü¼ÓÈ·¶¨ÏÈÉú¸úËýËµµÄ»°ÁË¡£¡°ÎÒ²»ÔÚºõ£¬·´ÕýÎÒ´ÓÀ´Ã»ÓÐÅã¹ýÏÈÉú³öÏ¯¹ýÕýÊ½³¡ºÏ£¬Ëû´øÆäËûÅ®°éÒ²Ã»Ê²Ã´Ï¡Ææ¡£¡±<br/><br/>    ¡°Ñ©Ñþ£¬ÄãÕæ¿íºê´óÁ¿£¬Äã¿ÉÒÔÈÌÊÜÐÄ°®µÄÄÐÈË¸ú±ðµÄÅ®ÈËÇäÇäÎÒÎÒ£¬µ«ÊÇÎÒ²»ÐÐ¡£¡±Ëû¿´ÁËÒ»¶¨»á·¢·è¡£<br/><br/>    ¡°Ïî´ó¸ç£¬ÄãÒ²ÖªµÀÎÒ°®µÄÈËÊÇÏÈÉú¡­¡­Õâ±²×Ó³ýÁËÏÈÉú£¬ÎÒÔÙÒ²²»»á¸øÆäËûÄÐÈËÎÒµÄÐÄ¡£¡±¸µÑ©ÑþµÄÉùÒôËäÈ»²»´ó£¬µ«ÊÇÈ´ºÜÇåÎú£¬ËýÏ£ÍûËûÄÜÌýÃ÷°×£¬Ëý¸úËûÊÇ²»¿ÉÄÜµÄ¡£<br/><br/>    ¸µÑ©ÑþÏÖÔÚÊÇÔÚ¸úËû»®Çå½çÏÞÂð£¿ÒªËû²»Òª¿çÔ½ÅóÓÑÄÇµÀ·ÀÏß£¬ÒªËû²»Òª³ÕÐÄÍýÏë£¡¡°ÄãÖªµÀÁË£¿ËùÒÔÄã¼±×ÅÍÆ¿ªÎÒ£¿¡±Ïî×ÓºèÒ»¸ö½ô¼±É·³µ£¬ÐÒ¿÷ºó·½À´³µÓÐ±£³ÖÒ»¶¨µÄÐÐ³µ¾àÀë£¬·ñÔòÒ»¶¨»á×·×²ÉÏÀ´¡£<br/><br/>    ¡°Ïî´ó¸ç£¿¡±¸µÑ©Ñþ¿´×ÅÄýÖØÇÒÒõ¿ñµÄ²àÁ³£¬ËûÕâÒ»¿Ì±äµÃÁ¬Ëý¶¼²»ÈÏÊ¶¡£<br/><br/>    ¡°Á¦ºâ¶¼¸úÄãËµÁËÊ²Ã´£¿¡±Ïî×Óºè²»¹Ü³µºó´«À´ÕóÕóµÄÀ®°ÈÉù£¬ËûÊ®Ö¸½ô×¥×Å·½ÏòÅÌ£¬¹Ø½Ú´¦Òò¹ýÓÚÓÃÁ¦¶ø·º°×¡£<br/><br/>    ¡°Ïî´ó¸ç£¬Äã¿ì¿ª³µ°É£¡¡±¸µÑ©Ñþ²»°²µÄÍûÒ»ÑÛºóÃæ·×·×°ÑÍ·Ì½³ö³µ´°½ÐÏùÁ¬ÌìÔÚ¿¹ÒéµÄË¾»ú¡£¡°Ëµ£¡Ì·Á¦ºâµ½µ×¶¼¸úÄãËµÁËÐ©Ê²Ã´£¿¡±Ïî×ÓºèºöÈ»ÓÐÒ»ÖÖ±»±³ÅÑµÄ¸Ð¾õ£¬Ëû°ÑÌ·Á¦ºâµ±³ÉÇãÍÂÐÄÓïµÄÖ¿ÓÑ£¬µ«ÊÇÌ·Á¦ºâ°ÑËûµ±³ÉÊ²Ã´ÁË£¿ÔÚËû»¹Ã»ÓÐ×¼±¸¸ú¸µÑ©Ñþ¹«¿ªÇéÒâÊ±£¬Ì·Á¦ºâÈ´ÔÚÒ»ÅÔÉÈ·çµã»ð£¿£¡<br/><br/>    ¡°ÏÈÉúÊ²Ã´¶¼Ã»¸úÎÒËµ¡£¡±¸µÑ©Ñþº¦ÅÂµÄ¿´×ÅËû£¬Ïî´ó¸çÊÇµÚÒ»´ÎÕâÃ´´óÉùµÄºðËý£¬Ïî´ó¸ç¶ÔËý±ÈÏÈÉú¶ÔËý»¹ÒªÎÂÈá¹Ø°®£¬Ëû´Ó²»¶ÔËýËµÒ»¾äÀï»°£¬ÉõÖÁÃ»¸øËýÁ³É«¿´¹ý£¬½ñÌìËûµÄ²ªÈ»´óÅ­ÏÅ»µÁËÒ»ÏòÎÂÑ±ÈçÐ¡ÑòµÄ¸µÑ©Ñþ¡£<br/><br/>    ¡°ÓÐ£¡ËûËµÁË£¬²»È»Äã²»»á¶ÔÎÒÍË±ÜÈýÉá£¬¸ü²»»áÅÔÇÃ²à»÷µÄÀ´ÌáÐÑÎÒ½÷ÊØÅóÓÑµÄ·Ö¼Ê¡£¡±Ïî×ÓºèÖ¹²»×¡ÉÏÑïµÄÅ­Æø£¬ÃÍÇÃ×Å·½ÏòÅÌ´óºð¡£<br/><br/>    ¡°Ïî´ó¸ç£¬ÄãÏÅ»µÎÒÁË£¬¡±¸µÑ©ÑþÏñÖ»ÊÜ¾ªµÄÐ¡Â¹£¬ËýËõÔÚ×ùÎ»Àï£¬Î·¾åµÄ¿´×ÅËû¡£<br/><br/>    ¿´×ÅËýº¬Àá¾ª¾åµÄÑÛíø£¬Ïî×ÓºèÓÖÈÌ²»×¡ÐÄÈí£¬Ëû°®Ëý£¬Ëû°®Ëý°¡£¡ÎªÊ²Ã´Ëý²»¶®£¿ÎªÊ²Ã´Ëý¿ÉÒÔºöÊÓËûÕâÆßÄêÀ´µÄ¸¶³ö£¿ÎªÊ²Ã´ËýµÄÑÛÀïÊ¼ÖÕÖ»ÓÐÓÃÇé²»×¨µÄÌ·Á¦ºâÒ»ÈËÄØ£¿<br/><br/>    Ïî×ÓºèÑÀÒ»Ò§£¬ËûÔÙ¶È½«ÓÍÃÅ²Èµ½µ×£¬ÈÃ³µ×Ó·ÉÁË³öÈ¥¡£<br/><br/>    Ì¨±±ÓÐÇ®ÈËµÄÒ¹Éú»î¶à²Ê¶à×Ë£¬Ã¿Íí¶¼ÓÐ¸÷Ê½¸÷ÑùµÄ¸ß¼¶ÅÉ¶Ô»òÑç»á¾Ù°ì£¬Ì·Á¦ºâ´Ë¿ÌÉí´¦ÔÚÓÉÖ´Õþµ³¸ú¹¤ÉÌ½çºÏ°ìµÄÍí»á¡£<br/><br/>    Ì·Á¦ºâµ±È»ÖªµÀ½ñÍíÎªºÎ±»ÑûÇë£¬ÃÀÆäÃûÊÇÖ´Õþµ³Òª¸ú¹¤ÉÌ½çÁªÒê£¬´òºÃÕþÉÌ¹ØÏµ£¬Êµ¼ÊÉÏ»¹²»ÊÇÎªÁËÏÂÒ»½ì×ÜÍ³´óÑ¡Ô¤×÷×¼±¸¡¢Ñ°ÕÒÃËÓÑ¡¢Ä¼¼¯ÕþÖÎÏ×½ð¡£<br/><br/>    È«ÊÀ½çÃ¿¸öµØ·½¶¼»áÓÐÕþÉÌ¹´½á£¬Ì·Á¦ºâÏëÒª÷è÷ë¾ÆµêÔÚÌ¨Íå³¤ÖÎ¾Ã°²µÄÓÀÐø¾­ÓªÏÂÈ¥£¬Îñ±ØµÃ´òºÃÓëÕþ¸®µÄÕâ²ã¹ØÏµ¡£<br/><br/>    Èç¹û¸ø¸ö¼¸ÒÚÔª£¬ÊÕÂò¼¸¸öÕþ¸®¹ÙÔ±£¬ÓÐÖúÓÚÈÕºóµÄÉúÒâÀ©Õ¹£¬ÕâÐ©¿ÉÒÔ³Æ×÷ÊÇ¹«¹Ø·ÑÓÃµÄÇ®£¬Ì·Á¦ºâ»¹ÊÇµÃ³öµÄ¡£<br/><br/>    Ì·Á¦ºâ´øÁËÒ»Ãû¾Æ¹úÃû»¨³öÏ¯£¬Ëûµ±È»ÏþµÃÔÚÕâÀï¿ÉÒÔÅöÉÏ²»ÉÙ¡°±í¸ç¡±»ò¡°±íµÜ¡±£¬¿ÉÊÇËû´ÓÀ´¾Í²»È¥½éÒâÕâÐ©£¬·´ÕýËûÒ»Ö±²»¹ËÊ²Ã´ÐÎÏóÎÊÌâ£¬µ«Ëû¾õµÃÈÃÈËËµ·ÅÀË²»î¿×Ü±ÈÒ»Ð©Ö»¸ÒÍµÍµÃþÃþÐÐÊÂµÄ¸»ÉÌÀ´µÃºÃ¡£<br/><br/>    Ì·Á¦ºâ²»½éÒâËûµÄÅ®°éÔÚ´ËÊ±ÍØÕ¹ÒµÎñ£¬Ïà·´µÄËû»¹ºÜÐÀÉÍËýµÄÆóÍ¼ÐÄÇ¿ÁÒ£¬ÒòÎªËýµÄÍ¬ÁÅÃÇÀÏÊÇÏñ¸ö°Ë×¦ÕÂÓãÕ³×ÅËû²»·Å£¬Ö»ÓÐ½ñÍíÕâ¸ö´ø³ö³¡µÄÅ®ÈËÃ»ÓÐÎ¥·´¾Æ¼ÒÅ®°®Ç®¸üÊ¤ÓÚÄÐÈËµÄÔ­Ôò¡£<br/><br/>    ÔÚËû¿ÕµµµÄÊ±ºòÈÔÓÐ²»ÉÙÅ®ÈËÉÏÇ°ÅÊÌ¸£¬Ì·Á¦ºâÓÐÒ»¾äÃ»Ò»¾äµÄ´î×Å£¬ÕâÐ©³öÈëÓÚ¸ß¼¶³¡ºÏµÄÃûÅ®ÈËÒ»Ïò²»ÔÚËûµÄÁÔÑÞ·¶Î§Ö®ÄÚ£¬Ëû±È½ÏÆ«ºÃµÍÏÂ½×²ãµÄÒ°Î¶£¬Ò²ÐíÊÇÔÚÒÔÇ°ÎªÁËÆøÌ·´óÅô¶øÑøÏÂµÄÏ°¹ß¡£<br/><br/>    ²»¹ýµ¹ÓÐÒ»¸öÅ®ÈËºÜ´ÏÃ÷µÄÖªµÀËûÏëÒªµÄÊÇÊ²Ã´£¬ËµÁËÁîËû¸ÐÐËÈ¤µÄ»°¡£<br/><br/>    ¡°Ì·ÏÈÉú£¬ÓÐÐËÈ¤ÁÄÁÄ÷è÷ë¼¯ÍÅÔÚÄÏÍ¶Î§±êÍÁµØ·¢Õ¹´óÐÍ¶È¼Ù´åµÄ¼Æ»®Âð£¿¡±ÁÖÎÄçù³äÂú×ÔÐÅµÄÕ¾ÔÚËûÑÛÇ°¡£<br/><br/>    Ì·Á¦ºâ¿´×ÅËý£¬¹´´½Ò»Ð¦£¬Ëûµ±È»ÖªµÀÁÖÎÄçùÕâºÅÈËÎï£¬½ñÄê²Å¶þÊ®ÆßËê£¬¸¸Ç×ÊÇµ³ÍÅ´óÀÏ¼æ×ÜÍ³¸®×ÊÕþ£¬¸¸Å®Á©ÔÚÕþÌ³µÄÓ°ÏìÁ¦²»Ð¡£¬¶øÇÒËý³¤µÃ»¹ËãÆ¯ÁÁ£¬¹Ì¶¨ÉÏµçÊÓµÄÌ¸»°ÐÔ½ÚÄ¿ÆØ¹â£¬Ò²ÇÚÓÚ¿ª¼ÇÕß»á×öÐã£¬ËùÒÔÔÚÌ¨ÍåÊÇÆÄÊÜÈË×¢Ä¿µÄÃÀÅ®¡£<br/><br/>    ËûºÜÔç¾Í×¢ÒâÕâÏîÓÉÕþ¸®Ö÷µ¼µÄÖØÕñÄÏÍ¶¹Û¹â²úÒµµÄ<br/><br/><center><a href=\"/xiaoshuo/0/72/51058_2.html\"><font color=\"#000\" size=\"4\">±¾ÕÂÎ´Íê£¬Çëµã»÷ ÏÂÒ»Ò³ ¼ÌÐøÔÄ¶Á &gt;&gt;</font></a></center></div>]\n"
     ]
    }
   ],
   "source": [
    "from bs4 import BeautifulSoup \n",
    "import requests\n",
    "if __name__ == \"__main__\":\n",
    "    target = \"http://www.qbxs5.com/xiaoshuo/0/72/51058.html\"\n",
    "    req = requests.get(target)\n",
    "    html = req.text\n",
    "    bf =BeautifulSoup(html)\n",
    "    text = bf.find_all('div', class_=\"yd_text2\")\n",
    "    print(text)"
   ]
  },
  {
   "cell_type": "code",
   "execution_count": 3,
   "metadata": {},
   "outputs": [
    {
     "ename": "IndentationError",
     "evalue": "unindent does not match any outer indentation level (<tokenize>, line 22)",
     "output_type": "error",
     "traceback": [
      "\u001b[0;36m  File \u001b[0;32m\"<tokenize>\"\u001b[0;36m, line \u001b[0;32m22\u001b[0m\n\u001b[0;31m    headers = {'User-Agent': 'Mozilla/5.0 (Macintosh; Intel Mac OS X 10_13_6) AppleWebKit/537.36 (KHTML, like Gecko) Chrome/71.0.3578.98 Safari/537.36'}\u001b[0m\n\u001b[0m    ^\u001b[0m\n\u001b[0;31mIndentationError\u001b[0m\u001b[0;31m:\u001b[0m unindent does not match any outer indentation level\n"
     ]
    }
   ],
   "source": [
    "import urllib.request\n",
    "import urllib.parse\n",
    "import os\n",
    "\n",
    "\n",
    "#输入吧名,开始页,结束页.然后在当前文件夹中创建一个以吧名为名字的文件夹,里面是每一页的html内容,文件名是页码数.\n",
    "\n",
    "ba_name = 't'#input('吧名: ')\n",
    "start_page = 1 #int(input('起始页码: '))\n",
    "end_page = 5 # int(input('结束页吗: '))\n",
    "\n",
    "#创建文件夹\n",
    "os.makedir(ba_name)\n",
    "\n",
    "#https://tieba.baidu.com/f?ie=utf-8&kw=美女&pn=50\n",
    "url = 'https://tieba.baidu.com/f?ie=utf-8'\n",
    "for page in range(start_page,end_page+1):\n",
    "\tdata = {'kw': ba_name, 'pn': (page - 1) * 50,}\n",
    "\tdata = urllib.parse.urlencode(data)\n",
    "\turl_t = url + data\n",
    "\tprint (url_t)\n",
    "    headers = {'User-Agent': 'Mozilla/5.0 (Macintosh; Intel Mac OS X 10_13_6) AppleWebKit/537.36 (KHTML, like Gecko) Chrome/71.0.3578.98 Safari/537.36'}\n",
    "    request = urllib.request.Request(url = url,headers = headers)\n",
    "    print('第%s页开始下载......' % page)\n",
    "    response = urllib.request.urlopen(request)\n",
    "    file_name = ba_name + '-' + str(page) + 'html'\n",
    "    file_path = ba_name + '/' + file_name\n",
    "    #写内容\n",
    "    with open(file_name,'wb') as fp:\n",
    "    \tfp.write(response.read())\n",
    "    print('第%s页结束下载' % page)"
   ]
  },
  {
   "cell_type": "code",
   "execution_count": 46,
   "metadata": {},
   "outputs": [
    {
     "ename": "IndentationError",
     "evalue": "unexpected indent (<ipython-input-46-c477c652ac6a>, line 18)",
     "output_type": "error",
     "traceback": [
      "\u001b[0;36m  File \u001b[0;32m\"<ipython-input-46-c477c652ac6a>\"\u001b[0;36m, line \u001b[0;32m18\u001b[0m\n\u001b[0;31m    headers = {'User-Agent': 'Mozilla/5.0 (Macintosh; Intel Mac OS X 10_13_6) AppleWebKit/537.36 (KHTML, like Gecko) Chrome/71.0.3578.98 Safari/537.36'}\u001b[0m\n\u001b[0m    ^\u001b[0m\n\u001b[0;31mIndentationError\u001b[0m\u001b[0;31m:\u001b[0m unexpected indent\n"
     ]
    }
   ],
   "source": [
    "import urllib.request\n",
    "import urllib.parse\n",
    "import os\n",
    "\n",
    "\n",
    "#输入吧名,开始页,结束页.然后在当前文件夹中创建一个以吧名为名字的文件夹,里面是每一页的html内容,文件名是页码数.\n",
    "\n",
    "ba_name = 't'#input('吧名: ')\n",
    "start_page = 1 #int(input('起始页码: '))\n",
    "end_page = 5 # int(input('结束页吗: '))\n",
    "\n",
    "#创建文件夹\n",
    "os.mkdir(ba_name)\n",
    "\n",
    "#https://tieba.baidu.com/f?ie=utf-8&kw=美女&pn=50\n",
    "url = 'https://tieba.baidu.com/f?ie=utf-8'\n",
    "\n",
    "\theaders = {'User-Agent': 'Mozilla/5.0 (Macintosh; Intel Mac OS X 10_13_6) AppleWebKit/537.36 (KHTML, like Gecko) Chrome/71.0.3578.98 Safari/537.36'}\n",
    "for page in range(start_page,end_page+1):\n",
    "\tdata = {'kw': ba_name, 'pn': (page - 1) * 50,}\n",
    "\tdata = urllib.parse.urlencode(data)\n",
    "\turl_t = url + data\n",
    "headers = {\n",
    "\theaders ={'User-Agent': 'Mozilla/5.0 (Macintosh; Intel Mac OS X 10_13_6) AppleWebKit/537.36 (KHTML, like Gecko) Chrome/71.0.3578.98 Safari/537.36'}\n",
    "    request = urllib.request.Request(url = url ,headers=headers)\n",
    "    response = urllib.request.urlopen(request)\n",
    "    file_name = ba_name + '-' + str(page) + 'html'\n",
    "    file_path = ba_name + '/' + file_name\n",
    "    #写内容\n",
    "    with open(file_name,'wb') as fp:\n",
    "\t\tfp.write(response.read())\n",
    "    print('第%s页结束下载' % page)"
   ]
  },
  {
   "cell_type": "code",
   "execution_count": 4,
   "metadata": {},
   "outputs": [
    {
     "data": {
      "text/plain": [
       "'posix'"
      ]
     },
     "execution_count": 4,
     "metadata": {},
     "output_type": "execute_result"
    }
   ],
   "source": [
    "import os\n",
    "os.name"
   ]
  },
  {
   "cell_type": "code",
   "execution_count": 5,
   "metadata": {},
   "outputs": [
    {
     "data": {
      "text/plain": [
       "posix.uname_result(sysname='Darwin', nodename='mac.local', release='17.7.0', version='Darwin Kernel Version 17.7.0: Wed Apr 24 21:17:24 PDT 2019; root:xnu-4570.71.45~1/RELEASE_X86_64', machine='x86_64')"
      ]
     },
     "execution_count": 5,
     "metadata": {},
     "output_type": "execute_result"
    }
   ],
   "source": [
    "os.uname()"
   ]
  },
  {
   "cell_type": "code",
   "execution_count": 6,
   "metadata": {},
   "outputs": [
    {
     "data": {
      "text/plain": [
       "environ{'TERM_PROGRAM': 'Apple_Terminal',\n",
       "        'SHELL': '/bin/bash',\n",
       "        'TERM': 'xterm-color',\n",
       "        'TMPDIR': '/var/folders/l7/d1pnsddn4wd3z6qry0tp5rvh0000gn/T/',\n",
       "        'CONDA_SHLVL': '1',\n",
       "        'Apple_PubSub_Socket_Render': '/private/tmp/com.apple.launchd.e2JZuKMKaK/Render',\n",
       "        'CONDA_PROMPT_MODIFIER': '(base) ',\n",
       "        'TERM_PROGRAM_VERSION': '404.1',\n",
       "        'TERM_SESSION_ID': '15EEACAF-F0FA-4494-9295-F3789334AE44',\n",
       "        'USER': 'mac',\n",
       "        'CONDA_EXE': '/Users/mac/anaconda3/bin/conda',\n",
       "        'SSH_AUTH_SOCK': '/private/tmp/com.apple.launchd.C0YPg2kJF5/Listeners',\n",
       "        '_CE_CONDA': '',\n",
       "        'PATH': '/Users/mac/anaconda3/bin:/Users/mac/anaconda3/bin:/Users/mac/anaconda3/condabin:/usr/local/bin:/usr/bin:/bin:/usr/sbin:/sbin:/usr/local/aria2/bin:/usr/local/bin/ChromeDriver:/usr/local/mysql/bin',\n",
       "        'CONDA_PREFIX': '/Users/mac/anaconda3',\n",
       "        'PWD': '/Users/mac',\n",
       "        'LANG': 'zh_CN.UTF-8',\n",
       "        'XPC_FLAGS': '0x0',\n",
       "        '_CE_M': '',\n",
       "        'XPC_SERVICE_NAME': '0',\n",
       "        'SHLVL': '1',\n",
       "        'HOME': '/Users/mac',\n",
       "        'LOGNAME': 'mac',\n",
       "        'CONDA_DEFAULT_ENV': 'base',\n",
       "        '_': '/Users/mac/anaconda3/bin/jupyter',\n",
       "        'JPY_PARENT_PID': '571',\n",
       "        'CLICOLOR': '1',\n",
       "        'PAGER': 'cat',\n",
       "        'GIT_PAGER': 'cat',\n",
       "        'MPLBACKEND': 'module://ipykernel.pylab.backend_inline'}"
      ]
     },
     "execution_count": 6,
     "metadata": {},
     "output_type": "execute_result"
    }
   ],
   "source": [
    "os.environ"
   ]
  },
  {
   "cell_type": "code",
   "execution_count": 7,
   "metadata": {},
   "outputs": [
    {
     "data": {
      "text/plain": [
       "<module 'posixpath' from '/Users/mac/anaconda3/lib/python3.7/posixpath.py'>"
      ]
     },
     "execution_count": 7,
     "metadata": {},
     "output_type": "execute_result"
    }
   ],
   "source": [
    "os.path"
   ]
  },
  {
   "cell_type": "code",
   "execution_count": 8,
   "metadata": {},
   "outputs": [
    {
     "data": {
      "text/plain": [
       "'/Users/mac/python/jupyter'"
      ]
     },
     "execution_count": 8,
     "metadata": {},
     "output_type": "execute_result"
    }
   ],
   "source": [
    "os.path.abspath('.')"
   ]
  },
  {
   "cell_type": "code",
   "execution_count": 7,
   "metadata": {},
   "outputs": [],
   "source": [
    "import shutil"
   ]
  },
  {
   "cell_type": "code",
   "execution_count": 10,
   "metadata": {},
   "outputs": [
    {
     "data": {
      "text/plain": [
       "['ElectricCar.py',\n",
       " '4_ajax_get.py',\n",
       " 'victor.py',\n",
       " '1_exam.py',\n",
       " 'ordereddict.py',\n",
       " '7_xersi.py',\n",
       " '3_exam.py',\n",
       " 'pc1.py',\n",
       " 'battery.py',\n",
       " '2.py',\n",
       " 'pizza.py',\n",
       " 'huishu.py',\n",
       " '4_ajax_pose.py',\n",
       " 'class_icecream.py',\n",
       " 'my_abs.py',\n",
       " '3.py',\n",
       " 'animal.py',\n",
       " 'pdf.py',\n",
       " 'namelist.py',\n",
       " '7_handler.py',\n",
       " 'test.py',\n",
       " '2_exam.py',\n",
       " '5_tieba.py',\n",
       " 'map.py',\n",
       " 'json_username.py',\n",
       " 'car.py',\n",
       " '3_fanyi.py',\n",
       " '4.py',\n",
       " 'people.py',\n",
       " '1111.py',\n",
       " 'restaurant.py',\n",
       " 'admin.py',\n",
       " '5.py',\n",
       " 'pc2.py',\n",
       " 'user4.py',\n",
       " '7_renren.py',\n",
       " '1.py',\n",
       " 'dog.py',\n",
       " '1pc.py',\n",
       " '5_daili.py',\n",
       " 'icecream.py',\n",
       " '2_youdao_post.py',\n",
       " 'text3.py',\n",
       " 'now3.py',\n",
       " '4_exam.py',\n",
       " 'name.py',\n",
       " 'students.py',\n",
       " 'my_math.py',\n",
       " 'list_1.py',\n",
       " 'plt.py',\n",
       " 'my_tesla_car.py',\n",
       " '2_post_fanyi.py']"
      ]
     },
     "execution_count": 10,
     "metadata": {},
     "output_type": "execute_result"
    }
   ],
   "source": [
    "[x for x in os.listdir('.') if os.path.isfile(x) and os.path.splitext(x)[1]=='.py']"
   ]
  }
 ],
 "metadata": {
  "kernelspec": {
   "display_name": "Python 3",
   "language": "python",
   "name": "python3"
  },
  "language_info": {
   "codemirror_mode": {
    "name": "ipython",
    "version": 3
   },
   "file_extension": ".py",
   "mimetype": "text/x-python",
   "name": "python",
   "nbconvert_exporter": "python",
   "pygments_lexer": "ipython3",
   "version": "3.7.3"
  }
 },
 "nbformat": 4,
 "nbformat_minor": 2
}
