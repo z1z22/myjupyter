{
 "cells": [
  {
   "cell_type": "markdown",
   "metadata": {},
   "source": [
    "# 测试两种算法的执行效率"
   ]
  },
  {
   "cell_type": "code",
   "execution_count": 12,
   "metadata": {},
   "outputs": [
    {
     "name": "stdout",
     "output_type": "stream",
     "text": [
      "得到的质数个数:9592 \n",
      "计算次数:754026\n",
      "用时0.598379秒.\n"
     ]
    }
   ],
   "source": [
    "import math, datetime\n",
    "primenumber = []\n",
    "flag = False\n",
    "n = 100000\n",
    "count =0\n",
    "start = datetime.datetime.now()\n",
    "for x in range(2, n):\n",
    "    for i in primenumber:\n",
    "        count +=1\n",
    "        if x % i == 0:\n",
    "            flag = True\n",
    "            break\n",
    "        if i >= math.ceil(math.sqrt(x)):\n",
    "            flag = False\n",
    "            break\n",
    "    if not flag:\n",
    "        primenumber.append(x)\n",
    "# print(primenumber)\n",
    "delta = (datetime.datetime.now()-start).total_seconds()\n",
    "print('得到的质数个数:{} '.format(len(primenumber)))\n",
    "print('计算次数:{}'.format(count))\n",
    "print('用时{}秒.'.format(delta))"
   ]
  },
  {
   "cell_type": "code",
   "execution_count": 13,
   "metadata": {},
   "outputs": [
    {
     "name": "stdout",
     "output_type": "stream",
     "text": [
      "得到的质数个数:9592 \n",
      "计算次数:46314476\n",
      "用时12.872983秒.\n"
     ]
    }
   ],
   "source": [
    "import datetime\n",
    "n = 100000\n",
    "\n",
    "primenumber = []\n",
    "count =0\n",
    "start = datetime.datetime.now()\n",
    "for i in range(2,n):\n",
    "    for x in primenumber:\n",
    "        count += 1\n",
    "        if i %x ==0:\n",
    "            \n",
    "            break\n",
    "    else:\n",
    "        primenumber.append(i)\n",
    "# print(pn)\n",
    "delta = (datetime.datetime.now()-start).total_seconds()\n",
    "print('得到的质数个数:{} '.format(len(primenumber)))\n",
    "print('计算次数:{}'.format(count))\n",
    "print('用时{}秒.'.format(delta))"
   ]
  },
  {
   "cell_type": "markdown",
   "metadata": {},
   "source": [
    "通过测试,看出两种方法的计算量和计算时间相差巨大"
   ]
  },
  {
   "cell_type": "code",
   "execution_count": null,
   "metadata": {},
   "outputs": [],
   "source": []
  }
 ],
 "metadata": {
  "kernelspec": {
   "display_name": "Python 3",
   "language": "python",
   "name": "python3"
  },
  "language_info": {
   "codemirror_mode": {
    "name": "ipython",
    "version": 3
   },
   "file_extension": ".py",
   "mimetype": "text/x-python",
   "name": "python",
   "nbconvert_exporter": "python",
   "pygments_lexer": "ipython3",
   "version": "3.7.3"
  }
 },
 "nbformat": 4,
 "nbformat_minor": 2
}
