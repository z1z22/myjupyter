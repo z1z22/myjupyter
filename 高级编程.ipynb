{
 "cells": [
  {
   "cell_type": "markdown",
   "metadata": {},
   "source": [
    "魔法函数"
   ]
  },
  {
   "cell_type": "markdown",
   "metadata": {},
   "source": [
    "__str__"
   ]
  },
  {
   "cell_type": "code",
   "execution_count": 8,
   "metadata": {},
   "outputs": [
    {
     "data": {
      "text/plain": [
       "zzz,ddd,kkk"
      ]
     },
     "execution_count": 8,
     "metadata": {},
     "output_type": "execute_result"
    }
   ],
   "source": [
    "class Company(object):\n",
    "    '''魔法函数(__xxx__的内置函数)的学习'''\n",
    "    def __init__(self,employee_list):\n",
    "        self.employee = employee_list\n",
    "\n",
    "    def __str__(self):\n",
    "        return \",\".join(self.employee)\n",
    "    def __repr__(self):\n",
    "        return \",\".join(self.employee)\n",
    "\n",
    "\n",
    "\n",
    "\n",
    "\n",
    "company = Company(['zzz','ddd','kkk'])\n",
    "\n",
    "company"
   ]
  },
  {
   "cell_type": "code",
   "execution_count": null,
   "metadata": {},
   "outputs": [],
   "source": []
  }
 ],
 "metadata": {
  "kernelspec": {
   "display_name": "Python 3",
   "language": "python",
   "name": "python3"
  },
  "language_info": {
   "codemirror_mode": {
    "name": "ipython",
    "version": 3
   },
   "file_extension": ".py",
   "mimetype": "text/x-python",
   "name": "python",
   "nbconvert_exporter": "python",
   "pygments_lexer": "ipython3",
   "version": "3.7.3"
  }
 },
 "nbformat": 4,
 "nbformat_minor": 2
}
