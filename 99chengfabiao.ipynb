{
 "cells": [
  {
   "cell_type": "markdown",
   "metadata": {},
   "source": [
    "鸡兔同笼"
   ]
  },
  {
   "cell_type": "code",
   "execution_count": 2,
   "metadata": {
    "scrolled": true
   },
   "outputs": [
    {
     "name": "stdout",
     "output_type": "stream",
     "text": [
      "1 12\n"
     ]
    }
   ],
   "source": [
    "for x in range(100):\n",
    "    for y in range(100):\n",
    "    \n",
    "        if x + y ==13 and x * 2 + 4 * y == 50:\n",
    "            print(x, y)\n",
    "\n",
    "    "
   ]
  },
  {
   "cell_type": "code",
   "execution_count": 4,
   "metadata": {},
   "outputs": [
    {
     "ename": "SyntaxError",
     "evalue": "invalid character in identifier (<ipython-input-4-1f6fc64e3b22>, line 5)",
     "output_type": "error",
     "traceback": [
      "\u001b[0;36m  File \u001b[0;32m\"<ipython-input-4-1f6fc64e3b22>\"\u001b[0;36m, line \u001b[0;32m5\u001b[0m\n\u001b[0;31m    print（result）\u001b[0m\n\u001b[0m                ^\u001b[0m\n\u001b[0;31mSyntaxError\u001b[0m\u001b[0;31m:\u001b[0m invalid character in identifier\n"
     ]
    }
   ],
   "source": [
    "for i in range(1,10):\n",
    "    for y in range(i,10):\n",
    "        result = i * y\n",
    "#         sushi = '{i} * {y} = {result}'\n",
    "        print（result）\n",
    "#         print(sushi.format(i, y, result),end = '          ')\n",
    "    print(' ')"
   ]
  },
  {
   "cell_type": "code",
   "execution_count": 39,
   "metadata": {},
   "outputs": [
    {
     "data": {
      "text/plain": [
       "44.0"
      ]
     },
     "execution_count": 39,
     "metadata": {},
     "output_type": "execute_result"
    }
   ],
   "source": [
    "1364/31"
   ]
  },
  {
   "cell_type": "code",
   "execution_count": 26,
   "metadata": {},
   "outputs": [
    {
     "name": "stdout",
     "output_type": "stream",
     "text": [
      "1 * 1 = 1        1 * 2 = 2        1 * 3 = 3        1 * 4 = 4        1 * 5 = 5        1 * 6 = 6        1 * 7 = 7        1 * 8 = 8        1 * 9 = 9         \n",
      "2 * 2 = 4        2 * 3 = 6        2 * 4 = 8        2 * 5 = 10       2 * 6 = 12       2 * 7 = 14       2 * 8 = 16       2 * 9 = 18        \n",
      "3 * 3 = 9        3 * 4 = 12       3 * 5 = 15       3 * 6 = 18       3 * 7 = 21       3 * 8 = 24       3 * 9 = 27        \n",
      "4 * 4 = 16       4 * 5 = 20       4 * 6 = 24       4 * 7 = 28       4 * 8 = 32       4 * 9 = 36        \n",
      "5 * 5 = 25       5 * 6 = 30       5 * 7 = 35       5 * 8 = 40       5 * 9 = 45        \n",
      "6 * 6 = 36       6 * 7 = 42       6 * 8 = 48       6 * 9 = 54        \n",
      "7 * 7 = 49       7 * 8 = 56       7 * 9 = 63        \n",
      "8 * 8 = 64       8 * 9 = 72        \n",
      "9 * 9 = 81        \n"
     ]
    }
   ],
   "source": [
    "for i in range(1,10):\n",
    "    for y in range(i,10):\n",
    "        result = i * y\n",
    "#         '{i} * {y} = {result}'\n",
    "        print(('{} * {} = {}'.format(i,y,result)).ljust(14),end = '   ')\n",
    "    print(' ')"
   ]
  },
  {
   "cell_type": "code",
   "execution_count": 23,
   "metadata": {},
   "outputs": [
    {
     "name": "stdout",
     "output_type": "stream",
     "text": [
      "<built-in method format of str object at 0x109d62378>\n"
     ]
    }
   ],
   "source": []
  },
  {
   "cell_type": "code",
   "execution_count": 3,
   "metadata": {},
   "outputs": [
    {
     "data": {
      "text/plain": [
       "[5, 11, 17, 23, 29, 35, 41, 47, 53, 59]"
      ]
     },
     "execution_count": 3,
     "metadata": {},
     "output_type": "execute_result"
    }
   ],
   "source": [
    "list(map( lambda x: 2*x+1, range(2,30,3)))\n"
   ]
  },
  {
   "cell_type": "code",
   "execution_count": null,
   "metadata": {},
   "outputs": [],
   "source": []
  }
 ],
 "metadata": {
  "kernelspec": {
   "display_name": "Python 3",
   "language": "python",
   "name": "python3"
  },
  "language_info": {
   "codemirror_mode": {
    "name": "ipython",
    "version": 3
   },
   "file_extension": ".py",
   "mimetype": "text/x-python",
   "name": "python",
   "nbconvert_exporter": "python",
   "pygments_lexer": "ipython3",
   "version": "3.7.3"
  }
 },
 "nbformat": 4,
 "nbformat_minor": 2
}
