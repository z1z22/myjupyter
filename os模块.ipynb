{
 "cells": [
  {
   "cell_type": "code",
   "execution_count": 7,
   "metadata": {},
   "outputs": [
    {
     "data": {
      "text/plain": [
       "29252"
      ]
     },
     "execution_count": 7,
     "metadata": {},
     "output_type": "execute_result"
    }
   ],
   "source": [
    "import os\n",
    "# 文件夹下文件大小os.path.getsize\n",
    "totlesize = 0\n",
    "for filename in os.listdir('/users/mac/python'): \n",
    "    totlesize = totlesize + os.path.getsize(os.path.join('/users/mac/python', filename))\n",
    "\n",
    "totlesize"
   ]
  },
  {
   "cell_type": "code",
   "execution_count": 8,
   "metadata": {},
   "outputs": [
    {
     "data": {
      "text/plain": [
       "'/Users/mac/python/myjupyter'"
      ]
     },
     "execution_count": 8,
     "metadata": {},
     "output_type": "execute_result"
    }
   ],
   "source": [
    "import os\n",
    "\n",
    "os.getcwd()\n",
    "\n"
   ]
  },
  {
   "cell_type": "code",
   "execution_count": 10,
   "metadata": {},
   "outputs": [
    {
     "data": {
      "text/plain": [
       "['暑期学而思.ipynb',\n",
       " '算法与优化.ipynb',\n",
       " '聘用人员绩效.ipynb',\n",
       " '函数基础.ipynb',\n",
       " '文件操作.ipynb',\n",
       " 'pandas处理丢失的数据.ipynb',\n",
       " '面向对象编程.ipynb',\n",
       " 'pandas_groupby.ipynb',\n",
       " '.DS_Store',\n",
       " 'Datetime 模块.ipynb',\n",
       " 'pandas合并.ipynb',\n",
       " 'map_filter.ipynb',\n",
       " 're.ipynb',\n",
       " 'pillow模块图像处理.ipynb',\n",
       " '字典.ipynb',\n",
       " 'matplotlib.ipynb',\n",
       " 'numpy练习.ipynb',\n",
       " 'IO.ipynb',\n",
       " 'matploblib_numpy.ipynb',\n",
       " 'pandas练习.ipynb',\n",
       " 'pandas2.ipynb',\n",
       " 'os模块.ipynb',\n",
       " 'numpy不同对象的运算速度.ipynb',\n",
       " 'README.md',\n",
       " '99chengfabiao.ipynb',\n",
       " '.gitignore',\n",
       " 'while循环.ipynb',\n",
       " 'pandas_3.ipynb',\n",
       " 'numpy.ipynb',\n",
       " 'python基础.ipynb',\n",
       " 'panda_sql.ipynb',\n",
       " '.ipynb',\n",
       " '字符编码.ipynb',\n",
       " '.ipynb_checkpoints',\n",
       " 'pandas plot.ipynb',\n",
       " '学习.ipynb',\n",
       " '常用的内置模块.ipynb',\n",
       " '.git',\n",
       " '.vscode',\n",
       " 'hmac 和 itertools.ipynb',\n",
       " '函数.ipynb',\n",
       " 'pandas.ipynb',\n",
       " 'data',\n",
       " '各类实例.ipynb',\n",
       " '类.ipynb',\n",
       " 'pandas2020.ipynb',\n",
       " 'numpy&sympy解方程.ipynb']"
      ]
     },
     "execution_count": 10,
     "metadata": {},
     "output_type": "execute_result"
    }
   ],
   "source": [
    "os.listdir('/Users/mac/python/myjupyter')"
   ]
  }
 ],
 "metadata": {
  "kernelspec": {
   "display_name": "Python 3",
   "language": "python",
   "name": "python3"
  },
  "language_info": {
   "codemirror_mode": {
    "name": "ipython",
    "version": 3
   },
   "file_extension": ".py",
   "mimetype": "text/x-python",
   "name": "python",
   "nbconvert_exporter": "python",
   "pygments_lexer": "ipython3",
   "version": "3.7.6"
  }
 },
 "nbformat": 4,
 "nbformat_minor": 2
}
