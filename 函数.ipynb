{
 "cells": [
  {
   "cell_type": "code",
   "execution_count": 1,
   "metadata": {},
   "outputs": [
    {
     "name": "stdout",
     "output_type": "stream",
     "text": [
      "hello, Chen!\n"
     ]
    }
   ],
   "source": [
    "def greet_user(username=\"zhouzhu\"):#形参指定默认值时,等号两边通常不加空格\n",
    "    \"\"\"显示问候语\"\"\"\n",
    "    print('hello, ' + username.title() + '!')\n",
    "\n",
    "greet_user(\"chen\")"
   ]
  },
  {
   "cell_type": "code",
   "execution_count": 2,
   "metadata": {},
   "outputs": [
    {
     "name": "stdout",
     "output_type": "stream",
     "text": [
      "hello, Zhouzhu!\n"
     ]
    }
   ],
   "source": [
    "greet_user()"
   ]
  },
  {
   "cell_type": "code",
   "execution_count": 3,
   "metadata": {},
   "outputs": [
    {
     "name": "stdout",
     "output_type": "stream",
     "text": [
      "\n",
      "I have a cat.\n",
      "My cat's name is Lily.\n"
     ]
    }
   ],
   "source": [
    "def describe_pet(animal_type, pet_name):\n",
    "    '''显示宠物信息'''\n",
    "    print('\\nI have a ' + animal_type + '.')\n",
    "    print('My ' + animal_type + '\\'s name is ' + pet_name.title() + '.')\n",
    "\n",
    "describe_pet(pet_name = 'lily', animal_type = 'cat')"
   ]
  },
  {
   "cell_type": "code",
   "execution_count": 4,
   "metadata": {},
   "outputs": [
    {
     "name": "stdout",
     "output_type": "stream",
     "text": [
      "The shirts size is big, word is I Love Python.\n"
     ]
    }
   ],
   "source": [
    "def make_shirt(size, words='I love Python'):\n",
    "    '''显示衣服信息'''\n",
    "    print('The shirts size is ' + str(size) + ', word is ' + words.title() +'.')\n",
    "\n",
    "make_shirt('big')"
   ]
  },
  {
   "cell_type": "code",
   "execution_count": 6,
   "metadata": {},
   "outputs": [
    {
     "name": "stdout",
     "output_type": "stream",
     "text": [
      "Lily Kk Lucy\n"
     ]
    }
   ],
   "source": [
    "def get_formatted_name(first_name, last_name, middle_name=''):\n",
    "    '''格式化姓名'''\n",
    "    if middle_name:\n",
    "        full_name = (first_name + ' ' + middle_name + ' ' + last_name)\n",
    "    else:\n",
    "        full_name = (first_name + ' ' + last_name)\n",
    "    return full_name.title()\n",
    "\n",
    "musician = get_formatted_name('lily', 'lucy','kk')\n",
    "print(musician)"
   ]
  },
  {
   "cell_type": "code",
   "execution_count": 7,
   "metadata": {},
   "outputs": [
    {
     "name": "stdout",
     "output_type": "stream",
     "text": [
      "Join Luck\n"
     ]
    }
   ],
   "source": [
    "musician = get_formatted_name('join','luck')\n",
    "print(musician)"
   ]
  },
  {
   "cell_type": "code",
   "execution_count": 8,
   "metadata": {},
   "outputs": [
    {
     "name": "stdout",
     "output_type": "stream",
     "text": [
      "{'first': 'liye', 'last': 'luck', 'age': 23}\n"
     ]
    }
   ],
   "source": [
    "def build_person(first_name, last_name, age=''):\n",
    "    '''返回含个人信息的字典,好处可以任意扩展'''\n",
    "    person = {'first': first_name, 'last': last_name}\n",
    "    if age:\n",
    "        person['age'] = age\n",
    "    return person\n",
    "\n",
    "musician = build_person('liye', 'luck', 23)\n",
    "print(musician)"
   ]
  },
  {
   "cell_type": "code",
   "execution_count": 9,
   "metadata": {},
   "outputs": [
    {
     "name": "stdout",
     "output_type": "stream",
     "text": [
      "{'first': 'fdfd', 'last': 'kkk'}\n"
     ]
    }
   ],
   "source": [
    "musician_1 = build_person('fdfd', 'kkk')\n",
    "print(musician_1)"
   ]
  },
  {
   "cell_type": "code",
   "execution_count": 3,
   "metadata": {},
   "outputs": [
    {
     "name": "stdout",
     "output_type": "stream",
     "text": [
      "\n",
      "Please tell me yout name: \n",
      "firs name('q' to exit): sq\n",
      "last name: zz\n",
      "\n",
      "Hello Sq Zz!\n",
      "\n",
      "Please tell me yout name: \n",
      "firs name('q' to exit): q\n"
     ]
    }
   ],
   "source": [
    "def get_formatted_name(first_name, last_name, middle_name=''):\n",
    "    '''格式化姓名,打印问候语'''\n",
    "    if middle_name:\n",
    "        full_name = (first_name + ' ' + middle_name + ' ' + last_name)\n",
    "    else:\n",
    "        full_name = (first_name + ' ' + last_name)\n",
    "    return full_name.title()\n",
    "\n",
    "while True:\n",
    "    print('\\nPlease tell me yout name: ')\n",
    "    f_name = input(\"firs name('q' to exit): \")\n",
    "    if f_name == 'q':\n",
    "        break\n",
    "    l_name =input('last name: ')\n",
    "    \n",
    "    \n",
    "    formatted_name = get_formatted_name(f_name, l_name)\n",
    "    print('\\nHello ' + formatted_name + '!')\n"
   ]
  },
  {
   "cell_type": "code",
   "execution_count": 2,
   "metadata": {},
   "outputs": [
    {
     "name": "stdout",
     "output_type": "stream",
     "text": [
      "hello, Fdafd!\n",
      "hello, Fdasfd!\n",
      "hello, Ghjgj!\n"
     ]
    }
   ],
   "source": [
    "def greet_users(names):\n",
    "    '''names作为列表,问候列表中的人'''\n",
    "    for name in list(names):\n",
    "        msg = 'hello, ' + name.title() + '!'\n",
    "        print(msg)\n",
    "    \n",
    "usernames = ['fdafd', 'fdasfd', 'ghjgj']\n",
    "greet_users(usernames)\n"
   ]
  },
  {
   "cell_type": "code",
   "execution_count": 3,
   "metadata": {},
   "outputs": [],
   "source": [
    "def make_pizza(size, *toppings):  #*toppings代表名为topping的一个空元组.要放在最后\n",
    "    '''制作披萨'''\n",
    "    print('\\n制作' + str(size) + '英寸大小的披萨用下列原料:' )\n",
    "    for topping in toppings:\n",
    "        print('--'+topping.title())"
   ]
  },
  {
   "cell_type": "code",
   "execution_count": 4,
   "metadata": {},
   "outputs": [
    {
     "name": "stdout",
     "output_type": "stream",
     "text": [
      "\n",
      "制作14英寸大小的披萨用下列原料:\n",
      "--Pep\n"
     ]
    }
   ],
   "source": [
    "make_pizza (14,'pep')"
   ]
  },
  {
   "cell_type": "code",
   "execution_count": 5,
   "metadata": {},
   "outputs": [
    {
     "name": "stdout",
     "output_type": "stream",
     "text": [
      "\n",
      "制作12英寸大小的披萨用下列原料:\n",
      "--面粉\n",
      "--鸡蛋\n",
      "--面粉\n",
      "--火腿\n"
     ]
    }
   ],
   "source": [
    "make_pizza(12,'面粉', '鸡蛋', '面粉', '火腿')"
   ]
  },
  {
   "cell_type": "code",
   "execution_count": 1,
   "metadata": {},
   "outputs": [],
   "source": [
    "def build_profile(first, last, **user_info):   #**user_info 是定义一个字典\n",
    "    '''创建一个字典,包含关于用户的任意信息'''\n",
    "    profile = {}\n",
    "    profile['first_name'] = first #注意是[]\n",
    "    profile['last_name'] = last\n",
    "    for key, value in user_info.items():\n",
    "        profile[key] = value\n",
    "    return profile"
   ]
  },
  {
   "cell_type": "code",
   "execution_count": 2,
   "metadata": {},
   "outputs": [
    {
     "name": "stdout",
     "output_type": "stream",
     "text": [
      "{'first_name': 'albert', 'last_name': 'einstein', 'location': 'princeton', 'field': 'physics', 'age': 28}\n"
     ]
    }
   ],
   "source": [
    "user_profile = build_profile('albert', 'einstein',\n",
    "                            location = 'princeton',\n",
    "                            field = 'physics',\n",
    "                            age = 28)\n",
    "print(user_profile)"
   ]
  },
  {
   "cell_type": "code",
   "execution_count": 7,
   "metadata": {
    "scrolled": false
   },
   "outputs": [
    {
     "name": "stdout",
     "output_type": "stream",
     "text": [
      "\n",
      "制作16英寸大小的披萨用下列原料:\n",
      "--面粉\n",
      "\n",
      "制作12英寸大小的披萨用下列原料:\n",
      "--面粉\n",
      "--鸡蛋\n",
      "--白糖\n"
     ]
    }
   ],
   "source": [
    "import pizza #将上面制作pizza的函数存为pizza.py模块后调用\n",
    "pizza.make_pizza(16, '面粉')#指pizza模块中的make_pizza函数\n",
    "pizza.make_pizza(12,'面粉', '鸡蛋','白糖')"
   ]
  },
  {
   "cell_type": "code",
   "execution_count": null,
   "metadata": {},
   "outputs": [],
   "source": [
    "from pizza import make_pizza#from从pizza模块导入函数\n",
    "make_pizza(16,\"面粉\", '鸡蛋')"
   ]
  },
  {
   "cell_type": "code",
   "execution_count": null,
   "metadata": {},
   "outputs": [],
   "source": [
    "from pizza import make_pizza as mp#as指定函数别名\n",
    "mp(16, '面粉')"
   ]
  },
  {
   "cell_type": "code",
   "execution_count": null,
   "metadata": {},
   "outputs": [],
   "source": [
    "import pizza as p #指定模块别名\n",
    "p.make_pizza(16, '面粉')#指pizza模块中的make_pizza函数\n",
    "p.make_pizza(12,'面粉', '鸡蛋','白糖')"
   ]
  },
  {
   "cell_type": "code",
   "execution_count": null,
   "metadata": {},
   "outputs": [],
   "source": [
    "from pizza import *#from从pizza模块导入所有函数,注意如果函数和你项目函数重名,会导致意想不到的后果\n",
    "make_pizza(16,\"面粉\", '鸡蛋')#无需再指定模块名"
   ]
  },
  {
   "cell_type": "code",
   "execution_count": null,
   "metadata": {},
   "outputs": [],
   "source": []
  }
 ],
 "metadata": {
  "kernelspec": {
   "display_name": "Python 3",
   "language": "python",
   "name": "python3"
  },
  "language_info": {
   "codemirror_mode": {
    "name": "ipython",
    "version": 3
   },
   "file_extension": ".py",
   "mimetype": "text/x-python",
   "name": "python",
   "nbconvert_exporter": "python",
   "pygments_lexer": "ipython3",
   "version": "3.7.6"
  }
 },
 "nbformat": 4,
 "nbformat_minor": 2
}
