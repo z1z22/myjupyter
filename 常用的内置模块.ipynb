{
 "cells": [
  {
   "cell_type": "markdown",
   "metadata": {},
   "source": [
    "## 常用的内置模块"
   ]
  },
  {
   "cell_type": "code",
   "execution_count": 6,
   "metadata": {},
   "outputs": [],
   "source": [
    "# collections\n",
    "from collections import namedtuple\n",
    "point = namedtuple('point', ['x', 'y'])\n",
    "p = point (12, 200)\n"
   ]
  },
  {
   "cell_type": "code",
   "execution_count": 7,
   "metadata": {},
   "outputs": [
    {
     "data": {
      "text/plain": [
       "12"
      ]
     },
     "execution_count": 7,
     "metadata": {},
     "output_type": "execute_result"
    }
   ],
   "source": [
    "p.x"
   ]
  },
  {
   "cell_type": "code",
   "execution_count": 8,
   "metadata": {},
   "outputs": [
    {
     "data": {
      "text/plain": [
       "200"
      ]
     },
     "execution_count": 8,
     "metadata": {},
     "output_type": "execute_result"
    }
   ],
   "source": [
    "p.y"
   ]
  },
  {
   "cell_type": "markdown",
   "metadata": {},
   "source": [
    "### deque除了实现list的append()和pop()外，还支持appendleft()和popleft()，这样就可以非常高效地往头部添加或删除元素。\n",
    "\n"
   ]
  },
  {
   "cell_type": "code",
   "execution_count": 5,
   "metadata": {},
   "outputs": [
    {
     "data": {
      "text/plain": [
       "deque(['y', 'a', 'b', 'c', 'x'])"
      ]
     },
     "execution_count": 5,
     "metadata": {},
     "output_type": "execute_result"
    }
   ],
   "source": [
    "from collections import deque\n",
    "q = deque(['a', 'b', 'c'])\n",
    "q.append('x')\n",
    "q.appendleft('y')\n",
    "q"
   ]
  },
  {
   "cell_type": "code",
   "execution_count": 1,
   "metadata": {},
   "outputs": [
    {
     "name": "stdout",
     "output_type": "stream",
     "text": [
      "/Users/mac/python/jupyter\r\n"
     ]
    }
   ],
   "source": [
    "!pwd"
   ]
  },
  {
   "cell_type": "code",
   "execution_count": 2,
   "metadata": {},
   "outputs": [
    {
     "name": "stdout",
     "output_type": "stream",
     "text": [
      "99chengfabiao.ipynb         未命名.ipynb\r\n",
      "Untitled5.ipynb             未命名1.ipynb\r\n",
      "new1.ipynb                  函数基础.ipynb\r\n",
      "python基础.ipynb            字符编码.ipynb\r\n",
      "re.ipynb                    文件操作.ipynb\r\n",
      "类.ipynb                    生成数据.ipynb\r\n",
      "函数.ipynb                  面向对象编程.ipynb\r\n",
      "字典.ipynb                  常用的内置模块.ipynb\r\n",
      "实例.ipynb\r\n"
     ]
    }
   ],
   "source": [
    "!ls"
   ]
  },
  {
   "cell_type": "markdown",
   "metadata": {},
   "source": [
    "jupyter !+可以运行系统指令"
   ]
  },
  {
   "cell_type": "code",
   "execution_count": 12,
   "metadata": {},
   "outputs": [
    {
     "name": "stdout",
     "output_type": "stream",
     "text": [
      "deque\t mytime\t namedtuple\t p\t point\t q\t time\t \n"
     ]
    }
   ],
   "source": [
    "who"
   ]
  },
  {
   "cell_type": "code",
   "execution_count": 10,
   "metadata": {},
   "outputs": [
    {
     "name": "stdout",
     "output_type": "stream",
     "text": [
      "time.struct_time(tm_year=2020, tm_mon=4, tm_mday=20, tm_hour=20, tm_min=15, tm_sec=50, tm_wday=0, tm_yday=111, tm_isdst=0)\n",
      "time.struct_time(tm_year=2020, tm_mon=2, tm_mday=6, tm_hour=9, tm_min=24, tm_sec=45, tm_wday=3, tm_yday=37, tm_isdst=0)\n",
      "Thu Feb  6 09:24:45 2020\n"
     ]
    }
   ],
   "source": [
    "import time\n",
    "print(time.localtime(time.time()))\n",
    "mytime= 1580952285\n",
    "print(time.localtime(mytime))\n",
    "print(time.asctime(time.localtime(mytime)))"
   ]
  },
  {
   "cell_type": "code",
   "execution_count": 17,
   "metadata": {},
   "outputs": [
    {
     "name": "stdout",
     "output_type": "stream",
     "text": [
      "2020-04-20\n",
      "2020-04-20 20:19:14\n",
      "2020-04-20 20:19:14.507789\n"
     ]
    }
   ],
   "source": [
    "from datetime import datetime\n",
    "print(str(datetime.now()).split()[0])\n",
    "print(str(datetime.now()).split('.')[0])\n",
    "\n",
    "print(datetime.now())"
   ]
  },
  {
   "cell_type": "code",
   "execution_count": null,
   "metadata": {},
   "outputs": [],
   "source": []
  }
 ],
 "metadata": {
  "kernelspec": {
   "display_name": "Python 3",
   "language": "python",
   "name": "python3"
  },
  "language_info": {
   "codemirror_mode": {
    "name": "ipython",
    "version": 3
   },
   "file_extension": ".py",
   "mimetype": "text/x-python",
   "name": "python",
   "nbconvert_exporter": "python",
   "pygments_lexer": "ipython3",
   "version": "3.7.6"
  }
 },
 "nbformat": 4,
 "nbformat_minor": 2
}
