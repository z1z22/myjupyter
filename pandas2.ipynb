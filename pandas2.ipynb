{
 "cells": [
  {
   "cell_type": "code",
   "execution_count": 1,
   "metadata": {},
   "outputs": [],
   "source": [
    "from pandas import Series, DataFrame\n",
    "import pandas as pd\n",
    "import numpy as np"
   ]
  },
  {
   "cell_type": "code",
   "execution_count": 6,
   "metadata": {},
   "outputs": [
    {
     "data": {
      "text/plain": [
       "0    0.559253\n",
       "1    2.133913\n",
       "2   -0.309285\n",
       "3    0.993002\n",
       "4    2.082965\n",
       "5   -1.163070\n",
       "6   -1.546971\n",
       "7    0.109244\n",
       "8   -0.780487\n",
       "9   -0.103979\n",
       "dtype: float64"
      ]
     },
     "execution_count": 6,
     "metadata": {},
     "output_type": "execute_result"
    }
   ],
   "source": [
    "s = Series(np.random.randn(10))\n",
    "s"
   ]
  },
  {
   "cell_type": "markdown",
   "metadata": {},
   "source": [
    "# 系列基本功能"
   ]
  },
  {
   "cell_type": "code",
   "execution_count": 7,
   "metadata": {},
   "outputs": [
    {
     "data": {
      "text/plain": [
       "[RangeIndex(start=0, stop=10, step=1)]"
      ]
     },
     "execution_count": 7,
     "metadata": {},
     "output_type": "execute_result"
    }
   ],
   "source": [
    "s.axes #返回行轴标签列表"
   ]
  },
  {
   "cell_type": "code",
   "execution_count": 8,
   "metadata": {},
   "outputs": [
    {
     "data": {
      "text/plain": [
       "False"
      ]
     },
     "execution_count": 8,
     "metadata": {},
     "output_type": "execute_result"
    }
   ],
   "source": [
    "s.empty#如果系列为空，则返回True"
   ]
  },
  {
   "cell_type": "code",
   "execution_count": 9,
   "metadata": {},
   "outputs": [
    {
     "data": {
      "text/plain": [
       "1"
      ]
     },
     "execution_count": 9,
     "metadata": {},
     "output_type": "execute_result"
    }
   ],
   "source": [
    "s.ndim#返回底层数据的维数，默认定义：1。\n"
   ]
  },
  {
   "cell_type": "code",
   "execution_count": 10,
   "metadata": {},
   "outputs": [
    {
     "data": {
      "text/plain": [
       "10"
      ]
     },
     "execution_count": 10,
     "metadata": {},
     "output_type": "execute_result"
    }
   ],
   "source": [
    "s.size#返回基础数据中的元素数。"
   ]
  },
  {
   "cell_type": "code",
   "execution_count": 12,
   "metadata": {},
   "outputs": [
    {
     "data": {
      "text/plain": [
       "array([ 0.5592528 ,  2.13391348, -0.30928544,  0.99300168,  2.08296519,\n",
       "       -1.16306982, -1.54697062,  0.10924353, -0.78048722, -0.10397883])"
      ]
     },
     "execution_count": 12,
     "metadata": {},
     "output_type": "execute_result"
    }
   ],
   "source": [
    "s.values#将系列作为ndarray返回。"
   ]
  },
  {
   "cell_type": "code",
   "execution_count": 13,
   "metadata": {},
   "outputs": [
    {
     "data": {
      "text/plain": [
       "0    0.559253\n",
       "1    2.133913\n",
       "2   -0.309285\n",
       "3    0.993002\n",
       "4    2.082965\n",
       "dtype: float64"
      ]
     },
     "execution_count": 13,
     "metadata": {},
     "output_type": "execute_result"
    }
   ],
   "source": [
    "s.head()"
   ]
  },
  {
   "cell_type": "code",
   "execution_count": 14,
   "metadata": {},
   "outputs": [
    {
     "data": {
      "text/plain": [
       "5   -1.163070\n",
       "6   -1.546971\n",
       "7    0.109244\n",
       "8   -0.780487\n",
       "9   -0.103979\n",
       "dtype: float64"
      ]
     },
     "execution_count": 14,
     "metadata": {},
     "output_type": "execute_result"
    }
   ],
   "source": [
    "s.tail()"
   ]
  },
  {
   "cell_type": "code",
   "execution_count": 15,
   "metadata": {},
   "outputs": [
    {
     "data": {
      "text/plain": [
       "dtype('float64')"
      ]
     },
     "execution_count": 15,
     "metadata": {},
     "output_type": "execute_result"
    }
   ],
   "source": [
    "s.dtype"
   ]
  },
  {
   "cell_type": "markdown",
   "metadata": {},
   "source": [
    "到目前为止，我们了解了三种Pandas数据结构以及如何创建它们。接下来将主要关注数据帧(DataFrame)对象，因为它在实时数据处理中非常重要，并且还讨论其他数据结构。\n",
    "\n",
    "# 系列基本功能\n",
    "\n",
    "### axes   返回行轴标签列表。\n",
    "\n",
    "### dtype返回对象的数据类型(dtype)。\n",
    "\n",
    "### empty 如果系列为空，则返回True。\n",
    "\n",
    "### ndim 返回底层数据的维数，默认定义：1。\n",
    "\n",
    "### size  返回基础数据中的元素数。\n",
    "\n",
    "### values 将系列作为ndarray返回。\n",
    "\n",
    "### head() 返回前n行。\n",
    "\n",
    "### tail() 返回最后n行。\n"
   ]
  },
  {
   "cell_type": "code",
   "execution_count": 20,
   "metadata": {},
   "outputs": [
    {
     "data": {
      "text/html": [
       "<div>\n",
       "<style scoped>\n",
       "    .dataframe tbody tr th:only-of-type {\n",
       "        vertical-align: middle;\n",
       "    }\n",
       "\n",
       "    .dataframe tbody tr th {\n",
       "        vertical-align: top;\n",
       "    }\n",
       "\n",
       "    .dataframe thead th {\n",
       "        text-align: right;\n",
       "    }\n",
       "</style>\n",
       "<table border=\"1\" class=\"dataframe\">\n",
       "  <thead>\n",
       "    <tr style=\"text-align: right;\">\n",
       "      <th></th>\n",
       "      <th>Name</th>\n",
       "      <th>Age</th>\n",
       "      <th>Rating</th>\n",
       "    </tr>\n",
       "  </thead>\n",
       "  <tbody>\n",
       "    <tr>\n",
       "      <th>0</th>\n",
       "      <td>Tom</td>\n",
       "      <td>25</td>\n",
       "      <td>4.23</td>\n",
       "    </tr>\n",
       "    <tr>\n",
       "      <th>1</th>\n",
       "      <td>James</td>\n",
       "      <td>26</td>\n",
       "      <td>3.24</td>\n",
       "    </tr>\n",
       "    <tr>\n",
       "      <th>2</th>\n",
       "      <td>Ricky</td>\n",
       "      <td>25</td>\n",
       "      <td>3.98</td>\n",
       "    </tr>\n",
       "    <tr>\n",
       "      <th>3</th>\n",
       "      <td>Vin</td>\n",
       "      <td>23</td>\n",
       "      <td>2.56</td>\n",
       "    </tr>\n",
       "    <tr>\n",
       "      <th>4</th>\n",
       "      <td>Steve</td>\n",
       "      <td>30</td>\n",
       "      <td>3.20</td>\n",
       "    </tr>\n",
       "    <tr>\n",
       "      <th>5</th>\n",
       "      <td>Minsu</td>\n",
       "      <td>29</td>\n",
       "      <td>4.60</td>\n",
       "    </tr>\n",
       "    <tr>\n",
       "      <th>6</th>\n",
       "      <td>Jack</td>\n",
       "      <td>23</td>\n",
       "      <td>3.80</td>\n",
       "    </tr>\n",
       "  </tbody>\n",
       "</table>\n",
       "</div>"
      ],
      "text/plain": [
       "    Name  Age  Rating\n",
       "0    Tom   25    4.23\n",
       "1  James   26    3.24\n",
       "2  Ricky   25    3.98\n",
       "3    Vin   23    2.56\n",
       "4  Steve   30    3.20\n",
       "5  Minsu   29    4.60\n",
       "6   Jack   23    3.80"
      ]
     },
     "execution_count": 20,
     "metadata": {},
     "output_type": "execute_result"
    }
   ],
   "source": [
    " df= DataFrame( {'Name':pd.Series(['Tom','James','Ricky','Vin','Steve','Minsu','Jack']),\n",
    "   'Age':pd.Series([25,26,25,23,30,29,23]),\n",
    "   'Rating':pd.Series([4.23,3.24,3.98,2.56,3.20,4.6,3.8])})\n",
    "df"
   ]
  },
  {
   "cell_type": "code",
   "execution_count": 30,
   "metadata": {},
   "outputs": [
    {
     "data": {
      "text/html": [
       "<div>\n",
       "<style scoped>\n",
       "    .dataframe tbody tr th:only-of-type {\n",
       "        vertical-align: middle;\n",
       "    }\n",
       "\n",
       "    .dataframe tbody tr th {\n",
       "        vertical-align: top;\n",
       "    }\n",
       "\n",
       "    .dataframe thead th {\n",
       "        text-align: right;\n",
       "    }\n",
       "</style>\n",
       "<table border=\"1\" class=\"dataframe\">\n",
       "  <thead>\n",
       "    <tr style=\"text-align: right;\">\n",
       "      <th></th>\n",
       "      <th>0</th>\n",
       "      <th>1</th>\n",
       "      <th>2</th>\n",
       "      <th>3</th>\n",
       "      <th>4</th>\n",
       "      <th>5</th>\n",
       "      <th>6</th>\n",
       "    </tr>\n",
       "  </thead>\n",
       "  <tbody>\n",
       "    <tr>\n",
       "      <th>Name</th>\n",
       "      <td>Tom</td>\n",
       "      <td>James</td>\n",
       "      <td>Ricky</td>\n",
       "      <td>Vin</td>\n",
       "      <td>Steve</td>\n",
       "      <td>Minsu</td>\n",
       "      <td>Jack</td>\n",
       "    </tr>\n",
       "    <tr>\n",
       "      <th>Age</th>\n",
       "      <td>25</td>\n",
       "      <td>26</td>\n",
       "      <td>25</td>\n",
       "      <td>23</td>\n",
       "      <td>30</td>\n",
       "      <td>29</td>\n",
       "      <td>23</td>\n",
       "    </tr>\n",
       "    <tr>\n",
       "      <th>Rating</th>\n",
       "      <td>4.23</td>\n",
       "      <td>3.24</td>\n",
       "      <td>3.98</td>\n",
       "      <td>2.56</td>\n",
       "      <td>3.2</td>\n",
       "      <td>4.6</td>\n",
       "      <td>3.8</td>\n",
       "    </tr>\n",
       "  </tbody>\n",
       "</table>\n",
       "</div>"
      ],
      "text/plain": [
       "           0      1      2     3      4      5     6\n",
       "Name     Tom  James  Ricky   Vin  Steve  Minsu  Jack\n",
       "Age       25     26     25    23     30     29    23\n",
       "Rating  4.23   3.24   3.98  2.56    3.2    4.6   3.8"
      ]
     },
     "execution_count": 30,
     "metadata": {},
     "output_type": "execute_result"
    }
   ],
   "source": [
    "df1=df.T\n",
    "df1"
   ]
  },
  {
   "cell_type": "code",
   "execution_count": 28,
   "metadata": {},
   "outputs": [
    {
     "data": {
      "text/html": [
       "<div>\n",
       "<style scoped>\n",
       "    .dataframe tbody tr th:only-of-type {\n",
       "        vertical-align: middle;\n",
       "    }\n",
       "\n",
       "    .dataframe tbody tr th {\n",
       "        vertical-align: top;\n",
       "    }\n",
       "\n",
       "    .dataframe thead th {\n",
       "        text-align: right;\n",
       "    }\n",
       "</style>\n",
       "<table border=\"1\" class=\"dataframe\">\n",
       "  <thead>\n",
       "    <tr style=\"text-align: right;\">\n",
       "      <th></th>\n",
       "      <th>Name</th>\n",
       "      <th>Age</th>\n",
       "      <th>Rating</th>\n",
       "    </tr>\n",
       "  </thead>\n",
       "  <tbody>\n",
       "    <tr>\n",
       "      <th>0</th>\n",
       "      <td>Tom</td>\n",
       "      <td>25</td>\n",
       "      <td>4.23</td>\n",
       "    </tr>\n",
       "    <tr>\n",
       "      <th>1</th>\n",
       "      <td>James</td>\n",
       "      <td>26</td>\n",
       "      <td>3.24</td>\n",
       "    </tr>\n",
       "    <tr>\n",
       "      <th>2</th>\n",
       "      <td>Ricky</td>\n",
       "      <td>25</td>\n",
       "      <td>3.98</td>\n",
       "    </tr>\n",
       "    <tr>\n",
       "      <th>3</th>\n",
       "      <td>Vin</td>\n",
       "      <td>23</td>\n",
       "      <td>2.56</td>\n",
       "    </tr>\n",
       "    <tr>\n",
       "      <th>4</th>\n",
       "      <td>Steve</td>\n",
       "      <td>30</td>\n",
       "      <td>3.20</td>\n",
       "    </tr>\n",
       "    <tr>\n",
       "      <th>5</th>\n",
       "      <td>Minsu</td>\n",
       "      <td>29</td>\n",
       "      <td>4.60</td>\n",
       "    </tr>\n",
       "    <tr>\n",
       "      <th>6</th>\n",
       "      <td>Jack</td>\n",
       "      <td>23</td>\n",
       "      <td>3.80</td>\n",
       "    </tr>\n",
       "  </tbody>\n",
       "</table>\n",
       "</div>"
      ],
      "text/plain": [
       "    Name  Age  Rating\n",
       "0    Tom   25    4.23\n",
       "1  James   26    3.24\n",
       "2  Ricky   25    3.98\n",
       "3    Vin   23    2.56\n",
       "4  Steve   30    3.20\n",
       "5  Minsu   29    4.60\n",
       "6   Jack   23    3.80"
      ]
     },
     "execution_count": 28,
     "metadata": {},
     "output_type": "execute_result"
    }
   ],
   "source": [
    "df"
   ]
  },
  {
   "cell_type": "code",
   "execution_count": 24,
   "metadata": {},
   "outputs": [
    {
     "data": {
      "text/plain": [
       "[RangeIndex(start=0, stop=7, step=1),\n",
       " Index(['Name', 'Age', 'Rating'], dtype='object')]"
      ]
     },
     "execution_count": 24,
     "metadata": {},
     "output_type": "execute_result"
    }
   ],
   "source": [
    "df.axes"
   ]
  },
  {
   "cell_type": "code",
   "execution_count": 26,
   "metadata": {},
   "outputs": [
    {
     "data": {
      "text/plain": [
       "Name       object\n",
       "Age         int64\n",
       "Rating    float64\n",
       "dtype: object"
      ]
     },
     "execution_count": 26,
     "metadata": {},
     "output_type": "execute_result"
    }
   ],
   "source": [
    "df.dtypes"
   ]
  },
  {
   "cell_type": "code",
   "execution_count": 33,
   "metadata": {},
   "outputs": [
    {
     "data": {
      "text/plain": [
       "(7, 3)"
      ]
     },
     "metadata": {},
     "output_type": "display_data"
    },
    {
     "data": {
      "text/plain": [
       "(3, 7)"
      ]
     },
     "metadata": {},
     "output_type": "display_data"
    }
   ],
   "source": [
    "display(df.shape)\n",
    "display(df1.shape)"
   ]
  },
  {
   "cell_type": "code",
   "execution_count": 35,
   "metadata": {},
   "outputs": [
    {
     "data": {
      "text/plain": [
       "2"
      ]
     },
     "execution_count": 35,
     "metadata": {},
     "output_type": "execute_result"
    }
   ],
   "source": [
    "df1.ndim"
   ]
  },
  {
   "cell_type": "code",
   "execution_count": 36,
   "metadata": {},
   "outputs": [
    {
     "data": {
      "text/plain": [
       "21"
      ]
     },
     "metadata": {},
     "output_type": "display_data"
    },
    {
     "data": {
      "text/plain": [
       "21"
      ]
     },
     "metadata": {},
     "output_type": "display_data"
    }
   ],
   "source": [
    "display(df.size)\n",
    "display(df1.size)"
   ]
  },
  {
   "cell_type": "code",
   "execution_count": 38,
   "metadata": {},
   "outputs": [
    {
     "data": {
      "text/plain": [
       "array([['Tom', 25, 4.23],\n",
       "       ['James', 26, 3.24],\n",
       "       ['Ricky', 25, 3.98],\n",
       "       ['Vin', 23, 2.56],\n",
       "       ['Steve', 30, 3.2],\n",
       "       ['Minsu', 29, 4.6],\n",
       "       ['Jack', 23, 3.8]], dtype=object)"
      ]
     },
     "execution_count": 38,
     "metadata": {},
     "output_type": "execute_result"
    }
   ],
   "source": [
    "df.values  #返回datafarme的numpy显示"
   ]
  },
  {
   "cell_type": "markdown",
   "metadata": {},
   "source": [
    "# DataFrame基本功能\n",
    "\n",
    "### T 转置行和列。\n",
    "\n",
    "### axes 返回一个列，行轴标签和列轴标签作为唯一的成员。\n",
    "\n",
    "### dtypes 返回此对象中的数据类型(dtypes)。\n",
    "\n",
    "### empty 如果NDFrame完全为空[无项目]，则返回为True; 如果任何轴的长度为0。\n",
    "\n",
    "### ndim 轴/数组维度大小。\n",
    "\n",
    "### shape 返回表示DataFrame的维度的元组。\n",
    "\n",
    "### size NDFrame中的元素数。\n",
    "\n",
    "### values NDFrame的Numpy表示。\n",
    "\n",
    "### head() 返回开头前n行。\n",
    "\n",
    "### tail() 返回最后n行。"
   ]
  },
  {
   "cell_type": "code",
   "execution_count": 39,
   "metadata": {},
   "outputs": [
    {
     "name": "stdout",
     "output_type": "stream",
     "text": [
      "      Name  Age  Rating\n",
      "0      Tom   25    4.23\n",
      "1    James   26    3.24\n",
      "2    Ricky   25    3.98\n",
      "3      Vin   23    2.56\n",
      "4    Steve   30    3.20\n",
      "5    Minsu   29    4.60\n",
      "6     Jack   23    3.80\n",
      "7      Lee   34    3.78\n",
      "8    David   40    2.98\n",
      "9   Gasper   30    4.80\n",
      "10  Betina   51    4.10\n",
      "11  Andres   46    3.65\n"
     ]
    }
   ],
   "source": [
    "import pandas as pd\n",
    "import numpy as np\n",
    "\n",
    "#Create a Dictionary of series\n",
    "d = {'Name':pd.Series(['Tom','James','Ricky','Vin','Steve','Minsu','Jack',\n",
    "   'Lee','David','Gasper','Betina','Andres']),\n",
    "   'Age':pd.Series([25,26,25,23,30,29,23,34,40,30,51,46]),\n",
    "   'Rating':pd.Series([4.23,3.24,3.98,2.56,3.20,4.6,3.8,3.78,2.98,4.80,4.10,3.65])}\n",
    "\n",
    "#Create a DataFrame\n",
    "df = pd.DataFrame(d)\n",
    "print(df)\n",
    "\n"
   ]
  },
  {
   "cell_type": "code",
   "execution_count": 40,
   "metadata": {},
   "outputs": [
    {
     "data": {
      "text/plain": [
       "Name      TomJamesRickyVinSteveMinsuJackLeeDavidGasperBe...\n",
       "Age                                                     382\n",
       "Rating                                                44.92\n",
       "dtype: object"
      ]
     },
     "execution_count": 40,
     "metadata": {},
     "output_type": "execute_result"
    }
   ],
   "source": [
    "df.sum()"
   ]
  },
  {
   "cell_type": "code",
   "execution_count": 41,
   "metadata": {},
   "outputs": [
    {
     "data": {
      "text/plain": [
       "0     29.23\n",
       "1     29.24\n",
       "2     28.98\n",
       "3     25.56\n",
       "4     33.20\n",
       "5     33.60\n",
       "6     26.80\n",
       "7     37.78\n",
       "8     42.98\n",
       "9     34.80\n",
       "10    55.10\n",
       "11    49.65\n",
       "dtype: float64"
      ]
     },
     "execution_count": 41,
     "metadata": {},
     "output_type": "execute_result"
    }
   ],
   "source": [
    "df.sum(1) #axis=1"
   ]
  },
  {
   "cell_type": "code",
   "execution_count": 42,
   "metadata": {},
   "outputs": [
    {
     "data": {
      "text/plain": [
       "Age       31.833333\n",
       "Rating     3.743333\n",
       "dtype: float64"
      ]
     },
     "execution_count": 42,
     "metadata": {},
     "output_type": "execute_result"
    }
   ],
   "source": [
    "df.mean()"
   ]
  },
  {
   "cell_type": "code",
   "execution_count": 43,
   "metadata": {},
   "outputs": [
    {
     "data": {
      "text/plain": [
       "0     14.615\n",
       "1     14.620\n",
       "2     14.490\n",
       "3     12.780\n",
       "4     16.600\n",
       "5     16.800\n",
       "6     13.400\n",
       "7     18.890\n",
       "8     21.490\n",
       "9     17.400\n",
       "10    27.550\n",
       "11    24.825\n",
       "dtype: float64"
      ]
     },
     "execution_count": 43,
     "metadata": {},
     "output_type": "execute_result"
    }
   ],
   "source": [
    "df.mean(1)"
   ]
  },
  {
   "cell_type": "code",
   "execution_count": 44,
   "metadata": {},
   "outputs": [
    {
     "data": {
      "text/plain": [
       "Age       9.232682\n",
       "Rating    0.661628\n",
       "dtype: float64"
      ]
     },
     "execution_count": 44,
     "metadata": {},
     "output_type": "execute_result"
    }
   ],
   "source": [
    "df.std()"
   ]
  },
  {
   "cell_type": "markdown",
   "metadata": {},
   "source": [
    "# pandas 的描述性统计，下表列出了重要函数 \n",
    "\n",
    "### count() 非空观测数量\n",
    "\n",
    "### sum() 所有值之和\n",
    "\n",
    "### mean() 所有值的平均值\n",
    "\n",
    "### median() 所有值的中位数\n",
    "\n",
    "### mode() 值的模值\n",
    "\n",
    "### std() 值的标准偏差\n",
    "\n",
    "### min() 所有值中的最小值\n",
    "\n",
    "### max() 所有值中的最大值\n",
    "\n",
    "### abs() 绝对值\n",
    "\n",
    "### prod() 数组元素的乘积\n",
    "\n",
    "### cumsum() 累计总和\n",
    "\n",
    "### cumprod() 累计乘积\n",
    "\n"
   ]
  },
  {
   "cell_type": "markdown",
   "metadata": {},
   "source": [
    "# 汇总数据describe()"
   ]
  },
  {
   "cell_type": "code",
   "execution_count": 46,
   "metadata": {},
   "outputs": [
    {
     "data": {
      "text/html": [
       "<div>\n",
       "<style scoped>\n",
       "    .dataframe tbody tr th:only-of-type {\n",
       "        vertical-align: middle;\n",
       "    }\n",
       "\n",
       "    .dataframe tbody tr th {\n",
       "        vertical-align: top;\n",
       "    }\n",
       "\n",
       "    .dataframe thead th {\n",
       "        text-align: right;\n",
       "    }\n",
       "</style>\n",
       "<table border=\"1\" class=\"dataframe\">\n",
       "  <thead>\n",
       "    <tr style=\"text-align: right;\">\n",
       "      <th></th>\n",
       "      <th>Age</th>\n",
       "      <th>Rating</th>\n",
       "    </tr>\n",
       "  </thead>\n",
       "  <tbody>\n",
       "    <tr>\n",
       "      <th>count</th>\n",
       "      <td>12.000000</td>\n",
       "      <td>12.000000</td>\n",
       "    </tr>\n",
       "    <tr>\n",
       "      <th>mean</th>\n",
       "      <td>31.833333</td>\n",
       "      <td>3.743333</td>\n",
       "    </tr>\n",
       "    <tr>\n",
       "      <th>std</th>\n",
       "      <td>9.232682</td>\n",
       "      <td>0.661628</td>\n",
       "    </tr>\n",
       "    <tr>\n",
       "      <th>min</th>\n",
       "      <td>23.000000</td>\n",
       "      <td>2.560000</td>\n",
       "    </tr>\n",
       "    <tr>\n",
       "      <th>25%</th>\n",
       "      <td>25.000000</td>\n",
       "      <td>3.230000</td>\n",
       "    </tr>\n",
       "    <tr>\n",
       "      <th>50%</th>\n",
       "      <td>29.500000</td>\n",
       "      <td>3.790000</td>\n",
       "    </tr>\n",
       "    <tr>\n",
       "      <th>75%</th>\n",
       "      <td>35.500000</td>\n",
       "      <td>4.132500</td>\n",
       "    </tr>\n",
       "    <tr>\n",
       "      <th>max</th>\n",
       "      <td>51.000000</td>\n",
       "      <td>4.800000</td>\n",
       "    </tr>\n",
       "  </tbody>\n",
       "</table>\n",
       "</div>"
      ],
      "text/plain": [
       "             Age     Rating\n",
       "count  12.000000  12.000000\n",
       "mean   31.833333   3.743333\n",
       "std     9.232682   0.661628\n",
       "min    23.000000   2.560000\n",
       "25%    25.000000   3.230000\n",
       "50%    29.500000   3.790000\n",
       "75%    35.500000   4.132500\n",
       "max    51.000000   4.800000"
      ]
     },
     "execution_count": 46,
     "metadata": {},
     "output_type": "execute_result"
    }
   ],
   "source": [
    "df.describe()"
   ]
  },
  {
   "cell_type": "code",
   "execution_count": 49,
   "metadata": {},
   "outputs": [
    {
     "name": "stdout",
     "output_type": "stream",
     "text": [
      "      Name  Age  Rating\n",
      "0      Tom   25    4.23\n",
      "1    James   26    3.24\n",
      "2    Ricky   25    3.98\n",
      "3      Vin   23    2.56\n",
      "4    Steve   30    3.20\n",
      "5    Minsu   29    4.60\n",
      "6     Jack   23    3.80\n",
      "7      Lee   34    3.78\n",
      "8    David   40    2.98\n",
      "9   Gasper   30    4.80\n",
      "10  Betina   51    4.10\n",
      "11  Andres   46    3.65\n",
      "Name\n",
      "Age\n",
      "Rating\n"
     ]
    }
   ],
   "source": [
    "print (df)\n",
    "for col in df:#(datafrome迭代的是列名称）\n",
    "    print(col)"
   ]
  },
  {
   "cell_type": "markdown",
   "metadata": {},
   "source": [
    "要遍历数据帧(DataFrame)中的行，可以使用以下函数 -\n",
    "\n",
    "iteritems() - 迭代(key，value)对\n",
    "iterrows() - 将行迭代为(索引，系列)对\n",
    "itertuples() - 以namedtuples的形式迭代行\n"
   ]
  },
  {
   "cell_type": "code",
   "execution_count": 52,
   "metadata": {},
   "outputs": [
    {
     "name": "stdout",
     "output_type": "stream",
     "text": [
      "Name 0        Tom\n",
      "1      James\n",
      "2      Ricky\n",
      "3        Vin\n",
      "4      Steve\n",
      "5      Minsu\n",
      "6       Jack\n",
      "7        Lee\n",
      "8      David\n",
      "9     Gasper\n",
      "10    Betina\n",
      "11    Andres\n",
      "Name: Name, dtype: object\n",
      "Age 0     25\n",
      "1     26\n",
      "2     25\n",
      "3     23\n",
      "4     30\n",
      "5     29\n",
      "6     23\n",
      "7     34\n",
      "8     40\n",
      "9     30\n",
      "10    51\n",
      "11    46\n",
      "Name: Age, dtype: int64\n",
      "Rating 0     4.23\n",
      "1     3.24\n",
      "2     3.98\n",
      "3     2.56\n",
      "4     3.20\n",
      "5     4.60\n",
      "6     3.80\n",
      "7     3.78\n",
      "8     2.98\n",
      "9     4.80\n",
      "10    4.10\n",
      "11    3.65\n",
      "Name: Rating, dtype: float64\n"
     ]
    }
   ],
   "source": [
    "for key, value in df.iteritems():\n",
    "    print(key,  value)"
   ]
  },
  {
   "cell_type": "code",
   "execution_count": 56,
   "metadata": {},
   "outputs": [
    {
     "name": "stdout",
     "output_type": "stream",
     "text": [
      "0 :     Name       Tom\n",
      "Age         25\n",
      "Rating    4.23\n",
      "Name: 0, dtype: object\n",
      "1 :     Name      James\n",
      "Age          26\n",
      "Rating     3.24\n",
      "Name: 1, dtype: object\n",
      "2 :     Name      Ricky\n",
      "Age          25\n",
      "Rating     3.98\n",
      "Name: 2, dtype: object\n",
      "3 :     Name       Vin\n",
      "Age         23\n",
      "Rating    2.56\n",
      "Name: 3, dtype: object\n",
      "4 :     Name      Steve\n",
      "Age          30\n",
      "Rating      3.2\n",
      "Name: 4, dtype: object\n",
      "5 :     Name      Minsu\n",
      "Age          29\n",
      "Rating      4.6\n",
      "Name: 5, dtype: object\n",
      "6 :     Name      Jack\n",
      "Age         23\n",
      "Rating     3.8\n",
      "Name: 6, dtype: object\n",
      "7 :     Name       Lee\n",
      "Age         34\n",
      "Rating    3.78\n",
      "Name: 7, dtype: object\n",
      "8 :     Name      David\n",
      "Age          40\n",
      "Rating     2.98\n",
      "Name: 8, dtype: object\n",
      "9 :     Name      Gasper\n",
      "Age           30\n",
      "Rating       4.8\n",
      "Name: 9, dtype: object\n",
      "10 :     Name      Betina\n",
      "Age           51\n",
      "Rating       4.1\n",
      "Name: 10, dtype: object\n",
      "11 :     Name      Andres\n",
      "Age           46\n",
      "Rating      3.65\n",
      "Name: 11, dtype: object\n"
     ]
    }
   ],
   "source": [
    "for row_index, row in df.iterrows():\n",
    "    print(row_index,':    ',row)"
   ]
  },
  {
   "cell_type": "markdown",
   "metadata": {},
   "source": [
    "itertuples()方法\n",
    "将为DataFrame中的每一行返回一个产生一个命名元组的迭代器。\n",
    "元组的第一个元素将是行的相应索引值，而剩余的值是行值。\n"
   ]
  },
  {
   "cell_type": "code",
   "execution_count": 58,
   "metadata": {},
   "outputs": [
    {
     "name": "stdout",
     "output_type": "stream",
     "text": [
      "Pandas(Index=0, Name='Tom', Age=25, Rating=4.23)\n",
      "Pandas(Index=1, Name='James', Age=26, Rating=3.24)\n",
      "Pandas(Index=2, Name='Ricky', Age=25, Rating=3.98)\n",
      "Pandas(Index=3, Name='Vin', Age=23, Rating=2.56)\n",
      "Pandas(Index=4, Name='Steve', Age=30, Rating=3.2)\n",
      "Pandas(Index=5, Name='Minsu', Age=29, Rating=4.6)\n",
      "Pandas(Index=6, Name='Jack', Age=23, Rating=3.8)\n",
      "Pandas(Index=7, Name='Lee', Age=34, Rating=3.78)\n",
      "Pandas(Index=8, Name='David', Age=40, Rating=2.98)\n",
      "Pandas(Index=9, Name='Gasper', Age=30, Rating=4.8)\n",
      "Pandas(Index=10, Name='Betina', Age=51, Rating=4.1)\n",
      "Pandas(Index=11, Name='Andres', Age=46, Rating=3.65)\n"
     ]
    }
   ],
   "source": [
    "for row in df.itertuples():\n",
    "    print(row)"
   ]
  },
  {
   "cell_type": "code",
   "execution_count": 71,
   "metadata": {},
   "outputs": [
    {
     "name": "stdout",
     "output_type": "stream",
     "text": [
      "       col1      col2      col3\n",
      "0  1.622171 -1.979461 -0.777134\n",
      "1 -0.636737 -1.391287  0.821626\n",
      "2 -0.195248  0.056652  0.011388\n",
      "3  1.943127 -0.800468 -0.436250 \n",
      "\n",
      "\n",
      "col1     1.622171\n",
      "col2    -1.979461\n",
      "col3    -0.777134\n",
      "col4    10.000000\n",
      "Name: 0, dtype: float64\n",
      "col1    -0.636737\n",
      "col2    -1.391287\n",
      "col3     0.821626\n",
      "col4    10.000000\n",
      "Name: 1, dtype: float64\n",
      "col1    -0.195248\n",
      "col2     0.056652\n",
      "col3     0.011388\n",
      "col4    10.000000\n",
      "Name: 2, dtype: float64\n",
      "col1     1.943127\n",
      "col2    -0.800468\n",
      "col3    -0.436250\n",
      "col4    10.000000\n",
      "Name: 3, dtype: float64\n",
      "       col1      col2      col3\n",
      "0  1.622171 -1.979461 -0.777134\n",
      "1 -0.636737 -1.391287  0.821626\n",
      "2 -0.195248  0.056652  0.011388\n",
      "3  1.943127 -0.800468 -0.436250\n",
      "12\n"
     ]
    }
   ],
   "source": [
    "df = pd.DataFrame(np.random.randn(4,3),columns = ['col1','col2','col3'])\n",
    "print(df,'\\n\\n')\n",
    "for index, row in df.iterrows():\n",
    "#     print(index,row)\n",
    "    row['col4'] = 10\n",
    "    print(row)\n",
    "print (df)\n",
    "print(df.size)\n",
    "\n",
    "#注意到df本身并没有改变"
   ]
  },
  {
   "cell_type": "markdown",
   "metadata": {},
   "source": [
    "# pandas排序"
   ]
  },
  {
   "cell_type": "markdown",
   "metadata": {},
   "source": [
    "### Pandas有两种排序方式，它们分别是 - 按标签和按实际值"
   ]
  },
  {
   "cell_type": "code",
   "execution_count": 87,
   "metadata": {},
   "outputs": [
    {
     "data": {
      "text/html": [
       "<div>\n",
       "<style scoped>\n",
       "    .dataframe tbody tr th:only-of-type {\n",
       "        vertical-align: middle;\n",
       "    }\n",
       "\n",
       "    .dataframe tbody tr th {\n",
       "        vertical-align: top;\n",
       "    }\n",
       "\n",
       "    .dataframe thead th {\n",
       "        text-align: right;\n",
       "    }\n",
       "</style>\n",
       "<table border=\"1\" class=\"dataframe\">\n",
       "  <thead>\n",
       "    <tr style=\"text-align: right;\">\n",
       "      <th></th>\n",
       "      <th>a</th>\n",
       "      <th>b</th>\n",
       "      <th>e</th>\n",
       "      <th>d</th>\n",
       "      <th>c</th>\n",
       "    </tr>\n",
       "  </thead>\n",
       "  <tbody>\n",
       "    <tr>\n",
       "      <th>1</th>\n",
       "      <td>-1.730522</td>\n",
       "      <td>-0.339337</td>\n",
       "      <td>2.635157</td>\n",
       "      <td>1.964439</td>\n",
       "      <td>-0.742851</td>\n",
       "    </tr>\n",
       "    <tr>\n",
       "      <th>4</th>\n",
       "      <td>-0.610626</td>\n",
       "      <td>-0.209742</td>\n",
       "      <td>-0.682384</td>\n",
       "      <td>-0.823523</td>\n",
       "      <td>1.073104</td>\n",
       "    </tr>\n",
       "    <tr>\n",
       "      <th>5</th>\n",
       "      <td>0.166566</td>\n",
       "      <td>-1.334454</td>\n",
       "      <td>-0.598731</td>\n",
       "      <td>-0.493735</td>\n",
       "      <td>0.261229</td>\n",
       "    </tr>\n",
       "    <tr>\n",
       "      <th>6</th>\n",
       "      <td>-0.396900</td>\n",
       "      <td>-0.291240</td>\n",
       "      <td>0.226792</td>\n",
       "      <td>-0.619079</td>\n",
       "      <td>0.354057</td>\n",
       "    </tr>\n",
       "    <tr>\n",
       "      <th>7</th>\n",
       "      <td>0.992135</td>\n",
       "      <td>-0.353563</td>\n",
       "      <td>0.899391</td>\n",
       "      <td>0.303107</td>\n",
       "      <td>0.915933</td>\n",
       "    </tr>\n",
       "    <tr>\n",
       "      <th>8</th>\n",
       "      <td>-0.879595</td>\n",
       "      <td>0.628722</td>\n",
       "      <td>0.487683</td>\n",
       "      <td>-1.072534</td>\n",
       "      <td>0.297231</td>\n",
       "    </tr>\n",
       "    <tr>\n",
       "      <th>2</th>\n",
       "      <td>-0.031485</td>\n",
       "      <td>1.443466</td>\n",
       "      <td>-0.500327</td>\n",
       "      <td>0.372363</td>\n",
       "      <td>-0.639242</td>\n",
       "    </tr>\n",
       "    <tr>\n",
       "      <th>3</th>\n",
       "      <td>0.233166</td>\n",
       "      <td>-0.042166</td>\n",
       "      <td>0.084591</td>\n",
       "      <td>0.477007</td>\n",
       "      <td>-0.316974</td>\n",
       "    </tr>\n",
       "  </tbody>\n",
       "</table>\n",
       "</div>"
      ],
      "text/plain": [
       "          a         b         e         d         c\n",
       "1 -1.730522 -0.339337  2.635157  1.964439 -0.742851\n",
       "4 -0.610626 -0.209742 -0.682384 -0.823523  1.073104\n",
       "5  0.166566 -1.334454 -0.598731 -0.493735  0.261229\n",
       "6 -0.396900 -0.291240  0.226792 -0.619079  0.354057\n",
       "7  0.992135 -0.353563  0.899391  0.303107  0.915933\n",
       "8 -0.879595  0.628722  0.487683 -1.072534  0.297231\n",
       "2 -0.031485  1.443466 -0.500327  0.372363 -0.639242\n",
       "3  0.233166 -0.042166  0.084591  0.477007 -0.316974"
      ]
     },
     "execution_count": 87,
     "metadata": {},
     "output_type": "execute_result"
    }
   ],
   "source": [
    "unsorted_df = DataFrame(np.random.randn(8,5),columns = ['a','b','e','d','c'],index = [1,4,5,6,7,8,2,3])\n",
    "unsorted_df"
   ]
  },
  {
   "cell_type": "markdown",
   "metadata": {},
   "source": [
    "## 按标签排序"
   ]
  },
  {
   "cell_type": "code",
   "execution_count": 88,
   "metadata": {},
   "outputs": [
    {
     "data": {
      "text/html": [
       "<div>\n",
       "<style scoped>\n",
       "    .dataframe tbody tr th:only-of-type {\n",
       "        vertical-align: middle;\n",
       "    }\n",
       "\n",
       "    .dataframe tbody tr th {\n",
       "        vertical-align: top;\n",
       "    }\n",
       "\n",
       "    .dataframe thead th {\n",
       "        text-align: right;\n",
       "    }\n",
       "</style>\n",
       "<table border=\"1\" class=\"dataframe\">\n",
       "  <thead>\n",
       "    <tr style=\"text-align: right;\">\n",
       "      <th></th>\n",
       "      <th>a</th>\n",
       "      <th>b</th>\n",
       "      <th>c</th>\n",
       "      <th>d</th>\n",
       "      <th>e</th>\n",
       "    </tr>\n",
       "  </thead>\n",
       "  <tbody>\n",
       "    <tr>\n",
       "      <th>1</th>\n",
       "      <td>-1.730522</td>\n",
       "      <td>-0.339337</td>\n",
       "      <td>-0.742851</td>\n",
       "      <td>1.964439</td>\n",
       "      <td>2.635157</td>\n",
       "    </tr>\n",
       "    <tr>\n",
       "      <th>4</th>\n",
       "      <td>-0.610626</td>\n",
       "      <td>-0.209742</td>\n",
       "      <td>1.073104</td>\n",
       "      <td>-0.823523</td>\n",
       "      <td>-0.682384</td>\n",
       "    </tr>\n",
       "    <tr>\n",
       "      <th>5</th>\n",
       "      <td>0.166566</td>\n",
       "      <td>-1.334454</td>\n",
       "      <td>0.261229</td>\n",
       "      <td>-0.493735</td>\n",
       "      <td>-0.598731</td>\n",
       "    </tr>\n",
       "    <tr>\n",
       "      <th>6</th>\n",
       "      <td>-0.396900</td>\n",
       "      <td>-0.291240</td>\n",
       "      <td>0.354057</td>\n",
       "      <td>-0.619079</td>\n",
       "      <td>0.226792</td>\n",
       "    </tr>\n",
       "    <tr>\n",
       "      <th>7</th>\n",
       "      <td>0.992135</td>\n",
       "      <td>-0.353563</td>\n",
       "      <td>0.915933</td>\n",
       "      <td>0.303107</td>\n",
       "      <td>0.899391</td>\n",
       "    </tr>\n",
       "    <tr>\n",
       "      <th>8</th>\n",
       "      <td>-0.879595</td>\n",
       "      <td>0.628722</td>\n",
       "      <td>0.297231</td>\n",
       "      <td>-1.072534</td>\n",
       "      <td>0.487683</td>\n",
       "    </tr>\n",
       "    <tr>\n",
       "      <th>2</th>\n",
       "      <td>-0.031485</td>\n",
       "      <td>1.443466</td>\n",
       "      <td>-0.639242</td>\n",
       "      <td>0.372363</td>\n",
       "      <td>-0.500327</td>\n",
       "    </tr>\n",
       "    <tr>\n",
       "      <th>3</th>\n",
       "      <td>0.233166</td>\n",
       "      <td>-0.042166</td>\n",
       "      <td>-0.316974</td>\n",
       "      <td>0.477007</td>\n",
       "      <td>0.084591</td>\n",
       "    </tr>\n",
       "  </tbody>\n",
       "</table>\n",
       "</div>"
      ],
      "text/plain": [
       "          a         b         c         d         e\n",
       "1 -1.730522 -0.339337 -0.742851  1.964439  2.635157\n",
       "4 -0.610626 -0.209742  1.073104 -0.823523 -0.682384\n",
       "5  0.166566 -1.334454  0.261229 -0.493735 -0.598731\n",
       "6 -0.396900 -0.291240  0.354057 -0.619079  0.226792\n",
       "7  0.992135 -0.353563  0.915933  0.303107  0.899391\n",
       "8 -0.879595  0.628722  0.297231 -1.072534  0.487683\n",
       "2 -0.031485  1.443466 -0.639242  0.372363 -0.500327\n",
       "3  0.233166 -0.042166 -0.316974  0.477007  0.084591"
      ]
     },
     "execution_count": 88,
     "metadata": {},
     "output_type": "execute_result"
    }
   ],
   "source": [
    "sort_df = unsorted_df.sort_index(1)#通过传递axis参数值为0或1，可以对列标签进行排序。 默认情况下，axis = 0，逐行排列\n",
    "sort_df"
   ]
  },
  {
   "cell_type": "code",
   "execution_count": 89,
   "metadata": {},
   "outputs": [
    {
     "data": {
      "text/html": [
       "<div>\n",
       "<style scoped>\n",
       "    .dataframe tbody tr th:only-of-type {\n",
       "        vertical-align: middle;\n",
       "    }\n",
       "\n",
       "    .dataframe tbody tr th {\n",
       "        vertical-align: top;\n",
       "    }\n",
       "\n",
       "    .dataframe thead th {\n",
       "        text-align: right;\n",
       "    }\n",
       "</style>\n",
       "<table border=\"1\" class=\"dataframe\">\n",
       "  <thead>\n",
       "    <tr style=\"text-align: right;\">\n",
       "      <th></th>\n",
       "      <th>a</th>\n",
       "      <th>b</th>\n",
       "      <th>e</th>\n",
       "      <th>d</th>\n",
       "      <th>c</th>\n",
       "    </tr>\n",
       "  </thead>\n",
       "  <tbody>\n",
       "    <tr>\n",
       "      <th>1</th>\n",
       "      <td>-1.730522</td>\n",
       "      <td>-0.339337</td>\n",
       "      <td>2.635157</td>\n",
       "      <td>1.964439</td>\n",
       "      <td>-0.742851</td>\n",
       "    </tr>\n",
       "    <tr>\n",
       "      <th>2</th>\n",
       "      <td>-0.031485</td>\n",
       "      <td>1.443466</td>\n",
       "      <td>-0.500327</td>\n",
       "      <td>0.372363</td>\n",
       "      <td>-0.639242</td>\n",
       "    </tr>\n",
       "    <tr>\n",
       "      <th>3</th>\n",
       "      <td>0.233166</td>\n",
       "      <td>-0.042166</td>\n",
       "      <td>0.084591</td>\n",
       "      <td>0.477007</td>\n",
       "      <td>-0.316974</td>\n",
       "    </tr>\n",
       "    <tr>\n",
       "      <th>4</th>\n",
       "      <td>-0.610626</td>\n",
       "      <td>-0.209742</td>\n",
       "      <td>-0.682384</td>\n",
       "      <td>-0.823523</td>\n",
       "      <td>1.073104</td>\n",
       "    </tr>\n",
       "    <tr>\n",
       "      <th>5</th>\n",
       "      <td>0.166566</td>\n",
       "      <td>-1.334454</td>\n",
       "      <td>-0.598731</td>\n",
       "      <td>-0.493735</td>\n",
       "      <td>0.261229</td>\n",
       "    </tr>\n",
       "    <tr>\n",
       "      <th>6</th>\n",
       "      <td>-0.396900</td>\n",
       "      <td>-0.291240</td>\n",
       "      <td>0.226792</td>\n",
       "      <td>-0.619079</td>\n",
       "      <td>0.354057</td>\n",
       "    </tr>\n",
       "    <tr>\n",
       "      <th>7</th>\n",
       "      <td>0.992135</td>\n",
       "      <td>-0.353563</td>\n",
       "      <td>0.899391</td>\n",
       "      <td>0.303107</td>\n",
       "      <td>0.915933</td>\n",
       "    </tr>\n",
       "    <tr>\n",
       "      <th>8</th>\n",
       "      <td>-0.879595</td>\n",
       "      <td>0.628722</td>\n",
       "      <td>0.487683</td>\n",
       "      <td>-1.072534</td>\n",
       "      <td>0.297231</td>\n",
       "    </tr>\n",
       "  </tbody>\n",
       "</table>\n",
       "</div>"
      ],
      "text/plain": [
       "          a         b         e         d         c\n",
       "1 -1.730522 -0.339337  2.635157  1.964439 -0.742851\n",
       "2 -0.031485  1.443466 -0.500327  0.372363 -0.639242\n",
       "3  0.233166 -0.042166  0.084591  0.477007 -0.316974\n",
       "4 -0.610626 -0.209742 -0.682384 -0.823523  1.073104\n",
       "5  0.166566 -1.334454 -0.598731 -0.493735  0.261229\n",
       "6 -0.396900 -0.291240  0.226792 -0.619079  0.354057\n",
       "7  0.992135 -0.353563  0.899391  0.303107  0.915933\n",
       "8 -0.879595  0.628722  0.487683 -1.072534  0.297231"
      ]
     },
     "execution_count": 89,
     "metadata": {},
     "output_type": "execute_result"
    }
   ],
   "source": [
    "sort_df = unsorted_df.sort_index()\n",
    "sort_df"
   ]
  },
  {
   "cell_type": "markdown",
   "metadata": {},
   "source": [
    "## 按值排序\n",
    "#### 像索引排序一样，sort_values()是按值排序的方法。它接受一个by参数，它将使用要与其排序值的DataFrame的列名称。\n"
   ]
  },
  {
   "cell_type": "code",
   "execution_count": 97,
   "metadata": {},
   "outputs": [
    {
     "data": {
      "text/html": [
       "<div>\n",
       "<style scoped>\n",
       "    .dataframe tbody tr th:only-of-type {\n",
       "        vertical-align: middle;\n",
       "    }\n",
       "\n",
       "    .dataframe tbody tr th {\n",
       "        vertical-align: top;\n",
       "    }\n",
       "\n",
       "    .dataframe thead th {\n",
       "        text-align: right;\n",
       "    }\n",
       "</style>\n",
       "<table border=\"1\" class=\"dataframe\">\n",
       "  <thead>\n",
       "    <tr style=\"text-align: right;\">\n",
       "      <th></th>\n",
       "      <th>a</th>\n",
       "      <th>b</th>\n",
       "      <th>e</th>\n",
       "      <th>d</th>\n",
       "      <th>c</th>\n",
       "    </tr>\n",
       "  </thead>\n",
       "  <tbody>\n",
       "    <tr>\n",
       "      <th>8</th>\n",
       "      <td>-0.879595</td>\n",
       "      <td>0.628722</td>\n",
       "      <td>0.487683</td>\n",
       "      <td>-1.072534</td>\n",
       "      <td>0.297231</td>\n",
       "    </tr>\n",
       "    <tr>\n",
       "      <th>4</th>\n",
       "      <td>-0.610626</td>\n",
       "      <td>-0.209742</td>\n",
       "      <td>-0.682384</td>\n",
       "      <td>-0.823523</td>\n",
       "      <td>1.073104</td>\n",
       "    </tr>\n",
       "    <tr>\n",
       "      <th>6</th>\n",
       "      <td>-0.396900</td>\n",
       "      <td>-0.291240</td>\n",
       "      <td>0.226792</td>\n",
       "      <td>-0.619079</td>\n",
       "      <td>0.354057</td>\n",
       "    </tr>\n",
       "    <tr>\n",
       "      <th>5</th>\n",
       "      <td>0.166566</td>\n",
       "      <td>-1.334454</td>\n",
       "      <td>-0.598731</td>\n",
       "      <td>-0.493735</td>\n",
       "      <td>0.261229</td>\n",
       "    </tr>\n",
       "    <tr>\n",
       "      <th>7</th>\n",
       "      <td>0.992135</td>\n",
       "      <td>-0.353563</td>\n",
       "      <td>0.899391</td>\n",
       "      <td>0.303107</td>\n",
       "      <td>0.915933</td>\n",
       "    </tr>\n",
       "    <tr>\n",
       "      <th>2</th>\n",
       "      <td>-0.031485</td>\n",
       "      <td>1.443466</td>\n",
       "      <td>-0.500327</td>\n",
       "      <td>0.372363</td>\n",
       "      <td>-0.639242</td>\n",
       "    </tr>\n",
       "    <tr>\n",
       "      <th>3</th>\n",
       "      <td>0.233166</td>\n",
       "      <td>-0.042166</td>\n",
       "      <td>0.084591</td>\n",
       "      <td>0.477007</td>\n",
       "      <td>-0.316974</td>\n",
       "    </tr>\n",
       "    <tr>\n",
       "      <th>1</th>\n",
       "      <td>-1.730522</td>\n",
       "      <td>-0.339337</td>\n",
       "      <td>2.635157</td>\n",
       "      <td>1.964439</td>\n",
       "      <td>-0.742851</td>\n",
       "    </tr>\n",
       "  </tbody>\n",
       "</table>\n",
       "</div>"
      ],
      "text/plain": [
       "          a         b         e         d         c\n",
       "8 -0.879595  0.628722  0.487683 -1.072534  0.297231\n",
       "4 -0.610626 -0.209742 -0.682384 -0.823523  1.073104\n",
       "6 -0.396900 -0.291240  0.226792 -0.619079  0.354057\n",
       "5  0.166566 -1.334454 -0.598731 -0.493735  0.261229\n",
       "7  0.992135 -0.353563  0.899391  0.303107  0.915933\n",
       "2 -0.031485  1.443466 -0.500327  0.372363 -0.639242\n",
       "3  0.233166 -0.042166  0.084591  0.477007 -0.316974\n",
       "1 -1.730522 -0.339337  2.635157  1.964439 -0.742851"
      ]
     },
     "execution_count": 97,
     "metadata": {},
     "output_type": "execute_result"
    }
   ],
   "source": [
    "sort_df = unsorted_df.sort_values('d')\n",
    "sort_df"
   ]
  },
  {
   "cell_type": "code",
   "execution_count": 94,
   "metadata": {},
   "outputs": [
    {
     "data": {
      "text/html": [
       "<div>\n",
       "<style scoped>\n",
       "    .dataframe tbody tr th:only-of-type {\n",
       "        vertical-align: middle;\n",
       "    }\n",
       "\n",
       "    .dataframe tbody tr th {\n",
       "        vertical-align: top;\n",
       "    }\n",
       "\n",
       "    .dataframe thead th {\n",
       "        text-align: right;\n",
       "    }\n",
       "</style>\n",
       "<table border=\"1\" class=\"dataframe\">\n",
       "  <thead>\n",
       "    <tr style=\"text-align: right;\">\n",
       "      <th></th>\n",
       "      <th>a</th>\n",
       "      <th>b</th>\n",
       "      <th>e</th>\n",
       "      <th>d</th>\n",
       "      <th>c</th>\n",
       "    </tr>\n",
       "  </thead>\n",
       "  <tbody>\n",
       "    <tr>\n",
       "      <th>8</th>\n",
       "      <td>-0.879595</td>\n",
       "      <td>0.628722</td>\n",
       "      <td>0.487683</td>\n",
       "      <td>-1.072534</td>\n",
       "      <td>0.297231</td>\n",
       "    </tr>\n",
       "    <tr>\n",
       "      <th>4</th>\n",
       "      <td>-0.610626</td>\n",
       "      <td>-0.209742</td>\n",
       "      <td>-0.682384</td>\n",
       "      <td>-0.823523</td>\n",
       "      <td>1.073104</td>\n",
       "    </tr>\n",
       "    <tr>\n",
       "      <th>6</th>\n",
       "      <td>-0.396900</td>\n",
       "      <td>-0.291240</td>\n",
       "      <td>0.226792</td>\n",
       "      <td>-0.619079</td>\n",
       "      <td>0.354057</td>\n",
       "    </tr>\n",
       "    <tr>\n",
       "      <th>5</th>\n",
       "      <td>0.166566</td>\n",
       "      <td>-1.334454</td>\n",
       "      <td>-0.598731</td>\n",
       "      <td>-0.493735</td>\n",
       "      <td>0.261229</td>\n",
       "    </tr>\n",
       "    <tr>\n",
       "      <th>7</th>\n",
       "      <td>0.992135</td>\n",
       "      <td>-0.353563</td>\n",
       "      <td>0.899391</td>\n",
       "      <td>0.303107</td>\n",
       "      <td>0.915933</td>\n",
       "    </tr>\n",
       "    <tr>\n",
       "      <th>2</th>\n",
       "      <td>-0.031485</td>\n",
       "      <td>1.443466</td>\n",
       "      <td>-0.500327</td>\n",
       "      <td>0.372363</td>\n",
       "      <td>-0.639242</td>\n",
       "    </tr>\n",
       "    <tr>\n",
       "      <th>3</th>\n",
       "      <td>0.233166</td>\n",
       "      <td>-0.042166</td>\n",
       "      <td>0.084591</td>\n",
       "      <td>0.477007</td>\n",
       "      <td>-0.316974</td>\n",
       "    </tr>\n",
       "    <tr>\n",
       "      <th>1</th>\n",
       "      <td>-1.730522</td>\n",
       "      <td>-0.339337</td>\n",
       "      <td>2.635157</td>\n",
       "      <td>1.964439</td>\n",
       "      <td>-0.742851</td>\n",
       "    </tr>\n",
       "  </tbody>\n",
       "</table>\n",
       "</div>"
      ],
      "text/plain": [
       "          a         b         e         d         c\n",
       "8 -0.879595  0.628722  0.487683 -1.072534  0.297231\n",
       "4 -0.610626 -0.209742 -0.682384 -0.823523  1.073104\n",
       "6 -0.396900 -0.291240  0.226792 -0.619079  0.354057\n",
       "5  0.166566 -1.334454 -0.598731 -0.493735  0.261229\n",
       "7  0.992135 -0.353563  0.899391  0.303107  0.915933\n",
       "2 -0.031485  1.443466 -0.500327  0.372363 -0.639242\n",
       "3  0.233166 -0.042166  0.084591  0.477007 -0.316974\n",
       "1 -1.730522 -0.339337  2.635157  1.964439 -0.742851"
      ]
     },
     "execution_count": 94,
     "metadata": {},
     "output_type": "execute_result"
    }
   ],
   "source": [
    "sort_df = unsorted_df.sort_values(by =['d','e'])\n",
    "sort_df"
   ]
  },
  {
   "cell_type": "markdown",
   "metadata": {},
   "source": [
    "Signature:\n",
    "unsorted_df.sort_values(\n",
    "    by,\n",
    "    axis=0,\n",
    "    ascending=True,\n",
    "    inplace=False,\n",
    "    kind='quicksort',\n",
    "    na_position='last',\n",
    ")"
   ]
  },
  {
   "cell_type": "code",
   "execution_count": 96,
   "metadata": {},
   "outputs": [
    {
     "data": {
      "text/html": [
       "<div>\n",
       "<style scoped>\n",
       "    .dataframe tbody tr th:only-of-type {\n",
       "        vertical-align: middle;\n",
       "    }\n",
       "\n",
       "    .dataframe tbody tr th {\n",
       "        vertical-align: top;\n",
       "    }\n",
       "\n",
       "    .dataframe thead th {\n",
       "        text-align: right;\n",
       "    }\n",
       "</style>\n",
       "<table border=\"1\" class=\"dataframe\">\n",
       "  <thead>\n",
       "    <tr style=\"text-align: right;\">\n",
       "      <th></th>\n",
       "      <th>a</th>\n",
       "      <th>b</th>\n",
       "      <th>e</th>\n",
       "      <th>d</th>\n",
       "      <th>c</th>\n",
       "    </tr>\n",
       "  </thead>\n",
       "  <tbody>\n",
       "    <tr>\n",
       "      <th>1</th>\n",
       "      <td>-1.730522</td>\n",
       "      <td>-0.339337</td>\n",
       "      <td>2.635157</td>\n",
       "      <td>1.964439</td>\n",
       "      <td>-0.742851</td>\n",
       "    </tr>\n",
       "    <tr>\n",
       "      <th>3</th>\n",
       "      <td>0.233166</td>\n",
       "      <td>-0.042166</td>\n",
       "      <td>0.084591</td>\n",
       "      <td>0.477007</td>\n",
       "      <td>-0.316974</td>\n",
       "    </tr>\n",
       "    <tr>\n",
       "      <th>2</th>\n",
       "      <td>-0.031485</td>\n",
       "      <td>1.443466</td>\n",
       "      <td>-0.500327</td>\n",
       "      <td>0.372363</td>\n",
       "      <td>-0.639242</td>\n",
       "    </tr>\n",
       "    <tr>\n",
       "      <th>7</th>\n",
       "      <td>0.992135</td>\n",
       "      <td>-0.353563</td>\n",
       "      <td>0.899391</td>\n",
       "      <td>0.303107</td>\n",
       "      <td>0.915933</td>\n",
       "    </tr>\n",
       "    <tr>\n",
       "      <th>5</th>\n",
       "      <td>0.166566</td>\n",
       "      <td>-1.334454</td>\n",
       "      <td>-0.598731</td>\n",
       "      <td>-0.493735</td>\n",
       "      <td>0.261229</td>\n",
       "    </tr>\n",
       "    <tr>\n",
       "      <th>6</th>\n",
       "      <td>-0.396900</td>\n",
       "      <td>-0.291240</td>\n",
       "      <td>0.226792</td>\n",
       "      <td>-0.619079</td>\n",
       "      <td>0.354057</td>\n",
       "    </tr>\n",
       "    <tr>\n",
       "      <th>4</th>\n",
       "      <td>-0.610626</td>\n",
       "      <td>-0.209742</td>\n",
       "      <td>-0.682384</td>\n",
       "      <td>-0.823523</td>\n",
       "      <td>1.073104</td>\n",
       "    </tr>\n",
       "    <tr>\n",
       "      <th>8</th>\n",
       "      <td>-0.879595</td>\n",
       "      <td>0.628722</td>\n",
       "      <td>0.487683</td>\n",
       "      <td>-1.072534</td>\n",
       "      <td>0.297231</td>\n",
       "    </tr>\n",
       "  </tbody>\n",
       "</table>\n",
       "</div>"
      ],
      "text/plain": [
       "          a         b         e         d         c\n",
       "1 -1.730522 -0.339337  2.635157  1.964439 -0.742851\n",
       "3  0.233166 -0.042166  0.084591  0.477007 -0.316974\n",
       "2 -0.031485  1.443466 -0.500327  0.372363 -0.639242\n",
       "7  0.992135 -0.353563  0.899391  0.303107  0.915933\n",
       "5  0.166566 -1.334454 -0.598731 -0.493735  0.261229\n",
       "6 -0.396900 -0.291240  0.226792 -0.619079  0.354057\n",
       "4 -0.610626 -0.209742 -0.682384 -0.823523  1.073104\n",
       "8 -0.879595  0.628722  0.487683 -1.072534  0.297231"
      ]
     },
     "execution_count": 96,
     "metadata": {},
     "output_type": "execute_result"
    }
   ],
   "source": [
    "sort_df = unsorted_df.sort_values(by =['d',],ascending=False)#按下降顺序\n",
    "sort_df"
   ]
  },
  {
   "cell_type": "markdown",
   "metadata": {},
   "source": [
    "https://www.yiibai.com/pandas/python_pandas_working_with_text_data.html#article-start"
   ]
  },
  {
   "cell_type": "markdown",
   "metadata": {},
   "source": [
    "# Pandas选项和自定义"
   ]
  },
  {
   "cell_type": "markdown",
   "metadata": {},
   "source": [
    "Pandas提供API来自定义其行为的某些方面，大多使用来显示。\n",
    "API由五个相关函数组成。它们分别是 -\n",
    "\n",
    "get_option()set_option()reset_option()describe_option()option_context()"
   ]
  },
  {
   "cell_type": "code",
   "execution_count": 101,
   "metadata": {},
   "outputs": [
    {
     "name": "stdout",
     "output_type": "stream",
     "text": [
      "display.max_rows =  60\n"
     ]
    }
   ],
   "source": [
    "import pandas as pd\n",
    "print (\"display.max_rows = \", pd.get_option(\"display.max_rows\"))"
   ]
  },
  {
   "cell_type": "code",
   "execution_count": 108,
   "metadata": {},
   "outputs": [
    {
     "name": "stdout",
     "output_type": "stream",
     "text": [
      "display.max_columns =  20\n"
     ]
    }
   ],
   "source": [
    "print (\"display.max_columns = \", pd.get_option(\"display.max_columns\"))"
   ]
  },
  {
   "cell_type": "code",
   "execution_count": 116,
   "metadata": {},
   "outputs": [
    {
     "name": "stdout",
     "output_type": "stream",
     "text": [
      "display.max_columns =  None\n",
      "display.max_columns =  60\n"
     ]
    }
   ],
   "source": [
    "print (\"display.max_columns = \", pd.set_option(\"display.max_columns\",60))\n",
    "print (\"display.max_columns = \", pd.get_option(\"display.max_columns\"))"
   ]
  },
  {
   "cell_type": "markdown",
   "metadata": {},
   "source": [
    "# Pandas索引和选择数据\n"
   ]
  },
  {
   "cell_type": "markdown",
   "metadata": {},
   "source": [
    "Pandas现在支持三种类型的多轴索引:\n",
    "\n",
    "1  \n",
    ".loc[]\n",
    "基于标签\n",
    "\n",
    "2  \n",
    ".iloc[]\n",
    "基于整数\n",
    "\n",
    "3  \n",
    ".ix[]\n",
    "基于标签和整数\n"
   ]
  },
  {
   "cell_type": "markdown",
   "metadata": {},
   "source": [
    "loc需要两个单/列表/范围运算符，用\",\"分隔。第一个表示行，第二个表示列。\n"
   ]
  },
  {
   "cell_type": "markdown",
   "metadata": {},
   "source": [
    "使用多轴索引从Pandas对象获取值可使用以下符号 -\n",
    "\n",
    "\n",
    "Series   \n",
    "s.loc[indexer]\n",
    "标量值\n",
    "\n",
    "\n",
    "DataFrame   \n",
    "df.loc[row_index,col_index]\n",
    "标量对象\n",
    "\n",
    "\n",
    "Panel     \n",
    "p.loc[item_index,major_index, minor_index]\n"
   ]
  },
  {
   "cell_type": "markdown",
   "metadata": {},
   "source": [
    ".loc[]具有多种访问方式，如 -\n",
    "\n",
    "单个标量标签/  标签列表/  切片对象/   一个布尔数组\n",
    "loc需要两个单/列表/范围运算符，用\",\"分隔。第一个表示行，第二个表示列。\n",
    "\n",
    "\n"
   ]
  },
  {
   "cell_type": "code",
   "execution_count": 122,
   "metadata": {},
   "outputs": [
    {
     "name": "stdout",
     "output_type": "stream",
     "text": [
      "a    1.203913\n",
      "b   -0.362126\n",
      "c   -1.867212\n",
      "d    0.866891\n",
      "e   -0.356574\n",
      "f    1.975950\n",
      "g    0.062863\n",
      "h   -0.450279\n",
      "Name: A, dtype: float64\n"
     ]
    }
   ],
   "source": [
    "\n",
    "df = DataFrame(np.random.randn(8, 4),\n",
    "index = ['a','b','c','d','e','f','g','h'], columns = ['A', 'B', 'C', 'D'])\n",
    "\n",
    "#select all rows for a specific column\n",
    "print (df.loc[:,'A'])"
   ]
  },
  {
   "cell_type": "code",
   "execution_count": 125,
   "metadata": {},
   "outputs": [
    {
     "name": "stdout",
     "output_type": "stream",
     "text": [
      "          A         C\n",
      "a  1.203913 -1.203222\n",
      "b -0.362126 -0.438456\n",
      "f  1.975950 -0.329974\n",
      "h -0.450279  1.634640\n",
      "          A         C\n",
      "a  1.203913 -1.203222\n",
      "b -0.362126 -0.438456\n",
      "c -1.867212  0.202624\n",
      "d  0.866891 -0.457662\n",
      "e -0.356574 -0.688285\n",
      "f  1.975950 -0.329974\n",
      "g  0.062863 -0.622442\n",
      "h -0.450279  1.634640\n"
     ]
    }
   ],
   "source": [
    "print (df.loc[['a','b','f','h'],['A','C']])\n",
    "# Select all rows for multiple columns, say list[]\n",
    "print (df.loc[:, ['A','C']])"
   ]
  },
  {
   "cell_type": "code",
   "execution_count": 147,
   "metadata": {},
   "outputs": [
    {
     "name": "stdout",
     "output_type": "stream",
     "text": [
      "          A         B         C         D\n",
      "a  1.203913 -0.823357 -1.203222 -0.760211\n",
      "b -0.362126 -2.192343 -0.438456  0.321756\n",
      "c -1.867212 -0.296679  0.202624 -0.251226\n",
      "d  0.866891  2.567247 -0.457662 -1.534597\n",
      "e -0.356574  0.860418 -0.688285 -0.401064\n",
      "f  1.975950 -1.544931 -0.329974  1.821399\n",
      "g  0.062863 -0.427669 -0.622442 -0.867116\n"
     ]
    }
   ],
   "source": [
    "print(df.loc['a':'g'])"
   ]
  },
  {
   "cell_type": "code",
   "execution_count": 136,
   "metadata": {},
   "outputs": [
    {
     "name": "stdout",
     "output_type": "stream",
     "text": [
      "A     True\n",
      "B    False\n",
      "C    False\n",
      "D    False\n",
      "Name: a, dtype: bool\n"
     ]
    }
   ],
   "source": [
    "print (df.loc['a']>0)\n"
   ]
  },
  {
   "cell_type": "code",
   "execution_count": 138,
   "metadata": {},
   "outputs": [
    {
     "name": "stdout",
     "output_type": "stream",
     "text": [
      "a     True\n",
      "b    False\n",
      "c    False\n",
      "d     True\n",
      "e    False\n",
      "f     True\n",
      "g     True\n",
      "h    False\n",
      "Name: A, dtype: bool\n"
     ]
    }
   ],
   "source": [
    "print(df.loc[:,'A']>0)"
   ]
  },
  {
   "cell_type": "code",
   "execution_count": 139,
   "metadata": {},
   "outputs": [
    {
     "name": "stdout",
     "output_type": "stream",
     "text": [
      "          A         B         C         D\n",
      "a  1.203913 -0.823357 -1.203222 -0.760211\n",
      "c -1.867212 -0.296679  0.202624 -0.251226\n",
      "e -0.356574  0.860418 -0.688285 -0.401064\n"
     ]
    }
   ],
   "source": [
    "print(df.iloc[:6:2])"
   ]
  },
  {
   "cell_type": "code",
   "execution_count": 144,
   "metadata": {},
   "outputs": [
    {
     "name": "stdout",
     "output_type": "stream",
     "text": [
      "          D         C         B         A\n",
      "a -0.760211 -1.203222 -0.823357  1.203913\n",
      "c -0.251226  0.202624 -0.296679 -1.867212\n",
      "e -0.401064 -0.688285  0.860418 -0.356574\n"
     ]
    }
   ],
   "source": [
    "print(df.iloc[:6:2,::-1])"
   ]
  },
  {
   "cell_type": "markdown",
   "metadata": {},
   "source": [
    "# 统计函数"
   ]
  },
  {
   "cell_type": "markdown",
   "metadata": {},
   "source": [
    "## ptc_change（）函数"
   ]
  },
  {
   "cell_type": "markdown",
   "metadata": {},
   "source": [
    "将每个值和前一个值做比较，并计算百分比。"
   ]
  },
  {
   "cell_type": "code",
   "execution_count": null,
   "metadata": {},
   "outputs": [],
   "source": [
    "import numpy as np\n",
    "import pandas as pd\n",
    "\n",
    "pd5 = pd.DataFrame(np.random.randint())"
   ]
  }
 ],
 "metadata": {
  "kernelspec": {
   "display_name": "Python 3",
   "language": "python",
   "name": "python3"
  },
  "language_info": {
   "codemirror_mode": {
    "name": "ipython",
    "version": 3
   },
   "file_extension": ".py",
   "mimetype": "text/x-python",
   "name": "python",
   "nbconvert_exporter": "python",
   "pygments_lexer": "ipython3",
   "version": "3.7.3"
  }
 },
 "nbformat": 4,
 "nbformat_minor": 2
}
